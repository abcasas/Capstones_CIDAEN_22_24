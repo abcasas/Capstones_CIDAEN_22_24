{
 "cells": [
  {
   "cell_type": "markdown",
   "metadata": {},
   "source": [
    "<img src=\"img/mCIDaeNnb.png\" alt=\"Logo CiDAEN\" align=\"right\">\n",
    "\n",
    "\n",
    "\n",
    "\n",
    "<br><br><br>\n",
    "<h2><font color=\"#00586D\" size=4>Módulo 7</font></h2>\n",
    "\n",
    "\n",
    "\n",
    "<h1><font color=\"#00586D\" size=5>Capstone 7. Parte 2: Pronóstico de demanda eléctrica</font></h1>\n",
    "\n",
    "<br><br><br>\n",
    "<div style=\"text-align: right\">\n",
    "<font color=\"#00586D\" size=3>Enrique González, Luis de la Ossa</font><br>\n",
    "<font color=\"#00586D\" size=3>Máster en Ciencia de Datos e Ingeniería de Datos en la Nube I </font><br>\n",
    "<font color=\"#00586D\" size=3>Universidad de Castilla-La Mancha</font>\n",
    "\n",
    "</div>"
   ]
  },
  {
   "cell_type": "markdown",
   "metadata": {},
   "source": [
    "---\n",
    "\n",
    "<a id=\"indice\"></a>\n",
    "<h2><font color=\"#00586D\" size=5>Índice</font></h2>\n",
    "\n",
    "\n",
    "* [1. Creación del modelo de pronóstico](#section1)\n",
    "* [2. Ingesta y visualización del pronóstico](#section2)"
   ]
  },
  {
   "cell_type": "code",
   "execution_count": 1,
   "metadata": {
    "tags": []
   },
   "outputs": [
    {
     "data": {
      "text/html": [
       "<style>.container { width:95% !important; }</style>"
      ],
      "text/plain": [
       "<IPython.core.display.HTML object>"
      ]
     },
     "metadata": {},
     "output_type": "display_data"
    }
   ],
   "source": [
    "import matplotlib.pyplot as plt\n",
    "from influxdb_client import InfluxDBClient, Point, WritePrecision\n",
    "from influxdb_client.client.write_api import SYNCHRONOUS\n",
    "import pandas as pd\n",
    "import numpy as np\n",
    "from sklearn.metrics import mean_absolute_error\n",
    "\n",
    "# Optimiza los gráficos para pantalla retina\n",
    "%config InlineBackend.figure_format = 'retina'\n",
    "# Por defecto usamos el backend inline\n",
    "%matplotlib inline\n",
    "\n",
    "# Oculta warnings\n",
    "import warnings\n",
    "warnings.simplefilter('ignore')\n",
    "\n",
    "# La libreta ocupa así el 95% de la pantalla\n",
    "from IPython.core.display import display, HTML\n",
    "display(HTML(\"<style>.container { width:95% !important; }</style>\"))"
   ]
  },
  {
   "cell_type": "markdown",
   "metadata": {},
   "source": [
    "En la siguiente parte del capstone crearéis un modelo de pronóstico a partir de los datos ingestados en InfluxDB e añadiréis el pronóstico a un día vista de vuelta a InfluxDB de forma que en el sistema prototipado se pueda ver el pronóstico del día. Específicamente, para la creación del modelo utilizaréis los datos hasta el último día completo de datos y el pronóstico incluirá el dia siguiente (que podrá tener datos o no en nuestro sistema, pero que no los usaremos para entrenar). "
   ]
  },
  {
   "cell_type": "markdown",
   "metadata": {},
   "source": [
    "---\n",
    "\n",
    "<a id=\"section1\"></a>\n",
    "## <font color=\"#00586D\"> 1. Creación del modelo de pronóstico</font>\n",
    "<br>"
   ]
  },
  {
   "cell_type": "markdown",
   "metadata": {},
   "source": [
    "Para la creación del modelo de pronóstico, necesitaremos descargarnos los datos de nuestra instancia para poder tener datos con los que entrenar. "
   ]
  },
  {
   "cell_type": "markdown",
   "metadata": {},
   "source": [
    "\n",
    "--- "
   ]
  },
  {
   "cell_type": "markdown",
   "metadata": {},
   "source": [
    "### <font color=\"#004D7F\"> <i class=\"fa fa-pencil-square-o\" aria-hidden=\"true\" style=\"color:#004D7F\"></i> Tarea 1</font>\n",
    "<br>\n",
    "\n",
    "Implementa la siguiente función que devuelve un DataFrame con todos los datos disponibles de demanda eléctrica almacenados en tu instancia de InfluxDB. Solo nos interesa la serie de demanda real, por lo que tendréis que filtrar el Forecast de red eléctrica usando Flux. \n",
    "\n",
    "Necesitaréis añadir la información de autenticación para vuestra instancia de InfluxDB a continuación. \n",
    "\n",
    "_Pista_: La práctica de InfluxDB que hicimos en este módulo os resultará útil para poder formar la consulta. "
   ]
  },
  {
   "cell_type": "code",
   "execution_count": 18,
   "metadata": {
    "tags": []
   },
   "outputs": [],
   "source": [
    "token = \"mcidaen_token\"\n",
    "org = \"mcidaen\"\n",
    "bucket = \"capstone7\"\n",
    "\n",
    "client = InfluxDBClient(url=\"http://influxdb:8086\", token=token)"
   ]
  },
  {
   "cell_type": "code",
   "execution_count": 34,
   "metadata": {
    "tags": []
   },
   "outputs": [],
   "source": [
    "def load_from_influxdb(client: InfluxDBClient, bucket: str, org: str) -> pd.DataFrame:\n",
    "    \"\"\"\n",
    "    Escribe el DataFrame en InfluxDB\n",
    "    \"\"\"\n",
    "    \n",
    "    ######## Solución: Guarda el resultado de la consulta en df\n",
    "    query_client = client.query_api()\n",
    "    query = (f'from(bucket: \"{bucket}\")'\n",
    "    '  |> range(start: -inf)'\n",
    "    '  |> filter(fn: (r) => r._field == \"RealDemand\")')\n",
    "    \n",
    "    df = query_client.query_data_frame(query, org=org)\n",
    "    ###\n",
    "   \n",
    "    df_query = df.loc[:, ['_time', '_value']]\n",
    "    df_query['datetime'] = pd.to_datetime(df_query['_time'], utc=True).dt.tz_localize(None)\n",
    "    df_query['RealDemand'] = df_query['_value']\n",
    "    df_query = df_query[['datetime', 'RealDemand']]\n",
    "    df_query.index = df_query['datetime']\n",
    "    return df_query['RealDemand'].sort_index()\n"
   ]
  },
  {
   "cell_type": "code",
   "execution_count": 35,
   "metadata": {
    "tags": []
   },
   "outputs": [
    {
     "data": {
      "text/plain": [
       "datetime\n",
       "2022-08-17 13:00:00    28558.083333\n",
       "2022-03-22 20:00:00    32101.333333\n",
       "2022-06-18 01:00:00    24592.250000\n",
       "2022-02-23 22:00:00    27416.500000\n",
       "2022-04-27 13:00:00    29158.500000\n",
       "2022-03-29 07:00:00    30680.500000\n",
       "2022-06-07 00:00:00    22885.583333\n",
       "2022-03-10 12:00:00    31206.666667\n",
       "2022-09-25 05:00:00    19363.166667\n",
       "2022-08-19 17:00:00    28068.416667\n",
       "2022-11-06 04:00:00    17734.416667\n",
       "2022-08-19 05:00:00    23990.666667\n",
       "2022-02-22 22:00:00    27137.000000\n",
       "2022-10-19 03:00:00    21814.916667\n",
       "2022-12-21 01:00:00    21955.166667\n",
       "2022-04-28 04:00:00    24237.833333\n",
       "2022-12-01 21:00:00    29663.833333\n",
       "2022-07-19 18:00:00    33729.666667\n",
       "2022-07-03 06:00:00    21313.833333\n",
       "2022-02-19 00:00:00    24770.666667\n",
       "Name: RealDemand, dtype: float64"
      ]
     },
     "execution_count": 35,
     "metadata": {},
     "output_type": "execute_result"
    }
   ],
   "source": [
    "df = load_from_influxdb(client, bucket, org)\n",
    "df['2022'].sample(20, random_state=0)"
   ]
  },
  {
   "cell_type": "markdown",
   "metadata": {},
   "source": [
    "Resultado esperado:\n",
    "\n",
    "| datetime            |   RealDemand |\n",
    "|:--------------------|-------------:|\n",
    "| 2022-08-17 13:00:00 |      28558.1 |\n",
    "| 2022-03-22 20:00:00 |      32101.3 |\n",
    "| 2022-06-18 01:00:00 |      24592.2 |\n",
    "| 2022-02-23 22:00:00 |      27416.5 |\n",
    "| 2022-04-27 13:00:00 |      29158.5 |\n",
    "| 2022-03-29 07:00:00 |      30680.5 |\n",
    "| 2022-06-07 00:00:00 |      22885.6 |\n",
    "| 2022-03-10 12:00:00 |      31206.7 |\n",
    "| 2022-09-25 05:00:00 |      19363.2 |\n",
    "| 2022-08-19 17:00:00 |      28068.4 |\n",
    "| 2022-11-06 04:00:00 |      17734.4 |\n",
    "| 2022-08-19 05:00:00 |      23990.7 |\n",
    "| 2022-02-22 22:00:00 |      27137   |\n",
    "| 2022-10-19 03:00:00 |      21814.9 |\n",
    "| 2022-12-21 01:00:00 |      21955.2 |\n",
    "| 2022-04-28 04:00:00 |      24237.8 |\n",
    "| 2022-12-01 21:00:00 |      29663.8 |\n",
    "| 2022-07-19 18:00:00 |      33729.7 |\n",
    "| 2022-07-03 06:00:00 |      21313.8 |\n",
    "| 2022-02-19 00:00:00 |      24770.7 |\n"
   ]
  },
  {
   "cell_type": "markdown",
   "metadata": {},
   "source": [
    "<div style=\"text-align: right\"><font size=4> <i class=\"fa fa-check-square-o\" aria-hidden=\"true\" style=\"color:#00586D\"></i></font></div>\n",
    "\n",
    "--- "
   ]
  },
  {
   "cell_type": "markdown",
   "metadata": {},
   "source": [
    "Con estos datos, el objetivo es crear un modelo de forecasting que nos permita pronosticar a un día vista la demanda de energía horaria. Aunque podéis usar el modelo que estiméis (siempre que funcione con el resto de componentes) en este caso hemos optado por crear un modelo de Prophet. \n",
    "\n",
    "Para facilitar su integración con el resto de código y poder ejecutar el modelo para pronosticar varios días, crearemos una función que entrene el modelo y realice un pronóstico para un conjunto de test. Para ello crearemos un modelo capaz de pronosticar, dado un histórico, la demanda de energía horaria del día siguiente al histórico. "
   ]
  },
  {
   "cell_type": "markdown",
   "metadata": {},
   "source": [
    "\n",
    "--- "
   ]
  },
  {
   "cell_type": "markdown",
   "metadata": {},
   "source": [
    "### <font color=\"#004D7F\"> <i class=\"fa fa-pencil-square-o\" aria-hidden=\"true\" style=\"color:#004D7F\"></i> Tarea 2</font>\n",
    "<br>\n",
    "\n",
    "Implementa la siguiente función que, dada la serie temporal de demanda anterior, _training_ y una lista de timestamps, _test_:\n",
    "- Entrena un modelo de Prophet con los datos de _training_\n",
    "- Pronostica las horas pasadas en _test_ \n",
    "\n",
    "Puedes asumir que el conjunto de datos tiene el formato de salida de la función de la tarea anterior.\n",
    "\n",
    "Opcional: Como trabajo opcional, puedes probar varios modelos de los expuestos durante el módulo para ver si puedes obtener un mejor resultado. Esto se tendrá en cuenta a la hora de evaluación del capstone. "
   ]
  },
  {
   "cell_type": "code",
   "execution_count": 99,
   "metadata": {
    "tags": []
   },
   "outputs": [],
   "source": [
    "import datetime\n",
    "from prophet import Prophet\n",
    "\n",
    "def train_forecast(training: pd.DataFrame, test: list) -> pd.DataFrame:\n",
    "    \"\"\"\n",
    "    Entrena con training y pronostica los datos de test\n",
    "    \"\"\"\n",
    "    \n",
    "    ######## Solución\n",
    "    training_prophet = training.reset_index().rename(columns={'datetime': 'ds', 'RealDemand': 'y'})\n",
    "    m = Prophet()\n",
    "    m.fit(training_prophet)\n",
    "    \n",
    "    test_prophet = pd.DataFrame(test, columns=['ds'])    \n",
    "    forecast = m.predict(test_prophet)\n",
    "    \n",
    "    forecast = forecast[['ds', 'yhat']].rename(columns={'ds': 'datetime'}).set_index('datetime')\n",
    "    \n",
    "    return forecast\n",
    "    \n",
    "    #########"
   ]
  },
  {
   "cell_type": "code",
   "execution_count": 100,
   "metadata": {
    "tags": []
   },
   "outputs": [],
   "source": [
    "test = list(pd.date_range(start=datetime.datetime(2023, 2, 24), freq='H', periods=24))"
   ]
  },
  {
   "cell_type": "code",
   "execution_count": 101,
   "metadata": {
    "tags": []
   },
   "outputs": [
    {
     "name": "stderr",
     "output_type": "stream",
     "text": [
      "19:53:19 - cmdstanpy - INFO - Chain [1] start processing\n",
      "19:53:25 - cmdstanpy - INFO - Chain [1] done processing\n"
     ]
    }
   ],
   "source": [
    "result = train_forecast(df[:datetime.datetime(2023, 2, 24)], test)"
   ]
  },
  {
   "cell_type": "code",
   "execution_count": 102,
   "metadata": {
    "tags": []
   },
   "outputs": [
    {
     "data": {
      "text/html": [
       "<div>\n",
       "<style scoped>\n",
       "    .dataframe tbody tr th:only-of-type {\n",
       "        vertical-align: middle;\n",
       "    }\n",
       "\n",
       "    .dataframe tbody tr th {\n",
       "        vertical-align: top;\n",
       "    }\n",
       "\n",
       "    .dataframe thead th {\n",
       "        text-align: right;\n",
       "    }\n",
       "</style>\n",
       "<table border=\"1\" class=\"dataframe\">\n",
       "  <thead>\n",
       "    <tr style=\"text-align: right;\">\n",
       "      <th></th>\n",
       "      <th>yhat</th>\n",
       "    </tr>\n",
       "    <tr>\n",
       "      <th>datetime</th>\n",
       "      <th></th>\n",
       "    </tr>\n",
       "  </thead>\n",
       "  <tbody>\n",
       "    <tr>\n",
       "      <th>2023-02-24 00:00:00</th>\n",
       "      <td>26199.111752</td>\n",
       "    </tr>\n",
       "    <tr>\n",
       "      <th>2023-02-24 01:00:00</th>\n",
       "      <td>25433.879655</td>\n",
       "    </tr>\n",
       "    <tr>\n",
       "      <th>2023-02-24 02:00:00</th>\n",
       "      <td>24998.163904</td>\n",
       "    </tr>\n",
       "    <tr>\n",
       "      <th>2023-02-24 03:00:00</th>\n",
       "      <td>25106.153440</td>\n",
       "    </tr>\n",
       "    <tr>\n",
       "      <th>2023-02-24 04:00:00</th>\n",
       "      <td>26040.885464</td>\n",
       "    </tr>\n",
       "    <tr>\n",
       "      <th>2023-02-24 05:00:00</th>\n",
       "      <td>27768.571192</td>\n",
       "    </tr>\n",
       "    <tr>\n",
       "      <th>2023-02-24 06:00:00</th>\n",
       "      <td>29800.150189</td>\n",
       "    </tr>\n",
       "    <tr>\n",
       "      <th>2023-02-24 07:00:00</th>\n",
       "      <td>31479.393592</td>\n",
       "    </tr>\n",
       "    <tr>\n",
       "      <th>2023-02-24 08:00:00</th>\n",
       "      <td>32442.552646</td>\n",
       "    </tr>\n",
       "    <tr>\n",
       "      <th>2023-02-24 09:00:00</th>\n",
       "      <td>32814.491918</td>\n",
       "    </tr>\n",
       "    <tr>\n",
       "      <th>2023-02-24 10:00:00</th>\n",
       "      <td>32965.926460</td>\n",
       "    </tr>\n",
       "    <tr>\n",
       "      <th>2023-02-24 11:00:00</th>\n",
       "      <td>33094.029629</td>\n",
       "    </tr>\n",
       "    <tr>\n",
       "      <th>2023-02-24 12:00:00</th>\n",
       "      <td>33059.495432</td>\n",
       "    </tr>\n",
       "    <tr>\n",
       "      <th>2023-02-24 13:00:00</th>\n",
       "      <td>32640.426315</td>\n",
       "    </tr>\n",
       "    <tr>\n",
       "      <th>2023-02-24 14:00:00</th>\n",
       "      <td>31921.205416</td>\n",
       "    </tr>\n",
       "    <tr>\n",
       "      <th>2023-02-24 15:00:00</th>\n",
       "      <td>31374.928524</td>\n",
       "    </tr>\n",
       "    <tr>\n",
       "      <th>2023-02-24 16:00:00</th>\n",
       "      <td>31494.572723</td>\n",
       "    </tr>\n",
       "    <tr>\n",
       "      <th>2023-02-24 17:00:00</th>\n",
       "      <td>32294.146748</td>\n",
       "    </tr>\n",
       "    <tr>\n",
       "      <th>2023-02-24 18:00:00</th>\n",
       "      <td>33169.333741</td>\n",
       "    </tr>\n",
       "    <tr>\n",
       "      <th>2023-02-24 19:00:00</th>\n",
       "      <td>33295.642191</td>\n",
       "    </tr>\n",
       "    <tr>\n",
       "      <th>2023-02-24 20:00:00</th>\n",
       "      <td>32241.708842</td>\n",
       "    </tr>\n",
       "    <tr>\n",
       "      <th>2023-02-24 21:00:00</th>\n",
       "      <td>30268.943208</td>\n",
       "    </tr>\n",
       "    <tr>\n",
       "      <th>2023-02-24 22:00:00</th>\n",
       "      <td>28077.158400</td>\n",
       "    </tr>\n",
       "    <tr>\n",
       "      <th>2023-02-24 23:00:00</th>\n",
       "      <td>26260.612396</td>\n",
       "    </tr>\n",
       "  </tbody>\n",
       "</table>\n",
       "</div>"
      ],
      "text/plain": [
       "                             yhat\n",
       "datetime                         \n",
       "2023-02-24 00:00:00  26199.111752\n",
       "2023-02-24 01:00:00  25433.879655\n",
       "2023-02-24 02:00:00  24998.163904\n",
       "2023-02-24 03:00:00  25106.153440\n",
       "2023-02-24 04:00:00  26040.885464\n",
       "2023-02-24 05:00:00  27768.571192\n",
       "2023-02-24 06:00:00  29800.150189\n",
       "2023-02-24 07:00:00  31479.393592\n",
       "2023-02-24 08:00:00  32442.552646\n",
       "2023-02-24 09:00:00  32814.491918\n",
       "2023-02-24 10:00:00  32965.926460\n",
       "2023-02-24 11:00:00  33094.029629\n",
       "2023-02-24 12:00:00  33059.495432\n",
       "2023-02-24 13:00:00  32640.426315\n",
       "2023-02-24 14:00:00  31921.205416\n",
       "2023-02-24 15:00:00  31374.928524\n",
       "2023-02-24 16:00:00  31494.572723\n",
       "2023-02-24 17:00:00  32294.146748\n",
       "2023-02-24 18:00:00  33169.333741\n",
       "2023-02-24 19:00:00  33295.642191\n",
       "2023-02-24 20:00:00  32241.708842\n",
       "2023-02-24 21:00:00  30268.943208\n",
       "2023-02-24 22:00:00  28077.158400\n",
       "2023-02-24 23:00:00  26260.612396"
      ]
     },
     "execution_count": 102,
     "metadata": {},
     "output_type": "execute_result"
    }
   ],
   "source": [
    "result"
   ]
  },
  {
   "cell_type": "markdown",
   "metadata": {},
   "source": [
    "Resultado esperado (aprox.):\n",
    "    \n",
    "| datetime            |    yhat |\n",
    "|:--------------------|--------:|\n",
    "| 2023-02-24 00:00:00 | 26204   |\n",
    "| 2023-02-24 01:00:00 | 25438.5 |\n",
    "| 2023-02-24 02:00:00 | 25002.7 |\n",
    "| 2023-02-24 03:00:00 | 25110.6 |\n",
    "| 2023-02-24 04:00:00 | 26045.4 |\n",
    "| 2023-02-24 05:00:00 | 27773.1 |\n",
    "| 2023-02-24 06:00:00 | 29804.7 |\n",
    "| 2023-02-24 07:00:00 | 31483.9 |\n",
    "| 2023-02-24 08:00:00 | 32447   |\n",
    "| 2023-02-24 09:00:00 | 32819   |\n",
    "| 2023-02-24 10:00:00 | 32970.4 |\n",
    "| 2023-02-24 11:00:00 | 33098.5 |\n",
    "| 2023-02-24 12:00:00 | 33064   |\n",
    "| 2023-02-24 13:00:00 | 32644.8 |\n",
    "| 2023-02-24 14:00:00 | 31925.6 |\n",
    "| 2023-02-24 15:00:00 | 31379.3 |\n",
    "| 2023-02-24 16:00:00 | 31499   |\n",
    "| 2023-02-24 17:00:00 | 32298.6 |\n",
    "| 2023-02-24 18:00:00 | 33173.7 |\n",
    "| 2023-02-24 19:00:00 | 33299.9 |\n",
    "| 2023-02-24 20:00:00 | 32246   |\n",
    "| 2023-02-24 21:00:00 | 30273.3 |\n",
    "| 2023-02-24 22:00:00 | 28081.7 |\n",
    "| 2023-02-24 23:00:00 | 26265.2 |\n"
   ]
  },
  {
   "cell_type": "markdown",
   "metadata": {},
   "source": [
    "<div style=\"text-align: right\"><font size=4> <i class=\"fa fa-check-square-o\" aria-hidden=\"true\" style=\"color:#00586D\"></i></font></div>\n",
    "\n",
    "--- "
   ]
  },
  {
   "cell_type": "markdown",
   "metadata": {},
   "source": [
    "Con esta función ya podemos evaluar nuestro modelo. En este caso, debemos recordar que debemos evaluar nuestro modelo de forma diaria, ya que nuestro objetivo es hacer pronósticos a un día vista. Para ello podemos valernos de la función anterior y recorrer diariamente los valores de un conjunto de test, añadiendo en el training los valores hasta la fecha. Solo usaremos los primeros días del mes de enero para probar el método. Veamos como hacerlo. "
   ]
  },
  {
   "cell_type": "code",
   "execution_count": 154,
   "metadata": {
    "tags": []
   },
   "outputs": [],
   "source": [
    "test_dates = list(pd.date_range(start=datetime.datetime(2023, 1, 1), end=datetime.datetime(2023, 1, 10), freq='D'))"
   ]
  },
  {
   "cell_type": "code",
   "execution_count": 155,
   "metadata": {
    "tags": []
   },
   "outputs": [
    {
     "name": "stderr",
     "output_type": "stream",
     "text": [
      "22:50:05 - cmdstanpy - INFO - Chain [1] start processing\n",
      "22:50:12 - cmdstanpy - INFO - Chain [1] done processing\n",
      "22:50:12 - cmdstanpy - INFO - Chain [1] start processing\n",
      "22:50:20 - cmdstanpy - INFO - Chain [1] done processing\n",
      "22:50:20 - cmdstanpy - INFO - Chain [1] start processing\n",
      "22:50:27 - cmdstanpy - INFO - Chain [1] done processing\n",
      "22:50:27 - cmdstanpy - INFO - Chain [1] start processing\n",
      "22:50:35 - cmdstanpy - INFO - Chain [1] done processing\n",
      "22:50:35 - cmdstanpy - INFO - Chain [1] start processing\n",
      "22:50:42 - cmdstanpy - INFO - Chain [1] done processing\n",
      "22:50:43 - cmdstanpy - INFO - Chain [1] start processing\n",
      "22:50:50 - cmdstanpy - INFO - Chain [1] done processing\n",
      "22:50:50 - cmdstanpy - INFO - Chain [1] start processing\n",
      "22:50:59 - cmdstanpy - INFO - Chain [1] done processing\n",
      "22:51:00 - cmdstanpy - INFO - Chain [1] start processing\n",
      "22:51:10 - cmdstanpy - INFO - Chain [1] done processing\n",
      "22:51:10 - cmdstanpy - INFO - Chain [1] start processing\n",
      "22:51:18 - cmdstanpy - INFO - Chain [1] done processing\n",
      "22:51:19 - cmdstanpy - INFO - Chain [1] start processing\n",
      "22:51:29 - cmdstanpy - INFO - Chain [1] done processing\n"
     ]
    }
   ],
   "source": [
    "maes = []\n",
    "for test_date in test_dates:\n",
    "    training = df[:test_date-datetime.timedelta(minutes=1)]\n",
    "    test = df[test_date:test_date+datetime.timedelta(days=1, minutes=-1)]\n",
    "    result = train_forecast(df, test.index.to_list())\n",
    "    r = mean_absolute_error(test, result)\n",
    "    maes.append(r)"
   ]
  },
  {
   "cell_type": "code",
   "execution_count": 156,
   "metadata": {
    "tags": []
   },
   "outputs": [
    {
     "data": {
      "text/plain": [
       "1631.997638007778"
      ]
     },
     "execution_count": 156,
     "metadata": {},
     "output_type": "execute_result"
    }
   ],
   "source": [
    "np.mean(maes)"
   ]
  },
  {
   "cell_type": "markdown",
   "metadata": {},
   "source": [
    "Con este modelo ya podemos añadir la información de pronóstico como un nuevo campo en nuestra serie en InfluxDB. Para ello seguiremos la siguiente estrategia:\n",
    "- Nos centraremos solo en el último més de datos disponible. Para el último día, que posiblemente no estará completo, deberemos añadir las horas que falten. \n",
    "- Generaremos un pronóstico para cada día usando el modelo que creamos anteriormente. \n",
    "- Subiremos este pronóstico directamente a InfluxDB"
   ]
  },
  {
   "cell_type": "markdown",
   "metadata": {},
   "source": [
    "Implementaremos este proceso por partes a continuación. "
   ]
  },
  {
   "cell_type": "markdown",
   "metadata": {},
   "source": [
    "\n",
    "--- "
   ]
  },
  {
   "cell_type": "markdown",
   "metadata": {},
   "source": [
    "### <font color=\"#004D7F\"> <i class=\"fa fa-pencil-square-o\" aria-hidden=\"true\" style=\"color:#004D7F\"></i> Tarea 3 </font>\n",
    "<br>\n",
    "\n",
    "Implementa la siguiente función que, dada una fecha, devuelve una lista con los timestamps ordenados de sus horas. "
   ]
  },
  {
   "cell_type": "code",
   "execution_count": 159,
   "metadata": {
    "tags": []
   },
   "outputs": [],
   "source": [
    "def get_hours(date: datetime.datetime) -> list :\n",
    "    ######## Solución\n",
    "    ###\n",
    "    start_time = date.replace(hour=0, minute=0, second=0)\n",
    "    end_time = date.replace(hour=23, minute=59, second=59)\n",
    "    timestamps = pd.date_range(start=start_time, end=end_time, freq='H')\n",
    "    return timestamps.tolist()"
   ]
  },
  {
   "cell_type": "code",
   "execution_count": 160,
   "metadata": {
    "tags": []
   },
   "outputs": [
    {
     "data": {
      "text/plain": [
       "[Timestamp('2023-02-28 00:00:00', freq='H'),\n",
       " Timestamp('2023-02-28 01:00:00', freq='H'),\n",
       " Timestamp('2023-02-28 02:00:00', freq='H'),\n",
       " Timestamp('2023-02-28 03:00:00', freq='H'),\n",
       " Timestamp('2023-02-28 04:00:00', freq='H'),\n",
       " Timestamp('2023-02-28 05:00:00', freq='H'),\n",
       " Timestamp('2023-02-28 06:00:00', freq='H'),\n",
       " Timestamp('2023-02-28 07:00:00', freq='H'),\n",
       " Timestamp('2023-02-28 08:00:00', freq='H'),\n",
       " Timestamp('2023-02-28 09:00:00', freq='H'),\n",
       " Timestamp('2023-02-28 10:00:00', freq='H'),\n",
       " Timestamp('2023-02-28 11:00:00', freq='H'),\n",
       " Timestamp('2023-02-28 12:00:00', freq='H'),\n",
       " Timestamp('2023-02-28 13:00:00', freq='H'),\n",
       " Timestamp('2023-02-28 14:00:00', freq='H'),\n",
       " Timestamp('2023-02-28 15:00:00', freq='H'),\n",
       " Timestamp('2023-02-28 16:00:00', freq='H'),\n",
       " Timestamp('2023-02-28 17:00:00', freq='H'),\n",
       " Timestamp('2023-02-28 18:00:00', freq='H'),\n",
       " Timestamp('2023-02-28 19:00:00', freq='H'),\n",
       " Timestamp('2023-02-28 20:00:00', freq='H'),\n",
       " Timestamp('2023-02-28 21:00:00', freq='H'),\n",
       " Timestamp('2023-02-28 22:00:00', freq='H'),\n",
       " Timestamp('2023-02-28 23:00:00', freq='H')]"
      ]
     },
     "execution_count": 160,
     "metadata": {},
     "output_type": "execute_result"
    }
   ],
   "source": [
    "get_hours(datetime.datetime(2023, 2, 28))"
   ]
  },
  {
   "cell_type": "markdown",
   "metadata": {},
   "source": [
    "Resutado esperado:\n",
    "```\n",
    "[Timestamp('2023-02-28 00:00:00', freq='H'),\n",
    " Timestamp('2023-02-28 01:00:00', freq='H'),\n",
    " Timestamp('2023-02-28 02:00:00', freq='H'),\n",
    " Timestamp('2023-02-28 03:00:00', freq='H'),\n",
    " Timestamp('2023-02-28 04:00:00', freq='H'),\n",
    " Timestamp('2023-02-28 05:00:00', freq='H'),\n",
    " Timestamp('2023-02-28 06:00:00', freq='H'),\n",
    " Timestamp('2023-02-28 07:00:00', freq='H'),\n",
    " Timestamp('2023-02-28 08:00:00', freq='H'),\n",
    " Timestamp('2023-02-28 09:00:00', freq='H'),\n",
    " Timestamp('2023-02-28 10:00:00', freq='H'),\n",
    " Timestamp('2023-02-28 11:00:00', freq='H'),\n",
    " Timestamp('2023-02-28 12:00:00', freq='H'),\n",
    " Timestamp('2023-02-28 13:00:00', freq='H'),\n",
    " Timestamp('2023-02-28 14:00:00', freq='H'),\n",
    " Timestamp('2023-02-28 15:00:00', freq='H'),\n",
    " Timestamp('2023-02-28 16:00:00', freq='H'),\n",
    " Timestamp('2023-02-28 17:00:00', freq='H'),\n",
    " Timestamp('2023-02-28 18:00:00', freq='H'),\n",
    " Timestamp('2023-02-28 19:00:00', freq='H'),\n",
    " Timestamp('2023-02-28 20:00:00', freq='H'),\n",
    " Timestamp('2023-02-28 21:00:00', freq='H'),\n",
    " Timestamp('2023-02-28 22:00:00', freq='H'),\n",
    " Timestamp('2023-02-28 23:00:00', freq='H')]\n",
    "```"
   ]
  },
  {
   "cell_type": "markdown",
   "metadata": {},
   "source": [
    "<div style=\"text-align: right\"><font size=4> <i class=\"fa fa-check-square-o\" aria-hidden=\"true\" style=\"color:#00586D\"></i></font></div>\n",
    "\n",
    "--- "
   ]
  },
  {
   "cell_type": "markdown",
   "metadata": {},
   "source": [
    "Para ingestar el pronóstico en InfluxDB, podemos usar la siguiente función, similar a la función que utilizásteis en la primera práctica y que básicamente toma el pronóstico del modelo de Prophet y lo ingesta usando la API de escritura de InfluxDB. El pronóstico se ingestará en la misma medida que la demanda, pero con el campo `CP7Forecast`."
   ]
  },
  {
   "cell_type": "code",
   "execution_count": 161,
   "metadata": {
    "tags": []
   },
   "outputs": [],
   "source": [
    "def save_to_influxdb(df: pd.DataFrame, client: InfluxDBClient, bucket: str, org: str) -> pd.DataFrame:\n",
    "    \"\"\"\n",
    "    Escribe el pronóstico en InfluxDB\n",
    "    \"\"\"\n",
    "    df = df.reset_index()\n",
    "    df['time'] = df['datetime']\n",
    "    df['CP7Forecast'] = df['yhat']\n",
    "    to_write = df[['time', 'CP7Forecast']]\n",
    "    to_write = to_write.set_index('time')[['CP7Forecast']]\n",
    "    write_api = client.write_api(write_options=SYNCHRONOUS)\n",
    "    write_api.write(bucket, org, record=to_write, data_frame_measurement_name='demand')"
   ]
  },
  {
   "cell_type": "markdown",
   "metadata": {},
   "source": [
    "Con estas funciones ya tenemos todo lo necesario para poder escribir en InfluxDB los datos de pronóstico. Para ello, partiendo de un día inicial desde el que empezaremos a generar pronósticos, usaremos una estrategia similar al método de evaluación anterior, simplemente teniendo en cuenta que generaremos nosotros las horas en vez de usar las que aparecen en un conjunto de test. A continuación mostramos como ingestar los resultados a partir de un día determinado. Podéis ejecutar el código a continuación para añadir el pronóstico a vuestra instancia de InfluxDB."
   ]
  },
  {
   "cell_type": "code",
   "execution_count": 162,
   "metadata": {
    "tags": []
   },
   "outputs": [
    {
     "data": {
      "text/plain": [
       "DatetimeIndex(['2023-02-22', '2023-02-23', '2023-02-24', '2023-02-25',\n",
       "               '2023-02-26', '2023-02-27', '2023-02-28', '2023-03-01',\n",
       "               '2023-03-02', '2023-03-03', '2023-03-04', '2023-03-05',\n",
       "               '2023-03-06', '2023-03-07', '2023-03-08', '2023-03-09',\n",
       "               '2023-03-10', '2023-03-11', '2023-03-12', '2023-03-13',\n",
       "               '2023-03-14', '2023-03-15', '2023-03-16', '2023-03-17',\n",
       "               '2023-03-18', '2023-03-19', '2023-03-20', '2023-03-21',\n",
       "               '2023-03-22', '2023-03-23', '2023-03-24', '2023-03-25',\n",
       "               '2023-03-26', '2023-03-27', '2023-03-28', '2023-03-29',\n",
       "               '2023-03-30', '2023-03-31', '2023-04-01', '2023-04-02',\n",
       "               '2023-04-03', '2023-04-04', '2023-04-05', '2023-04-06',\n",
       "               '2023-04-07', '2023-04-08', '2023-04-09', '2023-04-10',\n",
       "               '2023-04-11', '2023-04-12', '2023-04-13', '2023-04-14',\n",
       "               '2023-04-15', '2023-04-16', '2023-04-17', '2023-04-18',\n",
       "               '2023-04-19', '2023-04-20', '2023-04-21', '2023-04-22',\n",
       "               '2023-04-23', '2023-04-24', '2023-04-25', '2023-04-26',\n",
       "               '2023-04-27', '2023-04-28', '2023-04-29', '2023-04-30',\n",
       "               '2023-05-01', '2023-05-02', '2023-05-03', '2023-05-04',\n",
       "               '2023-05-05', '2023-05-06', '2023-05-07'],\n",
       "              dtype='datetime64[ns]', freq='D')"
      ]
     },
     "execution_count": 162,
     "metadata": {},
     "output_type": "execute_result"
    }
   ],
   "source": [
    "begin = datetime.datetime(2023, 2, 22)\n",
    "dates_to_ingest = pd.date_range(start=begin, end=datetime.datetime.now().date(), freq='D')\n",
    "dates_to_ingest"
   ]
  },
  {
   "cell_type": "code",
   "execution_count": 163,
   "metadata": {
    "collapsed": true,
    "jupyter": {
     "outputs_hidden": true
    },
    "tags": []
   },
   "outputs": [
    {
     "name": "stdout",
     "output_type": "stream",
     "text": [
      "Ingesting for date: 2023-02-22 00:00:00\n"
     ]
    },
    {
     "name": "stderr",
     "output_type": "stream",
     "text": [
      "22:57:13 - cmdstanpy - INFO - Chain [1] start processing\n",
      "22:57:20 - cmdstanpy - INFO - Chain [1] done processing\n"
     ]
    },
    {
     "name": "stdout",
     "output_type": "stream",
     "text": [
      "Ingesting for date: 2023-02-23 00:00:00\n"
     ]
    },
    {
     "name": "stderr",
     "output_type": "stream",
     "text": [
      "22:57:21 - cmdstanpy - INFO - Chain [1] start processing\n",
      "22:57:28 - cmdstanpy - INFO - Chain [1] done processing\n"
     ]
    },
    {
     "name": "stdout",
     "output_type": "stream",
     "text": [
      "Ingesting for date: 2023-02-24 00:00:00\n"
     ]
    },
    {
     "name": "stderr",
     "output_type": "stream",
     "text": [
      "22:57:29 - cmdstanpy - INFO - Chain [1] start processing\n",
      "22:57:36 - cmdstanpy - INFO - Chain [1] done processing\n"
     ]
    },
    {
     "name": "stdout",
     "output_type": "stream",
     "text": [
      "Ingesting for date: 2023-02-25 00:00:00\n"
     ]
    },
    {
     "name": "stderr",
     "output_type": "stream",
     "text": [
      "22:57:37 - cmdstanpy - INFO - Chain [1] start processing\n",
      "22:57:46 - cmdstanpy - INFO - Chain [1] done processing\n"
     ]
    },
    {
     "name": "stdout",
     "output_type": "stream",
     "text": [
      "Ingesting for date: 2023-02-26 00:00:00\n"
     ]
    },
    {
     "name": "stderr",
     "output_type": "stream",
     "text": [
      "22:57:47 - cmdstanpy - INFO - Chain [1] start processing\n",
      "22:57:55 - cmdstanpy - INFO - Chain [1] done processing\n"
     ]
    },
    {
     "name": "stdout",
     "output_type": "stream",
     "text": [
      "Ingesting for date: 2023-02-27 00:00:00\n"
     ]
    },
    {
     "name": "stderr",
     "output_type": "stream",
     "text": [
      "22:57:55 - cmdstanpy - INFO - Chain [1] start processing\n",
      "22:58:03 - cmdstanpy - INFO - Chain [1] done processing\n"
     ]
    },
    {
     "name": "stdout",
     "output_type": "stream",
     "text": [
      "Ingesting for date: 2023-02-28 00:00:00\n"
     ]
    },
    {
     "name": "stderr",
     "output_type": "stream",
     "text": [
      "22:58:03 - cmdstanpy - INFO - Chain [1] start processing\n",
      "22:58:11 - cmdstanpy - INFO - Chain [1] done processing\n"
     ]
    },
    {
     "name": "stdout",
     "output_type": "stream",
     "text": [
      "Ingesting for date: 2023-03-01 00:00:00\n"
     ]
    },
    {
     "name": "stderr",
     "output_type": "stream",
     "text": [
      "22:58:12 - cmdstanpy - INFO - Chain [1] start processing\n",
      "22:58:19 - cmdstanpy - INFO - Chain [1] done processing\n"
     ]
    },
    {
     "name": "stdout",
     "output_type": "stream",
     "text": [
      "Ingesting for date: 2023-03-02 00:00:00\n"
     ]
    },
    {
     "name": "stderr",
     "output_type": "stream",
     "text": [
      "22:58:20 - cmdstanpy - INFO - Chain [1] start processing\n",
      "22:58:28 - cmdstanpy - INFO - Chain [1] done processing\n"
     ]
    },
    {
     "name": "stdout",
     "output_type": "stream",
     "text": [
      "Ingesting for date: 2023-03-03 00:00:00\n"
     ]
    },
    {
     "name": "stderr",
     "output_type": "stream",
     "text": [
      "22:58:28 - cmdstanpy - INFO - Chain [1] start processing\n",
      "22:58:36 - cmdstanpy - INFO - Chain [1] done processing\n"
     ]
    },
    {
     "name": "stdout",
     "output_type": "stream",
     "text": [
      "Ingesting for date: 2023-03-04 00:00:00\n"
     ]
    },
    {
     "name": "stderr",
     "output_type": "stream",
     "text": [
      "22:58:36 - cmdstanpy - INFO - Chain [1] start processing\n",
      "22:58:45 - cmdstanpy - INFO - Chain [1] done processing\n"
     ]
    },
    {
     "name": "stdout",
     "output_type": "stream",
     "text": [
      "Ingesting for date: 2023-03-05 00:00:00\n"
     ]
    },
    {
     "name": "stderr",
     "output_type": "stream",
     "text": [
      "22:58:45 - cmdstanpy - INFO - Chain [1] start processing\n",
      "22:58:53 - cmdstanpy - INFO - Chain [1] done processing\n"
     ]
    },
    {
     "name": "stdout",
     "output_type": "stream",
     "text": [
      "Ingesting for date: 2023-03-06 00:00:00\n"
     ]
    },
    {
     "name": "stderr",
     "output_type": "stream",
     "text": [
      "22:58:53 - cmdstanpy - INFO - Chain [1] start processing\n",
      "22:59:01 - cmdstanpy - INFO - Chain [1] done processing\n"
     ]
    },
    {
     "name": "stdout",
     "output_type": "stream",
     "text": [
      "Ingesting for date: 2023-03-07 00:00:00\n"
     ]
    },
    {
     "name": "stderr",
     "output_type": "stream",
     "text": [
      "22:59:01 - cmdstanpy - INFO - Chain [1] start processing\n",
      "22:59:10 - cmdstanpy - INFO - Chain [1] done processing\n"
     ]
    },
    {
     "name": "stdout",
     "output_type": "stream",
     "text": [
      "Ingesting for date: 2023-03-08 00:00:00\n"
     ]
    },
    {
     "name": "stderr",
     "output_type": "stream",
     "text": [
      "22:59:11 - cmdstanpy - INFO - Chain [1] start processing\n",
      "22:59:19 - cmdstanpy - INFO - Chain [1] done processing\n"
     ]
    },
    {
     "name": "stdout",
     "output_type": "stream",
     "text": [
      "Ingesting for date: 2023-03-09 00:00:00\n"
     ]
    },
    {
     "name": "stderr",
     "output_type": "stream",
     "text": [
      "22:59:19 - cmdstanpy - INFO - Chain [1] start processing\n",
      "22:59:27 - cmdstanpy - INFO - Chain [1] done processing\n"
     ]
    },
    {
     "name": "stdout",
     "output_type": "stream",
     "text": [
      "Ingesting for date: 2023-03-10 00:00:00\n"
     ]
    },
    {
     "name": "stderr",
     "output_type": "stream",
     "text": [
      "22:59:27 - cmdstanpy - INFO - Chain [1] start processing\n",
      "22:59:36 - cmdstanpy - INFO - Chain [1] done processing\n"
     ]
    },
    {
     "name": "stdout",
     "output_type": "stream",
     "text": [
      "Ingesting for date: 2023-03-11 00:00:00\n"
     ]
    },
    {
     "name": "stderr",
     "output_type": "stream",
     "text": [
      "22:59:36 - cmdstanpy - INFO - Chain [1] start processing\n",
      "22:59:44 - cmdstanpy - INFO - Chain [1] done processing\n"
     ]
    },
    {
     "name": "stdout",
     "output_type": "stream",
     "text": [
      "Ingesting for date: 2023-03-12 00:00:00\n"
     ]
    },
    {
     "name": "stderr",
     "output_type": "stream",
     "text": [
      "22:59:45 - cmdstanpy - INFO - Chain [1] start processing\n",
      "22:59:52 - cmdstanpy - INFO - Chain [1] done processing\n"
     ]
    },
    {
     "name": "stdout",
     "output_type": "stream",
     "text": [
      "Ingesting for date: 2023-03-13 00:00:00\n"
     ]
    },
    {
     "name": "stderr",
     "output_type": "stream",
     "text": [
      "22:59:53 - cmdstanpy - INFO - Chain [1] start processing\n",
      "23:00:00 - cmdstanpy - INFO - Chain [1] done processing\n"
     ]
    },
    {
     "name": "stdout",
     "output_type": "stream",
     "text": [
      "Ingesting for date: 2023-03-14 00:00:00\n"
     ]
    },
    {
     "name": "stderr",
     "output_type": "stream",
     "text": [
      "23:00:00 - cmdstanpy - INFO - Chain [1] start processing\n",
      "23:00:08 - cmdstanpy - INFO - Chain [1] done processing\n"
     ]
    },
    {
     "name": "stdout",
     "output_type": "stream",
     "text": [
      "Ingesting for date: 2023-03-15 00:00:00\n"
     ]
    },
    {
     "name": "stderr",
     "output_type": "stream",
     "text": [
      "23:00:09 - cmdstanpy - INFO - Chain [1] start processing\n",
      "23:00:16 - cmdstanpy - INFO - Chain [1] done processing\n"
     ]
    },
    {
     "name": "stdout",
     "output_type": "stream",
     "text": [
      "Ingesting for date: 2023-03-16 00:00:00\n"
     ]
    },
    {
     "name": "stderr",
     "output_type": "stream",
     "text": [
      "23:00:17 - cmdstanpy - INFO - Chain [1] start processing\n",
      "23:00:24 - cmdstanpy - INFO - Chain [1] done processing\n"
     ]
    },
    {
     "name": "stdout",
     "output_type": "stream",
     "text": [
      "Ingesting for date: 2023-03-17 00:00:00\n"
     ]
    },
    {
     "name": "stderr",
     "output_type": "stream",
     "text": [
      "23:00:24 - cmdstanpy - INFO - Chain [1] start processing\n",
      "23:00:32 - cmdstanpy - INFO - Chain [1] done processing\n"
     ]
    },
    {
     "name": "stdout",
     "output_type": "stream",
     "text": [
      "Ingesting for date: 2023-03-18 00:00:00\n"
     ]
    },
    {
     "name": "stderr",
     "output_type": "stream",
     "text": [
      "23:00:32 - cmdstanpy - INFO - Chain [1] start processing\n",
      "23:00:40 - cmdstanpy - INFO - Chain [1] done processing\n"
     ]
    },
    {
     "name": "stdout",
     "output_type": "stream",
     "text": [
      "Ingesting for date: 2023-03-19 00:00:00\n"
     ]
    },
    {
     "name": "stderr",
     "output_type": "stream",
     "text": [
      "23:00:40 - cmdstanpy - INFO - Chain [1] start processing\n",
      "23:00:48 - cmdstanpy - INFO - Chain [1] done processing\n"
     ]
    },
    {
     "name": "stdout",
     "output_type": "stream",
     "text": [
      "Ingesting for date: 2023-03-20 00:00:00\n"
     ]
    },
    {
     "name": "stderr",
     "output_type": "stream",
     "text": [
      "23:00:48 - cmdstanpy - INFO - Chain [1] start processing\n",
      "23:00:56 - cmdstanpy - INFO - Chain [1] done processing\n"
     ]
    },
    {
     "name": "stdout",
     "output_type": "stream",
     "text": [
      "Ingesting for date: 2023-03-21 00:00:00\n"
     ]
    },
    {
     "name": "stderr",
     "output_type": "stream",
     "text": [
      "23:00:56 - cmdstanpy - INFO - Chain [1] start processing\n",
      "23:01:03 - cmdstanpy - INFO - Chain [1] done processing\n"
     ]
    },
    {
     "name": "stdout",
     "output_type": "stream",
     "text": [
      "Ingesting for date: 2023-03-22 00:00:00\n"
     ]
    },
    {
     "name": "stderr",
     "output_type": "stream",
     "text": [
      "23:01:04 - cmdstanpy - INFO - Chain [1] start processing\n",
      "23:01:11 - cmdstanpy - INFO - Chain [1] done processing\n"
     ]
    },
    {
     "name": "stdout",
     "output_type": "stream",
     "text": [
      "Ingesting for date: 2023-03-23 00:00:00\n"
     ]
    },
    {
     "name": "stderr",
     "output_type": "stream",
     "text": [
      "23:01:12 - cmdstanpy - INFO - Chain [1] start processing\n",
      "23:01:20 - cmdstanpy - INFO - Chain [1] done processing\n"
     ]
    },
    {
     "name": "stdout",
     "output_type": "stream",
     "text": [
      "Ingesting for date: 2023-03-24 00:00:00\n"
     ]
    },
    {
     "name": "stderr",
     "output_type": "stream",
     "text": [
      "23:01:21 - cmdstanpy - INFO - Chain [1] start processing\n",
      "23:01:29 - cmdstanpy - INFO - Chain [1] done processing\n"
     ]
    },
    {
     "name": "stdout",
     "output_type": "stream",
     "text": [
      "Ingesting for date: 2023-03-25 00:00:00\n"
     ]
    },
    {
     "name": "stderr",
     "output_type": "stream",
     "text": [
      "23:01:29 - cmdstanpy - INFO - Chain [1] start processing\n",
      "23:01:37 - cmdstanpy - INFO - Chain [1] done processing\n"
     ]
    },
    {
     "name": "stdout",
     "output_type": "stream",
     "text": [
      "Ingesting for date: 2023-03-26 00:00:00\n"
     ]
    },
    {
     "name": "stderr",
     "output_type": "stream",
     "text": [
      "23:01:38 - cmdstanpy - INFO - Chain [1] start processing\n",
      "23:01:47 - cmdstanpy - INFO - Chain [1] done processing\n"
     ]
    },
    {
     "name": "stdout",
     "output_type": "stream",
     "text": [
      "Ingesting for date: 2023-03-27 00:00:00\n"
     ]
    },
    {
     "name": "stderr",
     "output_type": "stream",
     "text": [
      "23:01:47 - cmdstanpy - INFO - Chain [1] start processing\n",
      "23:01:57 - cmdstanpy - INFO - Chain [1] done processing\n"
     ]
    },
    {
     "name": "stdout",
     "output_type": "stream",
     "text": [
      "Ingesting for date: 2023-03-28 00:00:00\n"
     ]
    },
    {
     "name": "stderr",
     "output_type": "stream",
     "text": [
      "23:01:57 - cmdstanpy - INFO - Chain [1] start processing\n",
      "23:02:06 - cmdstanpy - INFO - Chain [1] done processing\n"
     ]
    },
    {
     "name": "stdout",
     "output_type": "stream",
     "text": [
      "Ingesting for date: 2023-03-29 00:00:00\n"
     ]
    },
    {
     "name": "stderr",
     "output_type": "stream",
     "text": [
      "23:02:06 - cmdstanpy - INFO - Chain [1] start processing\n",
      "23:02:14 - cmdstanpy - INFO - Chain [1] done processing\n"
     ]
    },
    {
     "name": "stdout",
     "output_type": "stream",
     "text": [
      "Ingesting for date: 2023-03-30 00:00:00\n"
     ]
    },
    {
     "name": "stderr",
     "output_type": "stream",
     "text": [
      "23:02:15 - cmdstanpy - INFO - Chain [1] start processing\n",
      "23:02:23 - cmdstanpy - INFO - Chain [1] done processing\n"
     ]
    },
    {
     "name": "stdout",
     "output_type": "stream",
     "text": [
      "Ingesting for date: 2023-03-31 00:00:00\n"
     ]
    },
    {
     "name": "stderr",
     "output_type": "stream",
     "text": [
      "23:02:24 - cmdstanpy - INFO - Chain [1] start processing\n",
      "23:02:33 - cmdstanpy - INFO - Chain [1] done processing\n"
     ]
    },
    {
     "name": "stdout",
     "output_type": "stream",
     "text": [
      "Ingesting for date: 2023-04-01 00:00:00\n"
     ]
    },
    {
     "name": "stderr",
     "output_type": "stream",
     "text": [
      "23:02:33 - cmdstanpy - INFO - Chain [1] start processing\n",
      "23:02:42 - cmdstanpy - INFO - Chain [1] done processing\n"
     ]
    },
    {
     "name": "stdout",
     "output_type": "stream",
     "text": [
      "Ingesting for date: 2023-04-02 00:00:00\n"
     ]
    },
    {
     "name": "stderr",
     "output_type": "stream",
     "text": [
      "23:02:43 - cmdstanpy - INFO - Chain [1] start processing\n",
      "23:02:51 - cmdstanpy - INFO - Chain [1] done processing\n"
     ]
    },
    {
     "name": "stdout",
     "output_type": "stream",
     "text": [
      "Ingesting for date: 2023-04-03 00:00:00\n"
     ]
    },
    {
     "name": "stderr",
     "output_type": "stream",
     "text": [
      "23:02:51 - cmdstanpy - INFO - Chain [1] start processing\n",
      "23:03:00 - cmdstanpy - INFO - Chain [1] done processing\n"
     ]
    },
    {
     "name": "stdout",
     "output_type": "stream",
     "text": [
      "Ingesting for date: 2023-04-04 00:00:00\n"
     ]
    },
    {
     "name": "stderr",
     "output_type": "stream",
     "text": [
      "23:03:01 - cmdstanpy - INFO - Chain [1] start processing\n",
      "23:03:09 - cmdstanpy - INFO - Chain [1] done processing\n"
     ]
    },
    {
     "name": "stdout",
     "output_type": "stream",
     "text": [
      "Ingesting for date: 2023-04-05 00:00:00\n"
     ]
    },
    {
     "name": "stderr",
     "output_type": "stream",
     "text": [
      "23:03:10 - cmdstanpy - INFO - Chain [1] start processing\n",
      "23:03:18 - cmdstanpy - INFO - Chain [1] done processing\n"
     ]
    },
    {
     "name": "stdout",
     "output_type": "stream",
     "text": [
      "Ingesting for date: 2023-04-06 00:00:00\n"
     ]
    },
    {
     "name": "stderr",
     "output_type": "stream",
     "text": [
      "23:03:18 - cmdstanpy - INFO - Chain [1] start processing\n",
      "23:03:27 - cmdstanpy - INFO - Chain [1] done processing\n"
     ]
    },
    {
     "name": "stdout",
     "output_type": "stream",
     "text": [
      "Ingesting for date: 2023-04-07 00:00:00\n"
     ]
    },
    {
     "name": "stderr",
     "output_type": "stream",
     "text": [
      "23:03:28 - cmdstanpy - INFO - Chain [1] start processing\n",
      "23:03:36 - cmdstanpy - INFO - Chain [1] done processing\n"
     ]
    },
    {
     "name": "stdout",
     "output_type": "stream",
     "text": [
      "Ingesting for date: 2023-04-08 00:00:00\n"
     ]
    },
    {
     "name": "stderr",
     "output_type": "stream",
     "text": [
      "23:03:37 - cmdstanpy - INFO - Chain [1] start processing\n",
      "23:03:46 - cmdstanpy - INFO - Chain [1] done processing\n"
     ]
    },
    {
     "name": "stdout",
     "output_type": "stream",
     "text": [
      "Ingesting for date: 2023-04-09 00:00:00\n"
     ]
    },
    {
     "name": "stderr",
     "output_type": "stream",
     "text": [
      "23:03:47 - cmdstanpy - INFO - Chain [1] start processing\n",
      "23:03:54 - cmdstanpy - INFO - Chain [1] done processing\n"
     ]
    },
    {
     "name": "stdout",
     "output_type": "stream",
     "text": [
      "Ingesting for date: 2023-04-10 00:00:00\n"
     ]
    },
    {
     "name": "stderr",
     "output_type": "stream",
     "text": [
      "23:03:54 - cmdstanpy - INFO - Chain [1] start processing\n",
      "23:04:02 - cmdstanpy - INFO - Chain [1] done processing\n"
     ]
    },
    {
     "name": "stdout",
     "output_type": "stream",
     "text": [
      "Ingesting for date: 2023-04-11 00:00:00\n"
     ]
    },
    {
     "name": "stderr",
     "output_type": "stream",
     "text": [
      "23:04:02 - cmdstanpy - INFO - Chain [1] start processing\n",
      "23:04:11 - cmdstanpy - INFO - Chain [1] done processing\n"
     ]
    },
    {
     "name": "stdout",
     "output_type": "stream",
     "text": [
      "Ingesting for date: 2023-04-12 00:00:00\n"
     ]
    },
    {
     "name": "stderr",
     "output_type": "stream",
     "text": [
      "23:04:11 - cmdstanpy - INFO - Chain [1] start processing\n",
      "23:04:19 - cmdstanpy - INFO - Chain [1] done processing\n"
     ]
    },
    {
     "name": "stdout",
     "output_type": "stream",
     "text": [
      "Ingesting for date: 2023-04-13 00:00:00\n"
     ]
    },
    {
     "name": "stderr",
     "output_type": "stream",
     "text": [
      "23:04:19 - cmdstanpy - INFO - Chain [1] start processing\n",
      "23:04:28 - cmdstanpy - INFO - Chain [1] done processing\n"
     ]
    },
    {
     "name": "stdout",
     "output_type": "stream",
     "text": [
      "Ingesting for date: 2023-04-14 00:00:00\n"
     ]
    },
    {
     "name": "stderr",
     "output_type": "stream",
     "text": [
      "23:04:29 - cmdstanpy - INFO - Chain [1] start processing\n",
      "23:04:37 - cmdstanpy - INFO - Chain [1] done processing\n"
     ]
    },
    {
     "name": "stdout",
     "output_type": "stream",
     "text": [
      "Ingesting for date: 2023-04-15 00:00:00\n"
     ]
    },
    {
     "name": "stderr",
     "output_type": "stream",
     "text": [
      "23:04:37 - cmdstanpy - INFO - Chain [1] start processing\n",
      "23:04:45 - cmdstanpy - INFO - Chain [1] done processing\n"
     ]
    },
    {
     "name": "stdout",
     "output_type": "stream",
     "text": [
      "Ingesting for date: 2023-04-16 00:00:00\n"
     ]
    },
    {
     "name": "stderr",
     "output_type": "stream",
     "text": [
      "23:04:46 - cmdstanpy - INFO - Chain [1] start processing\n",
      "23:04:54 - cmdstanpy - INFO - Chain [1] done processing\n"
     ]
    },
    {
     "name": "stdout",
     "output_type": "stream",
     "text": [
      "Ingesting for date: 2023-04-17 00:00:00\n"
     ]
    },
    {
     "name": "stderr",
     "output_type": "stream",
     "text": [
      "23:04:55 - cmdstanpy - INFO - Chain [1] start processing\n",
      "23:05:03 - cmdstanpy - INFO - Chain [1] done processing\n"
     ]
    },
    {
     "name": "stdout",
     "output_type": "stream",
     "text": [
      "Ingesting for date: 2023-04-18 00:00:00\n"
     ]
    },
    {
     "name": "stderr",
     "output_type": "stream",
     "text": [
      "23:05:04 - cmdstanpy - INFO - Chain [1] start processing\n",
      "23:05:12 - cmdstanpy - INFO - Chain [1] done processing\n"
     ]
    },
    {
     "name": "stdout",
     "output_type": "stream",
     "text": [
      "Ingesting for date: 2023-04-19 00:00:00\n"
     ]
    },
    {
     "name": "stderr",
     "output_type": "stream",
     "text": [
      "23:05:12 - cmdstanpy - INFO - Chain [1] start processing\n",
      "23:05:20 - cmdstanpy - INFO - Chain [1] done processing\n"
     ]
    },
    {
     "name": "stdout",
     "output_type": "stream",
     "text": [
      "Ingesting for date: 2023-04-20 00:00:00\n"
     ]
    },
    {
     "name": "stderr",
     "output_type": "stream",
     "text": [
      "23:05:21 - cmdstanpy - INFO - Chain [1] start processing\n",
      "23:05:28 - cmdstanpy - INFO - Chain [1] done processing\n"
     ]
    },
    {
     "name": "stdout",
     "output_type": "stream",
     "text": [
      "Ingesting for date: 2023-04-21 00:00:00\n"
     ]
    },
    {
     "name": "stderr",
     "output_type": "stream",
     "text": [
      "23:05:29 - cmdstanpy - INFO - Chain [1] start processing\n",
      "23:05:36 - cmdstanpy - INFO - Chain [1] done processing\n"
     ]
    },
    {
     "name": "stdout",
     "output_type": "stream",
     "text": [
      "Ingesting for date: 2023-04-22 00:00:00\n"
     ]
    },
    {
     "name": "stderr",
     "output_type": "stream",
     "text": [
      "23:05:36 - cmdstanpy - INFO - Chain [1] start processing\n",
      "23:05:44 - cmdstanpy - INFO - Chain [1] done processing\n"
     ]
    },
    {
     "name": "stdout",
     "output_type": "stream",
     "text": [
      "Ingesting for date: 2023-04-23 00:00:00\n"
     ]
    },
    {
     "name": "stderr",
     "output_type": "stream",
     "text": [
      "23:05:44 - cmdstanpy - INFO - Chain [1] start processing\n",
      "23:05:52 - cmdstanpy - INFO - Chain [1] done processing\n"
     ]
    },
    {
     "name": "stdout",
     "output_type": "stream",
     "text": [
      "Ingesting for date: 2023-04-24 00:00:00\n"
     ]
    },
    {
     "name": "stderr",
     "output_type": "stream",
     "text": [
      "23:05:53 - cmdstanpy - INFO - Chain [1] start processing\n",
      "23:06:01 - cmdstanpy - INFO - Chain [1] done processing\n"
     ]
    },
    {
     "name": "stdout",
     "output_type": "stream",
     "text": [
      "Ingesting for date: 2023-04-25 00:00:00\n"
     ]
    },
    {
     "name": "stderr",
     "output_type": "stream",
     "text": [
      "23:06:01 - cmdstanpy - INFO - Chain [1] start processing\n",
      "23:06:09 - cmdstanpy - INFO - Chain [1] done processing\n"
     ]
    },
    {
     "name": "stdout",
     "output_type": "stream",
     "text": [
      "Ingesting for date: 2023-04-26 00:00:00\n"
     ]
    },
    {
     "name": "stderr",
     "output_type": "stream",
     "text": [
      "23:06:10 - cmdstanpy - INFO - Chain [1] start processing\n",
      "23:06:18 - cmdstanpy - INFO - Chain [1] done processing\n"
     ]
    },
    {
     "name": "stdout",
     "output_type": "stream",
     "text": [
      "Ingesting for date: 2023-04-27 00:00:00\n"
     ]
    },
    {
     "name": "stderr",
     "output_type": "stream",
     "text": [
      "23:06:18 - cmdstanpy - INFO - Chain [1] start processing\n",
      "23:06:26 - cmdstanpy - INFO - Chain [1] done processing\n"
     ]
    },
    {
     "name": "stdout",
     "output_type": "stream",
     "text": [
      "Ingesting for date: 2023-04-28 00:00:00\n"
     ]
    },
    {
     "name": "stderr",
     "output_type": "stream",
     "text": [
      "23:06:26 - cmdstanpy - INFO - Chain [1] start processing\n",
      "23:06:34 - cmdstanpy - INFO - Chain [1] done processing\n"
     ]
    },
    {
     "name": "stdout",
     "output_type": "stream",
     "text": [
      "Ingesting for date: 2023-04-29 00:00:00\n"
     ]
    },
    {
     "name": "stderr",
     "output_type": "stream",
     "text": [
      "23:06:34 - cmdstanpy - INFO - Chain [1] start processing\n",
      "23:06:42 - cmdstanpy - INFO - Chain [1] done processing\n"
     ]
    },
    {
     "name": "stdout",
     "output_type": "stream",
     "text": [
      "Ingesting for date: 2023-04-30 00:00:00\n"
     ]
    },
    {
     "name": "stderr",
     "output_type": "stream",
     "text": [
      "23:06:42 - cmdstanpy - INFO - Chain [1] start processing\n",
      "23:06:50 - cmdstanpy - INFO - Chain [1] done processing\n"
     ]
    },
    {
     "name": "stdout",
     "output_type": "stream",
     "text": [
      "Ingesting for date: 2023-05-01 00:00:00\n"
     ]
    },
    {
     "name": "stderr",
     "output_type": "stream",
     "text": [
      "23:06:50 - cmdstanpy - INFO - Chain [1] start processing\n",
      "23:06:58 - cmdstanpy - INFO - Chain [1] done processing\n"
     ]
    },
    {
     "name": "stdout",
     "output_type": "stream",
     "text": [
      "Ingesting for date: 2023-05-02 00:00:00\n"
     ]
    },
    {
     "name": "stderr",
     "output_type": "stream",
     "text": [
      "23:06:58 - cmdstanpy - INFO - Chain [1] start processing\n",
      "23:07:06 - cmdstanpy - INFO - Chain [1] done processing\n"
     ]
    },
    {
     "name": "stdout",
     "output_type": "stream",
     "text": [
      "Ingesting for date: 2023-05-03 00:00:00\n"
     ]
    },
    {
     "name": "stderr",
     "output_type": "stream",
     "text": [
      "23:07:07 - cmdstanpy - INFO - Chain [1] start processing\n",
      "23:07:14 - cmdstanpy - INFO - Chain [1] done processing\n"
     ]
    },
    {
     "name": "stdout",
     "output_type": "stream",
     "text": [
      "Ingesting for date: 2023-05-04 00:00:00\n"
     ]
    },
    {
     "name": "stderr",
     "output_type": "stream",
     "text": [
      "23:07:15 - cmdstanpy - INFO - Chain [1] start processing\n",
      "23:07:23 - cmdstanpy - INFO - Chain [1] done processing\n"
     ]
    },
    {
     "name": "stdout",
     "output_type": "stream",
     "text": [
      "Ingesting for date: 2023-05-05 00:00:00\n"
     ]
    },
    {
     "name": "stderr",
     "output_type": "stream",
     "text": [
      "23:07:23 - cmdstanpy - INFO - Chain [1] start processing\n",
      "23:07:32 - cmdstanpy - INFO - Chain [1] done processing\n"
     ]
    },
    {
     "name": "stdout",
     "output_type": "stream",
     "text": [
      "Ingesting for date: 2023-05-06 00:00:00\n"
     ]
    },
    {
     "name": "stderr",
     "output_type": "stream",
     "text": [
      "23:07:32 - cmdstanpy - INFO - Chain [1] start processing\n",
      "23:07:40 - cmdstanpy - INFO - Chain [1] done processing\n"
     ]
    },
    {
     "name": "stdout",
     "output_type": "stream",
     "text": [
      "Ingesting for date: 2023-05-07 00:00:00\n"
     ]
    },
    {
     "name": "stderr",
     "output_type": "stream",
     "text": [
      "23:07:40 - cmdstanpy - INFO - Chain [1] start processing\n",
      "23:07:48 - cmdstanpy - INFO - Chain [1] done processing\n"
     ]
    }
   ],
   "source": [
    "for dt in dates_to_ingest:\n",
    "    hours = get_hours(dt)\n",
    "    print(f\"Ingesting for date: {dt}\")\n",
    "    training = df[:dt-datetime.timedelta(minutes=1)]\n",
    "    result = train_forecast(df, hours)\n",
    "    save_to_influxdb(result, client, bucket, org)"
   ]
  },
  {
   "cell_type": "markdown",
   "metadata": {},
   "source": [
    "Cuando acabe el proceso anterior ya deberíais tener los resultados en InfluxDB. Solo quedaría adaptar el dashboard anterior para visualizar también los datos de pronóstico. "
   ]
  },
  {
   "cell_type": "markdown",
   "metadata": {},
   "source": [
    "\n",
    "--- "
   ]
  },
  {
   "cell_type": "markdown",
   "metadata": {},
   "source": [
    "### <font color=\"#004D7F\"> <i class=\"fa fa-pencil-square-o\" aria-hidden=\"true\" style=\"color:#004D7F\"></i> Tarea 4</font>\n",
    "<br>\n",
    "\n",
    "Añade a la celda tipo graph del dashboard que creaste en la primera parte del capstone la serie predicha por el modelo que hemos entrenado.\n",
    "\n",
    "Para visualizar el pronóstico a futuro, necesitarás modificar el filtro de tiempo para incluir el día en curso. \n",
    "\n",
    "**Añade una captura de tu dashboard a continuación (incluyéndo el dashboard con la entrega)**. \n"
   ]
  },
  {
   "cell_type": "markdown",
   "metadata": {},
   "source": [
    "Resultado esperado (aprox):\n",
    "\n",
    "![tarea4](img/p2tarea4.png)"
   ]
  },
  {
   "cell_type": "markdown",
   "metadata": {},
   "source": [
    "<div style=\"text-align: right\"><font size=4> <i class=\"fa fa-check-square-o\" aria-hidden=\"true\" style=\"color:#00586D\"></i></font></div>\n",
    "\n",
    "--- "
   ]
  },
  {
   "cell_type": "code",
   "execution_count": null,
   "metadata": {},
   "outputs": [],
   "source": []
  }
 ],
 "metadata": {
  "kernelspec": {
   "display_name": "Python 3 (ipykernel)",
   "language": "python",
   "name": "python3"
  },
  "language_info": {
   "codemirror_mode": {
    "name": "ipython",
    "version": 3
   },
   "file_extension": ".py",
   "mimetype": "text/x-python",
   "name": "python",
   "nbconvert_exporter": "python",
   "pygments_lexer": "ipython3",
   "version": "3.11.3"
  }
 },
 "nbformat": 4,
 "nbformat_minor": 4
}
