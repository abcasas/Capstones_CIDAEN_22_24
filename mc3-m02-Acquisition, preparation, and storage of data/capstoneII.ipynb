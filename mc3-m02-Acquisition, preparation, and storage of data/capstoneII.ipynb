{
 "cells": [
  {
   "cell_type": "markdown",
   "metadata": {},
   "source": [
    "<img src=\"http://www.cidaen.es/assets/img/mCIDaeNnb.png\" alt=\"Logo CiDAEN\" align=\"right\">\n",
    "\n",
    "<br><br><br>\n",
    "<h2><font color=\"#00586D\" size=5>Capstone II: Recolección, preparación y almacenamiento de datos</font></h2>\n",
    "\n",
    "\n",
    "\n",
    "<h1><font color=\"#00586D\" size=6>Elaboración de una base de datos sobre películas.</font></h1>\n",
    "\n",
    "<br><br>\n",
    "<div style=\"text-align: right\">\n",
    "<font color=\"#00586D\" size=3>Jacinto Arias, Javier Cózar, Juan Ignacio Alonso</font><br>\n",
    "<font color=\"#00586D\" size=3>Máster en Ciencia de Datos e Ingeniería de Datos en la Nube I </font><br>\n",
    "<font color=\"#00586D\" size=3>Universidad de Castilla-La Mancha</font>\n",
    "\n",
    "</div>"
   ]
  },
  {
   "cell_type": "markdown",
   "metadata": {},
   "source": [
    "---\n",
    "\n",
    "<br>\n",
    "\n",
    "Este proyecto servirá para poner en práctica las herramientas y métodos que han sido tratados durante el segundo módulo del curso. \n",
    "\n",
    "Trabajaremos con diversas fuentes de datos de películas y extraeremos la información usando distintas técnicas:\n",
    "\n",
    "- IMDB: La famosa página de bases de datos de películas, extraeremos datos de un clon usando web scraping\n",
    "- IMDB: Trabajaremos con sus volcados de datos para hacer un proceso de fusión de la información\n",
    "- TMDB: Utilizaremos esta popular API para extraer información que complemente a la anterior.\n",
    "\n",
    "Por último integraremos parte de la información en una base de datos de MongoDB con la que podremos implementar un buscador de películas"
   ]
  },
  {
   "cell_type": "markdown",
   "metadata": {},
   "source": [
    "<a id=\"section1\"></a>\n",
    "## <font color=\"#00586D\"> 1. Lista de películas de IMDb  </font>\n",
    "<br>\n",
    "\n",
    "_Internet Movie Database ( [IMDb](http://www.imdb.com) )_ es uno de los sitios de referencia sobre películas y series en internet. Entre otras cosas, almacena información sobre repartos, tramas, presupuestos, etc. Además, contiene numerosas valoraciones y revisiones proporcionadas por los usuarios. Toda esta información es potencialmente accesible y recuperable de manera automática mediante __scraping__, aunque  __IMDb prohibe expresamente este tipo de acceso__, a menos que se cuente con una autorización. "
   ]
  },
  {
   "cell_type": "markdown",
   "metadata": {},
   "source": [
    "### <font color=\"#00586D\"> 1.1 Web scraping del dump de IMDB. </font>\n",
    "<br>\n",
    "\n",
    "Debido a la imposibilidad de obtener la autorización para este tipo de proyectos, vamos a trabajar sobre un pequeño *dump* de IMDB, disponible en la dirección http://c3-capstone2.jialonso.com. Este *dump* contiene las 10 películas mejor valoradas en IMDB y es una versión reducida del listado de 250 mejores películas disponible en https://www.imdb.com/chart/top.\n",
    "\n",
    "En primer lugar, importamos las librerías que utilizaremos para hacer web scraping."
   ]
  },
  {
   "cell_type": "code",
   "execution_count": null,
   "metadata": {},
   "outputs": [],
   "source": [
    "import requests\n",
    "import re\n",
    "from bs4 import BeautifulSoup\n",
    "import pandas as pd"
   ]
  },
  {
   "cell_type": "markdown",
   "metadata": {},
   "source": [
    "La página inicial contiene el listado de películas y el enlace a la página de cada una de ellas. Lo primero que vamos a hacer es obtener una lista con todos los enlaces."
   ]
  },
  {
   "cell_type": "code",
   "execution_count": null,
   "metadata": {},
   "outputs": [],
   "source": [
    "def get_links(url):\n",
    "    res = requests.get(url)\n",
    "    soup = BeautifulSoup(res.content)\n",
    "    \n",
    "    match = re.search('(https?://.+?)/', url)\n",
    "    if match:\n",
    "        base_url = match.group(1)\n",
    "    else:\n",
    "        base_url = url\n",
    "        \n",
    "    link_tags = soup.select('td.titleColumn a')\n",
    "    return [f'{base_url}{a_tag.get(\"href\")}' for a_tag in link_tags]\n",
    "    \n",
    "links = get_links('http://c3-capstone2.jialonso.com')\n",
    "print(links)"
   ]
  },
  {
   "cell_type": "markdown",
   "metadata": {},
   "source": [
    "El siguiente paso es obtener la información básica de cada una de las películas. Para cada una de las películas queremos obtener un diccionario con el siguiente formato:\n",
    "\n",
    "    {\n",
    "        'id': 'tt0068646',\n",
    "        'title': {\n",
    "            'primary': 'El padrino',\n",
    "            'original': 'The Godfather'\n",
    "        },\n",
    "        'year': 1972,\n",
    "        'genres': ['Crime', 'Drama'],\n",
    "        'runtimeMinutes': 175\n",
    "    }\n",
    "    \n",
    "Esta información se puede obtener de la cabecera de la película en la web, tal y como se muestra en la siguiente imagen:\n",
    "\n",
    "<a id=\"inicio\"></a>\n",
    "<img src=\"img/el_padrino.png\" alt=\"El padrino webscraping\">"
   ]
  },
  {
   "cell_type": "markdown",
   "metadata": {},
   "source": [
    "<font color=\"#00586D\" size=3><b><i class=\"fa fa-pencil-square-o\" aria-hidden=\"true\" style=\"color:#113D68\"></i> EJERCICIO 1</b></font>\n",
    "\n",
    "Implementar la función `duration_string_to_minutes` que transforme strings del tipo 'Xh YYmin' (por ejemplo 2h 24min) en la duración en minutos (por ejemplo, 144). Para ello, **utilizar una expresión regular** que detecte el número de minutos y horas del string. Por simplicidad, puede suponerse que la duración mínima de las películas es de 1 hora."
   ]
  },
  {
   "cell_type": "code",
   "execution_count": null,
   "metadata": {},
   "outputs": [],
   "source": [
    "def duration_string_to_minutes(duration):\n",
    "    \"\"\"\n",
    "    Convierte el string duration en el entero minutos. \n",
    "    Por ejemplo: duration_string_to_minutes(\"1h 37m\") = 97\n",
    "    \"\"\"\n",
    "    ???"
   ]
  },
  {
   "cell_type": "markdown",
   "metadata": {},
   "source": [
    "<font color=\"#00586D\" size=3><b><i class=\"fa fa-pencil-square-o\" aria-hidden=\"true\" style=\"color:#113D68\"></i> VALIDACIÓN</b></font>"
   ]
  },
  {
   "cell_type": "code",
   "execution_count": null,
   "metadata": {},
   "outputs": [],
   "source": [
    "assert duration_string_to_minutes('2h 30min') == 150\n",
    "assert duration_string_to_minutes('2h') == 120"
   ]
  },
  {
   "cell_type": "markdown",
   "metadata": {},
   "source": [
    "<div style=\"text-align: right\"><font size=4> <i class=\"fa fa-check-square-o\" aria-hidden=\"true\" style=\"color:#113D68\"></i>\n",
    " </font></div>"
   ]
  },
  {
   "cell_type": "markdown",
   "metadata": {},
   "source": [
    "<font color=\"#00586D\" size=3><b><i class=\"fa fa-pencil-square-o\" aria-hidden=\"true\" style=\"color:#113D68\"></i> EJERCICIO 2</b></font>\n",
    "\n",
    "Implementar la función `get_movie_info` que dada la url de una película en el *dump* de IMDB obtenga el id, título primario y original, año, género(s) y duración. El resultado devuelto será un diccionario con el formato presentado anteriormente.\n",
    "\n",
    "<div class=\"alert alert-block alert-info\">\n",
    "    \n",
    "<i class=\"fa fa-info-circle\" aria-hidden=\"true\"></i> __Nota__: Algunas funciones de la librería BeautifulSoup admiten el uso de expresiones regulares. Por ejemplo `parent_tag.find_all('a', href=re.compile(r'.*foo.*'))` devolvería todos los tags `a` dentro del tag `parent_tag` que contienen el texto foo.\n",
    "</div>\n",
    "\n",
    "<div class=\"alert alert-block alert-info\">\n",
    "    \n",
    "<i class=\"fa fa-info-circle\" aria-hidden=\"true\"></i> __Nota__: En ocasiones queremos obtener el texto incluído en un tag, pero no en sus descendientes, para ello podemos usar el método `.find(text=True)`. Por ejemplo:\n",
    "\n",
    "    soup = BeautifulSoup('<div>foo<span>bar</span></div>')\n",
    "    soup.get_text()  # foobar\n",
    "    soup.find(text=True)  # foo"
   ]
  },
  {
   "cell_type": "code",
   "execution_count": null,
   "metadata": {},
   "outputs": [],
   "source": [
    "def get_movie_info(url):\n",
    "    \"\"\"\n",
    "    Devuelve los datos de la película de la URL dada como parámetro:\n",
    "    \n",
    "    Por ejemplo: get_movie_info(\"http://c3-capstone2.jialonso.com/tt0068646.html\") devolvería: \n",
    "    {\n",
    "      'id': 'tt0068646',\n",
    "      'title': {\n",
    "          'primary': 'El padrino',\n",
    "          'original': 'The Godfather'\n",
    "      },\n",
    "      'year': 1972,\n",
    "      'genres': ['Crime', 'Drama'],\n",
    "      'runtimeMinutes': 175\n",
    "    }\n",
    "    \n",
    "    Podéis utilizar el siguiente código como base:\n",
    "    \n",
    "    res = requests.get(url)\n",
    "    soup = BeautifulSoup(res.content)\n",
    "            \n",
    "    _id = url.split('/')[-1].split('.')[0]\n",
    "    title_wrapper = soup.select_one('div.title_wrapper')  # Toda la información de la película se incluye dentro de este div\n",
    "    \n",
    "    title_primary_tag = ??? \n",
    "    title_original_tag = ???\n",
    "    year_tag = ???\n",
    "    genres_tags = ???\n",
    "    runtime_tag = ???\n",
    "            \n",
    "    return {\n",
    "        'id': _id,\n",
    "        'title': {\n",
    "            'primary': ???\n",
    "            'original': ???  # Si original no aparece, poned aquí el primario\n",
    "        },\n",
    "        'year': ???\n",
    "        'genres': ???\n",
    "        'runtimeMinutes': ???  # Usad la función duration_string_to_minutes(...)\n",
    "    }\n",
    "    \"\"\"\n",
    "    \n",
    "    ???\n"
   ]
  },
  {
   "cell_type": "markdown",
   "metadata": {},
   "source": [
    "<font color=\"#00586D\" size=3><b><i class=\"fa fa-pencil-square-o\" aria-hidden=\"true\" style=\"color:#113D68\"></i> VALIDACIÓN</b></font>"
   ]
  },
  {
   "cell_type": "code",
   "execution_count": null,
   "metadata": {},
   "outputs": [],
   "source": [
    "data = [get_movie_info(link) for link in links]\n",
    "print(data)"
   ]
  },
  {
   "cell_type": "code",
   "execution_count": null,
   "metadata": {},
   "outputs": [],
   "source": [
    "assert data[1][\"runtimeMinutes\"] == 175\n",
    "assert data[7][\"title\"][\"original\"] == \"Pulp Fiction\""
   ]
  },
  {
   "cell_type": "markdown",
   "metadata": {},
   "source": [
    "<div style=\"text-align: right\"><font size=4> <i class=\"fa fa-check-square-o\" aria-hidden=\"true\" style=\"color:#113D68\"></i>\n",
    " </font></div>"
   ]
  },
  {
   "cell_type": "markdown",
   "metadata": {},
   "source": [
    "El objeto `data`, en formato lista de diccionarios, lo podemos importar en un dataframe de pandas haciendo uso del método `json_normalize`."
   ]
  },
  {
   "cell_type": "code",
   "execution_count": null,
   "metadata": {},
   "outputs": [],
   "source": [
    "from pandas import json_normalize\n",
    "\n",
    "df_webscraping = json_normalize(data)\n",
    "df_webscraping.set_index('id', inplace=True)\n",
    "df_webscraping.head()"
   ]
  },
  {
   "cell_type": "markdown",
   "metadata": {},
   "source": [
    "---\n",
    "\n",
    "### <font color=\"#00586D\"> 1.2 Listado completo de películas de IMDB. </font>\n",
    "<br>"
   ]
  },
  {
   "cell_type": "markdown",
   "metadata": {},
   "source": [
    "Como hemos visto en el apartado anterior, el proceso de web scraping, aunque es posible, es muy lento y además no disponemos de un *dump* completo de IMDB. Por este motivo os proporcionamos un archivo con los datos básicos de más de 400.000 películas. Este archivo contiene películas posteriores al año 1927, es decir, al año en que tuvo lugar la primera proyección de cine con sonido.\n",
    "\n",
    "El archivo proporcionado es un fichero *zip* que contiene un fichero json por cada año, entre 1928 y 2019. Cada uno de estos ficheros tiene la misma estructura que el objeto `data` obtenido en el apartado anterior.\n",
    "\n",
    "Podemos descargar y descomprir el fichero *zip* directamente desde python:"
   ]
  },
  {
   "cell_type": "code",
   "execution_count": 4,
   "metadata": {},
   "outputs": [],
   "source": [
    "import io\n",
    "import json\n",
    "import os\n",
    "import zipfile\n",
    "\n",
    "if not os.path.exists('datos/imdb/movies/'):\n",
    "    url = 'http://c3-capstone2.jialonso.com/data/movies-json.zip'\n",
    "    res = requests.get(url)\n",
    "    obj = io.BytesIO(res.content)\n",
    "\n",
    "    with zipfile.ZipFile(obj) as zip_ref:\n",
    "        zip_ref.extractall('datos/imdb/movies/')"
   ]
  },
  {
   "cell_type": "markdown",
   "metadata": {},
   "source": [
    "<font color=\"#00586D\" size=3><b><i class=\"fa fa-pencil-square-o\" aria-hidden=\"true\" style=\"color:#113D68\"></i> EJERCICIO 3</b></font>\n",
    "\n",
    "El siguiente paso es leer estos ficheros JSON y crear un único dataframe con la información de todas las películas."
   ]
  },
  {
   "cell_type": "code",
   "execution_count": null,
   "metadata": {},
   "outputs": [],
   "source": [
    "def get_basics_df():\n",
    "    \"\"\"\n",
    "    Este método devuelve un dataframe con los datos de todas las películas contenidas en el fichero\n",
    "    movies-json.zip\n",
    "    \"\"\"\n",
    "    ???\n",
    "    "
   ]
  },
  {
   "cell_type": "markdown",
   "metadata": {},
   "source": [
    "<font color=\"#00586D\" size=3><b><i class=\"fa fa-pencil-square-o\" aria-hidden=\"true\" style=\"color:#113D68\"></i> VALIDACIÓN</b></font>"
   ]
  },
  {
   "cell_type": "code",
   "execution_count": null,
   "metadata": {},
   "outputs": [],
   "source": [
    "df_basics = get_basics_df()\n",
    "df_basics.head()"
   ]
  },
  {
   "cell_type": "code",
   "execution_count": null,
   "metadata": {},
   "outputs": [],
   "source": [
    "assert set(df_basics.columns) == {\"year\", \"runtimeMinutes\", \"genres\", \"title.original\", \"title.primary\"}\n",
    "assert len(df_basics) == 415633"
   ]
  },
  {
   "cell_type": "markdown",
   "metadata": {},
   "source": [
    "<div style=\"text-align: right\"><font size=4> <i class=\"fa fa-check-square-o\" aria-hidden=\"true\" style=\"color:#113D68\"></i>\n",
    " </font></div>"
   ]
  },
  {
   "cell_type": "markdown",
   "metadata": {},
   "source": [
    "Las características del dataframe resultante son las siguientes:"
   ]
  },
  {
   "cell_type": "code",
   "execution_count": null,
   "metadata": {},
   "outputs": [],
   "source": [
    "df_basics.info()"
   ]
  },
  {
   "cell_type": "markdown",
   "metadata": {},
   "source": [
    "---\n",
    "\n",
    "### <font color=\"#00586D\"> 1.3 Carga del fichero de ratings. </font>\n",
    "<br>\n",
    "\n",
    "_IMDB_ pone a disposición pública algunos conjuntos de datos actualizados en formato `csv` [(enlace)](https://datasets.imdbws.com). En este proyecto utilizaremos el fichero `title.ratings.gz` que contiene información sobre las valoraciones hechas a cada película. Nótese también la existencia del fichero `title.basics.tsv.gz` que contiene información muy similar a la proporcionada en el apartado anterior."
   ]
  },
  {
   "cell_type": "markdown",
   "metadata": {},
   "source": [
    "<font color=\"#00586D\" size=3><b><i class=\"fa fa-pencil-square-o\" aria-hidden=\"true\" style=\"color:#113D68\"></i> EJERCICIO 4</b></font>\n",
    "\n",
    "Leed el conjuntos de datos de ratings y almacenarlo en un _DataFrame_ llamado `df_ratings`. Para ello, considerar que las columnas están separadas por tabulaciones (caracter `\"\\t\"`).  Utilizar la primera columna como índice.\n",
    "\n",
    "<div class=\"alert alert-block alert-info\">\n",
    "    \n",
    "<i class=\"fa fa-info-circle\" aria-hidden=\"true\"></i> __Nota__: _Pandas_ también permite leer directamente archivos comprimidos directamente. Para ello, en este caso, hay que pasarle el parámetro `compression='gzip'`.\n",
    "</div>\n"
   ]
  },
  {
   "cell_type": "code",
   "execution_count": null,
   "metadata": {},
   "outputs": [],
   "source": [
    "def get_df_ratings():\n",
    "    \"\"\"\n",
    "    Devuelve el dataframe df_ratings...\n",
    "    \"\"\"\n",
    "    ???"
   ]
  },
  {
   "cell_type": "markdown",
   "metadata": {},
   "source": [
    "<font color=\"#00586D\" size=3><b><i class=\"fa fa-pencil-square-o\" aria-hidden=\"true\" style=\"color:#113D68\"></i> VALIDACIÓN</b></font>"
   ]
  },
  {
   "cell_type": "code",
   "execution_count": null,
   "metadata": {},
   "outputs": [],
   "source": [
    "df_ratings = get_df_ratings()\n",
    "df_ratings.head()"
   ]
  },
  {
   "cell_type": "code",
   "execution_count": null,
   "metadata": {},
   "outputs": [],
   "source": [
    "assert set(df_ratings.columns) == {\"averageRating\", \"numVotes\"}"
   ]
  },
  {
   "cell_type": "markdown",
   "metadata": {},
   "source": [
    "<div style=\"text-align: right\"><font size=4> <i class=\"fa fa-check-square-o\" aria-hidden=\"true\" style=\"color:#113D68\"></i>\n",
    " </font></div>"
   ]
  },
  {
   "cell_type": "markdown",
   "metadata": {},
   "source": [
    "Las características del dataframe resultante son las siguientes:"
   ]
  },
  {
   "cell_type": "code",
   "execution_count": null,
   "metadata": {},
   "outputs": [],
   "source": [
    "df_ratings.info()"
   ]
  },
  {
   "cell_type": "markdown",
   "metadata": {},
   "source": [
    "<div class=\"alert alert-block alert-info\">\n",
    "    \n",
    "<i class=\"fa fa-info-circle\" aria-hidden=\"true\"></i> __Nota__: La diferencia en el número de entradas entre los dataframes de información básica y el de ratings se debe a que el segundo incluye también información de series, cortos, etc.\n",
    "</div>"
   ]
  },
  {
   "cell_type": "markdown",
   "metadata": {},
   "source": [
    "---\n",
    "\n",
    "### <font color=\"#00586D\"> 1.4 Creación del conjunto de datos inicial </font>\n",
    "<br>\n",
    "\n",
    "Puesto que el número de títulos sigue siendo elevado, se van a considerar solamente aquellos títulos que han recibido más atención. \n",
    "\n",
    "<font color=\"#00586D\"> <i class=\"fa fa-pencil-square-o\" aria-hidden=\"true\" style=\"color:#113D68\"></i> </font> Seleccionar los títulos que han recibido más (estrictamente) de 50000 votos. \n",
    "\n",
    "<div class=\"alert alert-block alert-warning\">\n",
    "\n",
    "<i class=\"fa fa-exclamation-circle\" aria-hidden=\"true\"></i>\n",
    "__Importante__: Incluid los estrictamente posteriores, es decir, no se incluyen los que han recibido 50000 votos (por operatividad en casos posteriores).\n",
    "</div>"
   ]
  },
  {
   "cell_type": "markdown",
   "metadata": {},
   "source": [
    "<font color=\"#00586D\" size=3><b><i class=\"fa fa-pencil-square-o\" aria-hidden=\"true\" style=\"color:#113D68\"></i> EJERCICIO 5</b></font>"
   ]
  },
  {
   "cell_type": "code",
   "execution_count": null,
   "metadata": {},
   "outputs": [],
   "source": [
    "def filter_df_ratings(min_votes):\n",
    "    \"\"\"\n",
    "    Filtra el dataframe df_ratings y devuelve un nuevo dataframe en el que todas las filas tienen al menos min_votes\n",
    "    \"\"\"\n",
    "    ???\n",
    "    "
   ]
  },
  {
   "cell_type": "markdown",
   "metadata": {},
   "source": [
    "<font color=\"#00586D\" size=3><b><i class=\"fa fa-pencil-square-o\" aria-hidden=\"true\" style=\"color:#113D68\"></i> VALIDACIÓN</b></font>"
   ]
  },
  {
   "cell_type": "code",
   "execution_count": null,
   "metadata": {},
   "outputs": [],
   "source": [
    "df_ratings = filter_df_ratings(50000)\n",
    "df_ratings.head()"
   ]
  },
  {
   "cell_type": "code",
   "execution_count": null,
   "metadata": {},
   "outputs": [],
   "source": [
    "assert df_ratings[\"numVotes\"].min() > 50000"
   ]
  },
  {
   "cell_type": "markdown",
   "metadata": {},
   "source": [
    "<div style=\"text-align: right\"><font size=4> <i class=\"fa fa-check-square-o\" aria-hidden=\"true\" style=\"color:#113D68\"></i>\n",
    " </font></div>"
   ]
  },
  {
   "cell_type": "markdown",
   "metadata": {},
   "source": [
    "Una vez acotados ambos conjuntos de datos se creará un solo conjunto, al que se denominará `df_movies`, y que contendrá las películas que aparezcan en ambos, es decir:\n",
    "\n",
    "* películas posteriores a 1927 (datos iniciales proporcionados en el apartado 1.1)\n",
    "* han rebido más de 50000 votos."
   ]
  },
  {
   "cell_type": "markdown",
   "metadata": {},
   "source": [
    "<font color=\"#00586D\" size=3><b><i class=\"fa fa-pencil-square-o\" aria-hidden=\"true\" style=\"color:#113D68\"></i> EJERCICIO 6</b></font>\n",
    "\n",
    "Unir los dos conjuntos de datos anteriores y almacenarlos en el _DataFrame_ `df_movies`. "
   ]
  },
  {
   "cell_type": "code",
   "execution_count": null,
   "metadata": {},
   "outputs": [],
   "source": [
    "def join_dataframes():\n",
    "    \"\"\"\n",
    "    Une los dataframes df_basics y df_ratings y devuelve el dataframe resultante\n",
    "    \"\"\"\n",
    "    ???"
   ]
  },
  {
   "cell_type": "markdown",
   "metadata": {},
   "source": [
    "<font color=\"#00586D\" size=3><b><i class=\"fa fa-pencil-square-o\" aria-hidden=\"true\" style=\"color:#113D68\"></i> VALIDACIÓN</b></font>"
   ]
  },
  {
   "cell_type": "code",
   "execution_count": null,
   "metadata": {},
   "outputs": [],
   "source": [
    "print(\"El número final de títulos es {:d}\".format(len(df_ratings)))\n",
    "\n",
    "df_movies = join_dataframes()\n",
    "df_movies.head()"
   ]
  },
  {
   "cell_type": "code",
   "execution_count": null,
   "metadata": {},
   "outputs": [],
   "source": [
    "assert set(df_movies.columns) == {\"year\", \"runtimeMinutes\", \"genres\", \"title.original\", \"title.primary\", \"averageRating\", \"numVotes\"}"
   ]
  },
  {
   "cell_type": "markdown",
   "metadata": {},
   "source": [
    "<div style=\"text-align: right\"><font size=4> <i class=\"fa fa-check-square-o\" aria-hidden=\"true\" style=\"color:#113D68\"></i>\n",
    " </font></div>"
   ]
  },
  {
   "cell_type": "markdown",
   "metadata": {},
   "source": [
    "Por último, se conservarán los datos relevantes (algunos datos descartados se actualizarán posteriormente)."
   ]
  },
  {
   "cell_type": "markdown",
   "metadata": {},
   "source": [
    "<font color=\"#00586D\" size=3><b><i class=\"fa fa-pencil-square-o\" aria-hidden=\"true\" style=\"color:#113D68\"></i> EJERCICIO 7</b></font>\n",
    "\n",
    "Conservar solamente las columnas `'title.primary'`, `'genres'`, `'averageRating'` y `'numVotes'` de `df_movies`. Renombrarlas como `'title'`,`'genres'`,`'avg_rating'`y `'num_votes`. Renombrar el índice como `movie_id `."
   ]
  },
  {
   "cell_type": "code",
   "execution_count": null,
   "metadata": {},
   "outputs": [],
   "source": [
    "def select_columns():\n",
    "    \"\"\"\n",
    "    Selecciona las columnas del dataframe df_movies y devuelve el nuevo dataframe\n",
    "    \"\"\"\n",
    "    ???"
   ]
  },
  {
   "cell_type": "markdown",
   "metadata": {},
   "source": [
    "<font color=\"#00586D\" size=3><b><i class=\"fa fa-pencil-square-o\" aria-hidden=\"true\" style=\"color:#113D68\"></i> VALIDACIÓN</b></font>"
   ]
  },
  {
   "cell_type": "code",
   "execution_count": null,
   "metadata": {},
   "outputs": [],
   "source": [
    "df_movies = select_columns()\n",
    "df_movies.head()"
   ]
  },
  {
   "cell_type": "code",
   "execution_count": null,
   "metadata": {},
   "outputs": [],
   "source": [
    "assert set(df_movies.columns) == {\"title\", \"genres\", \"avg_rating\", \"num_votes\"}\n",
    "assert df_movies.index.name == \"movie_id\""
   ]
  },
  {
   "cell_type": "markdown",
   "metadata": {},
   "source": [
    "<div style=\"text-align: right\"><font size=4> <i class=\"fa fa-check-square-o\" aria-hidden=\"true\" style=\"color:#113D68\"></i>\n",
    " </font></div>"
   ]
  },
  {
   "cell_type": "markdown",
   "metadata": {},
   "source": [
    "Para ilustrar algunos ejemplos en el proyecto, se utilizará la película con identificador`'tt0068646'`: ___The Godfather___."
   ]
  },
  {
   "cell_type": "code",
   "execution_count": null,
   "metadata": {},
   "outputs": [],
   "source": [
    "tgf_movie_id = 'tt0068646'\n",
    "df_movies.loc[tgf_movie_id]"
   ]
  },
  {
   "cell_type": "markdown",
   "metadata": {},
   "source": [
    "<div style=\"text-align: right\">\n",
    "<a href=\"#inicio\"><font size=5><i class=\"fa fa-arrow-circle-up\" aria-hidden=\"true\" style=\"color:#00586D\"></i></font></a>\n",
    "</div>\n",
    "\n",
    "---\n",
    "\n",
    "\n",
    "<a id=\"section2\"></a>\n",
    "## <font color=\"#00586D\"> 2. The Movie Database (TMDb)  </font>\n",
    "\n",
    "<br>\n",
    "\n",
    "_The Movie Database ([TMDB](https://www.themoviedb.org))_ es otro recurso en la web que contiene información sobre películas y series, y se planteó como una alternativa a _IMDb_. A día de hoy, su uso como medio de recogida de críticas y valoraciones _es prácticamente nulo_. Sin embargo,  contiene información completa y actualizada sobre películas, y proporciona una API REST muy completa. En este proyecto utilizaremos la API de _TMDb_ para ampliar el conjunto inicial de datos. \n",
    "\n",
    "La API de _TMDb_ requiere auntentificación, por lo que para trabajar con ella es necesario, en primer lugar, disponer de un usuario. Una vez hecho el registro en el sitio, es necesario solicitar una clave para el uso de la API. Las instrucciones detalladas se muestran en esta página ([enlace](https://developers.themoviedb.org/3/getting-started/introduction)). Este proceso es sencillo, y básicamente consiste en 3 pasos:\n",
    "\n",
    "1. Entrar en la configuración de la cuenta personal.\n",
    "2. Entrar en el menú de la API.\n",
    "3. Crear la API. \n",
    "\n",
    "Posteriormente es posible acceder, dentro de la configuración de la cuenta, a la sección correspondiente a la API. En ella se encuentran varios tokens de acceso. En este proyecto necesitamos el primero de ellos, etiquetado como _Clave de la API (v3 auth)_. Copiar este token y asignarlo a la variable `token`."
   ]
  },
  {
   "cell_type": "code",
   "execution_count": null,
   "metadata": {},
   "outputs": [],
   "source": [
    "token = ???"
   ]
  },
  {
   "cell_type": "markdown",
   "metadata": {},
   "source": [
    "La API de _TMDb_ es accesible a través de `https://api.themoviedb.org/3/`. En la documentación ([enlace](https://developers.themoviedb.org/3/getting-started/introduction)) pueden consultarse todos los _endpoints_ que proporciona. Además, desde este sitio es posible probar los métodos, y generar las llamadas en diversos lenguajes. En el caso de _Python_ se generan dos alternativas. La primera utiliza la librería `http.client`, mientras que la segunda utiliza `requests`."
   ]
  },
  {
   "cell_type": "markdown",
   "metadata": {},
   "source": [
    "---\n",
    "\n",
    "### <font color=\"#00586D\"> 2.1. Obtención de información sobre cada película.</font>\n",
    "\n",
    "<br>\n",
    "\n",
    "La llamada `GET /movie/{movie_id}` permite obtener información sobre una película. El campo `movie_id` corresponde al identificador de la película, que puede ser el propio de _TMDb_, o el identificador en _IMDb_ (que es del que disponemos). Uno de los parámetros que toma  es `language`, que en este proyecto se fijará a `en_US`. "
   ]
  },
  {
   "cell_type": "code",
   "execution_count": null,
   "metadata": {},
   "outputs": [],
   "source": [
    "import requests\n",
    "import json\n",
    "\n",
    "language = 'en_US'  # 'es_ES' para español.\n",
    "params = {'api_key':token, 'languaje':language}"
   ]
  },
  {
   "cell_type": "markdown",
   "metadata": {},
   "source": [
    "<font color=\"#00586D\" size=3><b><i class=\"fa fa-pencil-square-o\" aria-hidden=\"true\" style=\"color:#113D68\"></i> EJERCICIO 8</b></font>\n",
    "\n",
    "Obtener la información relativa la película _The Godfather_  (cuyo código es `'tt0068646'` y está almacenado en `tgf_movie_id`)."
   ]
  },
  {
   "cell_type": "code",
   "execution_count": null,
   "metadata": {},
   "outputs": [],
   "source": [
    "def get_one_movie(movie_id):\n",
    "    \"\"\"\n",
    "    Devuelve un diccionario con los datos de la película recibida como parámetro del API de TMDB\n",
    "    \"\"\"\n",
    "    ???"
   ]
  },
  {
   "cell_type": "markdown",
   "metadata": {},
   "source": [
    "<font color=\"#00586D\" size=3><b><i class=\"fa fa-pencil-square-o\" aria-hidden=\"true\" style=\"color:#113D68\"></i> VALIDACIÓN</b></font>"
   ]
  },
  {
   "cell_type": "code",
   "execution_count": null,
   "metadata": {},
   "outputs": [],
   "source": [
    "tgf_data = get_one_movie(tgf_movie_id)\n",
    "\n",
    "# Esta es una de las formas de mostrar un json en formato \"amigable\"\n",
    "print(json.dumps(tgf_data, indent=3))"
   ]
  },
  {
   "cell_type": "code",
   "execution_count": null,
   "metadata": {},
   "outputs": [],
   "source": [
    "assert tgf_data[\"release_date\"] == \"1972-03-14\""
   ]
  },
  {
   "cell_type": "markdown",
   "metadata": {},
   "source": [
    "<div style=\"text-align: right\"><font size=4> <i class=\"fa fa-check-square-o\" aria-hidden=\"true\" style=\"color:#113D68\"></i>\n",
    " </font></div>"
   ]
  },
  {
   "cell_type": "markdown",
   "metadata": {},
   "source": [
    "<div class=\"alert alert-block alert-info\">\n",
    "    \n",
    "<i class=\"fa fa-info-circle\" aria-hidden=\"true\"></i> __Nota__: El campo `poster_path` del objeto JSON contiene el identificador del poster de la película, que puede ser accedido como `http://image.tmdb.org/t/p/w185/poster_path`.  \n",
    "</div>\n"
   ]
  },
  {
   "cell_type": "code",
   "execution_count": null,
   "metadata": {},
   "outputs": [],
   "source": [
    "from IPython.display import Image\n",
    "Image('http://image.tmdb.org/t/p/w185'+tgf_data['poster_path'])"
   ]
  },
  {
   "cell_type": "markdown",
   "metadata": {},
   "source": [
    "<font color=\"#00586D\" size=3><b><i class=\"fa fa-pencil-square-o\" aria-hidden=\"true\" style=\"color:#113D68\"></i> EJERCICIO 9</b></font>\n",
    "\n",
    "Una vez implementado el acceso a los datos de una película mediante la API de _TMDb_, se obtendrán los datos relativos a todas las películas referenciadas en `df_movies`, y se almacenarán en una estructura JSON que se denominará `movie_data`.\n",
    "\n",
    "<div class=\"alert alert-block alert-danger\">\n",
    "    \n",
    "<i class=\"fa fa-exclamation-triangle\" aria-hidden=\"true\"></i> __Muy importante:__ Cada llamada a la API requiere aproximadamente 0.5 segundos. Por tanto, la obtención de los datos para todas las películas puede requerir, si se hace secuencialmente, entorno a 1500 segundos. Debido a esto, y de cara a facilitar el desarrollo del trabajo en distintas sesiones, es conveniente almacenar los resultados en un archivo, al que se denominará `datos/backup/movie_data.json`. Una vez disponible este archivo, en las sesiones posteriores de trabajo, los datos se leerán de aquí.\n",
    "</div>"
   ]
  },
  {
   "cell_type": "code",
   "execution_count": null,
   "metadata": {},
   "outputs": [],
   "source": [
    "def get_movie_data():\n",
    "    \"\"\"\n",
    "    Obtiene y devuelve la estructura movie_data con el formato:\n",
    "    {\n",
    "      \"imdb_id1\": ...,\n",
    "      \"imdb_id2\": ...,\n",
    "    }\n",
    "    \n",
    "    Por ejemplo:\n",
    "    {\n",
    "      \"tt0068646\": {\n",
    "         \"adult\": False,\n",
    "         \"backdrop_path\": \"/rSPw7tgCH9c6NqICZef4kZjFOQ5.jpg\",\n",
    "         ...\n",
    "      },\n",
    "      ...\n",
    "    }\n",
    "    \"\"\"\n",
    "    ???"
   ]
  },
  {
   "cell_type": "markdown",
   "metadata": {},
   "source": [
    "<font color=\"#00586D\" size=3><b><i class=\"fa fa-pencil-square-o\" aria-hidden=\"true\" style=\"color:#113D68\"></i> VALIDACIÓN</b></font>"
   ]
  },
  {
   "cell_type": "code",
   "execution_count": null,
   "metadata": {},
   "outputs": [],
   "source": [
    "import os\n",
    "\n",
    "# Si no se han descargado todavía los datos, los descarga y almacena en el archivo.\n",
    "if not os.path.isfile('datos/backup/movie_data.json'):\n",
    "    # Descarga los datos\n",
    "    movie_data = get_movie_data()\n",
    "    \n",
    "    with open('datos/backup/movie_data.json',\"w\") as movie_data_file:\n",
    "        json.dump(movie_data, movie_data_file)    \n",
    "        \n",
    "# Si se habían descargado anteriormente, y el archivo está disponible, los lee. \n",
    "else:\n",
    "    with open('datos/backup/movie_data.json','r') as movie_data_file:\n",
    "        movie_data = json.load(movie_data_file)\n",
    "    \n",
    "    \n",
    "print(\"El de títulos obtenidos es {:d}\".format(len(movie_data)))"
   ]
  },
  {
   "cell_type": "code",
   "execution_count": null,
   "metadata": {},
   "outputs": [],
   "source": [
    "assert movie_data[tgf_movie_id][\"release_date\"] == \"1972-03-14\""
   ]
  },
  {
   "cell_type": "markdown",
   "metadata": {},
   "source": [
    "<div style=\"text-align: right\"><font size=4> <i class=\"fa fa-check-square-o\" aria-hidden=\"true\" style=\"color:#113D68\"></i>\n",
    " </font></div>"
   ]
  },
  {
   "cell_type": "markdown",
   "metadata": {},
   "source": [
    "---\n",
    "\n",
    "### <font color=\"#00586D\"> 2.2. Incorporación de información de interés al conjunto de datos.</font>\n",
    "\n",
    "<br>\n",
    "\n",
    "<font color=\"#00586D\" size=3><b><i class=\"fa fa-pencil-square-o\" aria-hidden=\"true\" style=\"color:#113D68\"></i> EJERCICIO 10</b></font>\n",
    "\n",
    "Una vez obtenidos los datos relativos a cada película, y almacenados en la estructura `movie_data`, se ha de incorporar la información relevante  al _DataFrame_ `df_movies`. En concreto, se crearán columnas que contengan, para cada película, los siguientes campos (entre paréntesis se dan los tipos que han de utilizarse): \n",
    "\n",
    "* `budget (integer)`, que corresponde al presupuesto,\n",
    "* `revenue (integer)`, que corresponde a las ganancias,\n",
    "* `release_date (TimeStamp)`, que corresponde a la fecha de estreno,\n",
    "* `original_language (String)`, que corresponde al idioma original,\n",
    "* `popularity (float)`, que corresponde a la popularidad."
   ]
  },
  {
   "cell_type": "markdown",
   "metadata": {},
   "source": [
    "<div class=\"alert alert-block alert-info\">\n",
    "    \n",
    "<i class=\"fa fa-info-circle\" aria-hidden=\"true\"></i> Existen varias formas de llevar a cabo esta incorporación de datos. Una de ellas es crear una serie para cada una de las columnas mediante datos obtenidos con comprensión de listas, e incorporarla al _DataFrame_. Otra alternativa consiste en crear un _DataFrame_ con `pd.DataFrame.from_dict` y combinarlo con `df_movies`. \n",
    "</div>"
   ]
  },
  {
   "cell_type": "code",
   "execution_count": null,
   "metadata": {},
   "outputs": [],
   "source": [
    "def extend_df_movies():\n",
    "    \"\"\"\n",
    "    Añade las columnas budget, revenue, release_date, original_language y popularity al dataframe df_movies y devuelve el dataframe resultante\n",
    "    \"\"\"\n",
    "    ???"
   ]
  },
  {
   "cell_type": "markdown",
   "metadata": {},
   "source": [
    "<font color=\"#00586D\" size=3><b><i class=\"fa fa-pencil-square-o\" aria-hidden=\"true\" style=\"color:#113D68\"></i> VALIDACIÓN</b></font>"
   ]
  },
  {
   "cell_type": "code",
   "execution_count": null,
   "metadata": {},
   "outputs": [],
   "source": [
    "df_movies = extend_df_movies()\n",
    "df_movies.head()"
   ]
  },
  {
   "cell_type": "code",
   "execution_count": null,
   "metadata": {},
   "outputs": [],
   "source": [
    "assert set(df_movies.columns) == {\"title\", \"genres\", \"avg_rating\", \"num_votes\", \"budget\", \"revenue\", \"release_date\", \"original_language\", \"popularity\", \"poster_path\"}\n",
    "df_movies.info()"
   ]
  },
  {
   "cell_type": "markdown",
   "metadata": {},
   "source": [
    "<div style=\"text-align: right\"><font size=4> <i class=\"fa fa-check-square-o\" aria-hidden=\"true\" style=\"color:#113D68\"></i>\n",
    " </font></div>"
   ]
  },
  {
   "cell_type": "markdown",
   "metadata": {},
   "source": [
    "---\n",
    "\n",
    "### <font color=\"#00586D\">2.3. Palabras clave</font>\n",
    "\n",
    "<br>\n",
    "\n",
    "La llamada `https://api.themoviedb.org/3/movie/'+movie_id+'/keywords` devuelve las palabras clave correspondientes a la película con identificador `movie_id`. "
   ]
  },
  {
   "cell_type": "markdown",
   "metadata": {},
   "source": [
    "<font color=\"#00586D\" size=3><b><i class=\"fa fa-pencil-square-o\" aria-hidden=\"true\" style=\"color:#113D68\"></i> EJERCICIO 11</b></font>\n",
    "\n",
    "Obtener y mostrar las palabras claves para la película _The Godfather_ (el código está almacenado en la variable `tgf_movie_id`)."
   ]
  },
  {
   "cell_type": "code",
   "execution_count": null,
   "metadata": {},
   "outputs": [],
   "source": [
    "def get_one_movie_keywords(movie_id):\n",
    "    \"\"\"\n",
    "    Devuelve los keywords con los datos de la película recibida como parámetro del API de TMDB\n",
    "    \"\"\"\n",
    "    ???"
   ]
  },
  {
   "cell_type": "markdown",
   "metadata": {},
   "source": [
    "<font color=\"#00586D\" size=3><b><i class=\"fa fa-pencil-square-o\" aria-hidden=\"true\" style=\"color:#113D68\"></i> VALIDACIÓN</b></font>"
   ]
  },
  {
   "cell_type": "code",
   "execution_count": null,
   "metadata": {},
   "outputs": [],
   "source": [
    "tgf_data = get_one_movie_keywords(tgf_movie_id)\n",
    "\n",
    "print(json.dumps(tgf_data,indent=3))"
   ]
  },
  {
   "cell_type": "code",
   "execution_count": null,
   "metadata": {},
   "outputs": [],
   "source": [
    "assert any([keyword[\"name\"] == \"mafia\" for keyword in tgf_data[\"keywords\"]])"
   ]
  },
  {
   "cell_type": "markdown",
   "metadata": {},
   "source": [
    "<div style=\"text-align: right\"><font size=4> <i class=\"fa fa-check-square-o\" aria-hidden=\"true\" style=\"color:#113D68\"></i>\n",
    " </font></div>"
   ]
  },
  {
   "cell_type": "markdown",
   "metadata": {},
   "source": [
    "<font color=\"#00586D\" size=3><b><i class=\"fa fa-pencil-square-o\" aria-hidden=\"true\" style=\"color:#113D68\"></i> EJERCICIO 12</b></font>\n",
    "\n",
    "Obtener las palabras clave de cada una de las películas y almacenarlas en un objeto JSON denominado `keywords_data`. \n",
    "\n",
    "<div class=\"alert alert-block alert-danger\">\n",
    "    \n",
    "<i class=\"fa fa-exclamation-triangle\" aria-hidden=\"true\"></i> Al igual que en el caso anterior, se guardarán los datos en un archivo, denominado ahora `datos/backup/keywords_data.json` para evitar tener que llamar a la API en sesiones de trabajo posteriores. \n",
    "</div>"
   ]
  },
  {
   "cell_type": "code",
   "execution_count": null,
   "metadata": {},
   "outputs": [],
   "source": [
    "def get_keywords_data():\n",
    "    \"\"\"\n",
    "    Obtiene y devuelve la estructura keywords_data\n",
    "    \"\"\"\n",
    "    ???"
   ]
  },
  {
   "cell_type": "markdown",
   "metadata": {},
   "source": [
    "<font color=\"#00586D\" size=3><b><i class=\"fa fa-pencil-square-o\" aria-hidden=\"true\" style=\"color:#113D68\"></i> VALIDACIÓN</b></font>"
   ]
  },
  {
   "cell_type": "code",
   "execution_count": null,
   "metadata": {},
   "outputs": [],
   "source": [
    "if not os.path.isfile('datos/backup/keywords_data.json'):\n",
    "    keywords_data = get_keywords_data()\n",
    "    \n",
    "    with open('datos/backup/keywords_data.json',\"w\") as keywords_data_file:\n",
    "        json.dump(keywords_data, keywords_data_file)    \n",
    "        \n",
    "# Si se hanían descargado anteriormente, los lee. \n",
    "else:\n",
    "    with open('datos/backup/keywords_data.json','r') as keywords_data_file:\n",
    "        keywords_data = json.load(keywords_data_file)   \n",
    "        \n",
    "print(\"El de títulos obtenidos es {:d}\".format(len(keywords_data)))        "
   ]
  },
  {
   "cell_type": "code",
   "execution_count": null,
   "metadata": {},
   "outputs": [],
   "source": [
    "assert any([keyword[\"name\"] == \"mafia\" for keyword in keywords_data[tgf_movie_id][\"keywords\"]])"
   ]
  },
  {
   "cell_type": "markdown",
   "metadata": {},
   "source": [
    "<div style=\"text-align: right\"><font size=4> <i class=\"fa fa-check-square-o\" aria-hidden=\"true\" style=\"color:#113D68\"></i>\n",
    " </font></div>"
   ]
  },
  {
   "cell_type": "code",
   "execution_count": null,
   "metadata": {},
   "outputs": [],
   "source": [
    "len(df_movies)"
   ]
  },
  {
   "cell_type": "markdown",
   "metadata": {},
   "source": [
    "El formato con que se devuelven las palabras clave para cada película tiene varios niveles. Se trata de un diccionario con un campo denominado `keywords` que contiene la lista con las palabras clave. Cada una representada, su vez por un diccionario del que interesa el campo `name`. "
   ]
  },
  {
   "cell_type": "markdown",
   "metadata": {},
   "source": [
    "<font color=\"#00586D\" size=3><b><i class=\"fa fa-pencil-square-o\" aria-hidden=\"true\" style=\"color:#113D68\"></i> EJERCICIO 13</b></font>\n",
    "\n",
    "Añadir a `df_movies` una columna, denominada `keywords` que contenga la lista de palabras clave para cada película. Este dato se obtendrá de `keywords_data`.\n",
    "\n",
    "<div class=\"alert alert-block alert-danger\">\n",
    "    \n",
    "<i class=\"fa fa-exclamation-triangle\" aria-hidden=\"true\"></i> Este ejercicio es difícil y requiere, sobre todo, tener clara la estructura. Una opción consiste en utilizar `df.apply(,axis=1)`.\n",
    "</div>"
   ]
  },
  {
   "cell_type": "code",
   "execution_count": null,
   "metadata": {},
   "outputs": [],
   "source": [
    "def get_keywords_serie():\n",
    "    \"\"\"\n",
    "    Obtiene y devuelve la serie de datos keywords\n",
    "    \"\"\"\n",
    "    ???"
   ]
  },
  {
   "cell_type": "markdown",
   "metadata": {},
   "source": [
    "<font color=\"#00586D\" size=3><b><i class=\"fa fa-pencil-square-o\" aria-hidden=\"true\" style=\"color:#113D68\"></i> VALIDACIÓN</b></font>"
   ]
  },
  {
   "cell_type": "code",
   "execution_count": null,
   "metadata": {},
   "outputs": [],
   "source": [
    "df_movies['keywords'] = get_keywords_serie()\n",
    "df_movies.head()"
   ]
  },
  {
   "cell_type": "code",
   "execution_count": null,
   "metadata": {},
   "outputs": [],
   "source": [
    "assert 'mafia' in df_movies.loc[tgf_movie_id].keywords"
   ]
  },
  {
   "cell_type": "markdown",
   "metadata": {},
   "source": [
    "<div style=\"text-align: right\"><font size=4> <i class=\"fa fa-check-square-o\" aria-hidden=\"true\" style=\"color:#113D68\"></i>\n",
    " </font></div>"
   ]
  },
  {
   "cell_type": "markdown",
   "metadata": {},
   "source": [
    "<div style=\"text-align: right\">\n",
    "<a href=\"#inicio\"><font size=5><i class=\"fa fa-arrow-circle-up\" aria-hidden=\"true\" style=\"color:#00586D\"></i></font></a>\n",
    "</div>\n",
    "\n",
    "---\n",
    "\n",
    "<a id=\"section4\"></a>\n",
    "## <font color=\"#00586D\"> 3. MongoDB </font>\n",
    "\n",
    "<br>\n",
    "\n",
    "A continuación vamos a almacenar el resultado de todo el proceso de extracción en un formato en el que podamos persistir y consultar los datos de manera cómoda como es mongoDB"
   ]
  },
  {
   "cell_type": "code",
   "execution_count": null,
   "metadata": {},
   "outputs": [],
   "source": [
    "import pymongo"
   ]
  },
  {
   "cell_type": "markdown",
   "metadata": {},
   "source": [
    "<font color=\"#00586D\" size=3><b><i class=\"fa fa-pencil-square-o\" aria-hidden=\"true\" style=\"color:#113D68\"></i> EJERCICIO 14</b></font>\n",
    "\n",
    "Crea un cluster de mongodb en Mongodb Atlas y abre una conexión utilizando pymongo. A continuación crea una base de datos llamada `capstone` y dentro una colección llamada `movies`."
   ]
  },
  {
   "cell_type": "code",
   "execution_count": null,
   "metadata": {},
   "outputs": [],
   "source": [
    "def create_mongodb_connection():\n",
    "    \"\"\"\n",
    "    Establece la conexión con el cluster de Mongodb Atlas\n",
    "    \"\"\"\n",
    "    ???"
   ]
  },
  {
   "cell_type": "markdown",
   "metadata": {},
   "source": [
    "<font color=\"#00586D\" size=3><b><i class=\"fa fa-pencil-square-o\" aria-hidden=\"true\" style=\"color:#113D68\"></i> VALIDACIÓN</b></font>"
   ]
  },
  {
   "cell_type": "code",
   "execution_count": null,
   "metadata": {},
   "outputs": [],
   "source": [
    "mongoClient = create_mongodb_connection()\n",
    "\n",
    "db = mongoClient.capstone\n",
    "movies = db.movies"
   ]
  },
  {
   "cell_type": "markdown",
   "metadata": {},
   "source": [
    "<div style=\"text-align: right\"><font size=4> <i class=\"fa fa-check-square-o\" aria-hidden=\"true\" style=\"color:#113D68\"></i>\n",
    " </font></div>"
   ]
  },
  {
   "cell_type": "markdown",
   "metadata": {},
   "source": [
    "<font color=\"#00586D\" size=3><b><i class=\"fa fa-pencil-square-o\" aria-hidden=\"true\" style=\"color:#113D68\"></i> EJERCICIO 15</b></font>\n",
    "\n",
    "Inserta el contenido de la base de datos `df_movies` en la colección de mongo. Para ello deberás exportar los datos a un diccionario utilizando la función `to_dict`. Recuerda que el formato viene determinado por el parámetro `orient`, si tienes dudas puedes consultar la documentación utilizando el comando `??df_movies.to_dict`"
   ]
  },
  {
   "cell_type": "code",
   "execution_count": null,
   "metadata": {},
   "outputs": [],
   "source": [
    "def insert_data():\n",
    "    \"\"\"\n",
    "    Inserta los datos en Mongodb\n",
    "    \"\"\"\n",
    "    ???"
   ]
  },
  {
   "cell_type": "markdown",
   "metadata": {},
   "source": [
    "<font color=\"#00586D\" size=3><b><i class=\"fa fa-pencil-square-o\" aria-hidden=\"true\" style=\"color:#113D68\"></i> VALIDACIÓN</b></font>"
   ]
  },
  {
   "cell_type": "code",
   "execution_count": null,
   "metadata": {},
   "outputs": [],
   "source": [
    "insert_data()\n",
    "assert movies.estimated_document_count() > 0"
   ]
  },
  {
   "cell_type": "markdown",
   "metadata": {},
   "source": [
    "<div style=\"text-align: right\"><font size=4> <i class=\"fa fa-check-square-o\" aria-hidden=\"true\" style=\"color:#113D68\"></i>\n",
    " </font></div>"
   ]
  },
  {
   "cell_type": "markdown",
   "metadata": {},
   "source": [
    "<font color=\"#00586D\" size=3><b><i class=\"fa fa-pencil-square-o\" aria-hidden=\"true\" style=\"color:#113D68\"></i> EJERCICIO 16</b></font>\n",
    "\n",
    "Vamos a probar a hacer una búsqueda muy sencilla. Intenta encontrar las películas con un rating superior a 9:"
   ]
  },
  {
   "cell_type": "code",
   "execution_count": null,
   "metadata": {},
   "outputs": [],
   "source": [
    "def get_movies_by_rating(rating):\n",
    "    \"\"\"\n",
    "    Obtiene las películas con un rating superior al recibido como parámetro\n",
    "    \"\"\"\n",
    "    ???"
   ]
  },
  {
   "cell_type": "markdown",
   "metadata": {},
   "source": [
    "<font color=\"#00586D\" size=3><b><i class=\"fa fa-pencil-square-o\" aria-hidden=\"true\" style=\"color:#113D68\"></i> VALIDACIÓN</b></font>"
   ]
  },
  {
   "cell_type": "code",
   "execution_count": null,
   "metadata": {},
   "outputs": [],
   "source": [
    "cursor = get_movies_by_rating(9)\n",
    "\n",
    "for m in cursor[0:10]:\n",
    "    print(m[\"title\"])"
   ]
  },
  {
   "cell_type": "markdown",
   "metadata": {},
   "source": [
    "<div style=\"text-align: right\"><font size=4> <i class=\"fa fa-check-square-o\" aria-hidden=\"true\" style=\"color:#113D68\"></i>\n",
    " </font></div>"
   ]
  },
  {
   "cell_type": "markdown",
   "metadata": {},
   "source": [
    "<font color=\"#00586D\" size=3><b><i class=\"fa fa-pencil-square-o\" aria-hidden=\"true\" style=\"color:#113D68\"></i> EJERCICIO 17</b></font>\n",
    "\n",
    "Ahora encuentra las películas cuyo género es `Action`"
   ]
  },
  {
   "cell_type": "code",
   "execution_count": null,
   "metadata": {},
   "outputs": [],
   "source": [
    "def get_movies_by_genre(genre):\n",
    "    \"\"\"\n",
    "    Obtiene las películas del género recibido como parámetro\n",
    "    \"\"\"\n",
    "    ???"
   ]
  },
  {
   "cell_type": "markdown",
   "metadata": {},
   "source": [
    "<font color=\"#00586D\" size=3><b><i class=\"fa fa-pencil-square-o\" aria-hidden=\"true\" style=\"color:#113D68\"></i> VALIDACIÓN</b></font>"
   ]
  },
  {
   "cell_type": "code",
   "execution_count": null,
   "metadata": {},
   "outputs": [],
   "source": [
    "cursor = get_movies_by_genre(\"Action\")\n",
    "\n",
    "for m in cursor[0:10]:\n",
    "    print(m[\"title\"])"
   ]
  },
  {
   "cell_type": "markdown",
   "metadata": {},
   "source": [
    "<div style=\"text-align: right\"><font size=4> <i class=\"fa fa-check-square-o\" aria-hidden=\"true\" style=\"color:#113D68\"></i>\n",
    " </font></div>"
   ]
  },
  {
   "cell_type": "markdown",
   "metadata": {},
   "source": [
    "<font color=\"#00586D\" size=3><b><i class=\"fa fa-pencil-square-o\" aria-hidden=\"true\" style=\"color:#113D68\"></i> EJERCICIO 18</b></font>\n",
    "\n",
    "Implementa una función que:\n",
    "\n",
    "- Reciba un input de usuario con una lista de keywords separadas por comas\n",
    "- Convierta el contenido a una lista de keywords (usa split)\n",
    "- Busca en mongoDB las películas que contengan esas keywords\n",
    "- Extrae las primeras 20 portadas\n",
    "- Imprime las portadas utilizando la utilidad Image"
   ]
  },
  {
   "cell_type": "code",
   "execution_count": 2,
   "metadata": {},
   "outputs": [],
   "source": [
    "from IPython.display import Image"
   ]
  },
  {
   "cell_type": "code",
   "execution_count": null,
   "metadata": {},
   "outputs": [],
   "source": [
    "def movies_by_keywords(keywords):\n",
    "    ???"
   ]
  },
  {
   "cell_type": "markdown",
   "metadata": {},
   "source": [
    "<font color=\"#00586D\" size=3><b><i class=\"fa fa-pencil-square-o\" aria-hidden=\"true\" style=\"color:#113D68\"></i> VALIDACIÓN</b></font>"
   ]
  },
  {
   "cell_type": "code",
   "execution_count": null,
   "metadata": {},
   "outputs": [],
   "source": [
    "movies_by_keywords(\"war,love\")"
   ]
  },
  {
   "cell_type": "markdown",
   "metadata": {},
   "source": [
    "<div style=\"text-align: right\"><font size=4> <i class=\"fa fa-check-square-o\" aria-hidden=\"true\" style=\"color:#113D68\"></i>\n",
    " </font></div>"
   ]
  },
  {
   "cell_type": "markdown",
   "metadata": {},
   "source": [
    "<div style=\"text-align: right\">\n",
    "<a href=\"#inicio\"><font size=5><i class=\"fa fa-arrow-circle-up\" aria-hidden=\"true\" style=\"color:#00586D\"></i></font></a>\n",
    "</div>\n",
    "\n",
    "---\n",
    "\n",
    "<div style=\"text-align: right\"> <font size=6><i class=\"fa fa-coffee\" aria-hidden=\"true\" style=\"color:#00586D\"></i> </font></div>"
   ]
  }
 ],
 "metadata": {
  "kernelspec": {
   "display_name": "Python 3",
   "language": "python",
   "name": "python3"
  },
  "language_info": {
   "codemirror_mode": {
    "name": "ipython",
    "version": 3
   },
   "file_extension": ".py",
   "mimetype": "text/x-python",
   "name": "python",
   "nbconvert_exporter": "python",
   "pygments_lexer": "ipython3",
   "version": "3.8.0"
  }
 },
 "nbformat": 4,
 "nbformat_minor": 4
}
