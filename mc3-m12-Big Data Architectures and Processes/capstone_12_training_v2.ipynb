{
 "cells": [
  {
   "cell_type": "markdown",
   "id": "5c2829b2",
   "metadata": {},
   "source": [
    "<img src=\"http://www.cidaen.es/assets/img/mCIDaeNnb.png\" alt=\"Logo CiDAEN\" align=\"right\">\n",
    "\n",
    "\n",
    "<br><br><br>\n",
    "<h2><font color=\"#00586D\" size=4>Módulo 12: Arquitecturas y procesos Big Data</font></h2>\n",
    "\n",
    "\n",
    "\n",
    "<h1><font color=\"#00586D\" size=5>Capstone 12. Parte 1: Modelo de <i>sentiment</i> sobre Amazon Reviews</font></h1>\n",
    "\n",
    "<br><br><br>\n",
    "<div style=\"text-align: right\">\n",
    "<font color=\"#00586D\" size=3>Enrique González, Jacinto Arias</font><br>\n",
    "<font color=\"#00586D\" size=3>Máster en Ciencia de Datos e Ingeniería de Datos en la Nube</font><br>\n",
    "<font color=\"#00586D\" size=3>Universidad de Castilla-La Mancha</font>\n",
    "\n",
    "\n",
    "\n",
    "\n",
    "</div>"
   ]
  },
  {
   "cell_type": "markdown",
   "id": "890eb90f",
   "metadata": {},
   "source": [
    "<a id=\"indice\"></a>\n",
    "<h2><font color=\"#00586D\" size=5>Índice</font></h2>\n",
    "\n",
    "\n",
    "* [1. Introducción](#section1)\n",
    "* [2. Análisis exploratorio](#section2)\n",
    "* [3. Modelado](#section3)"
   ]
  },
  {
   "cell_type": "code",
   "execution_count": 1,
   "id": "69c3d12e",
   "metadata": {},
   "outputs": [
    {
     "name": "stderr",
     "output_type": "stream",
     "text": [
      "Setting default log level to \"WARN\".\n",
      "To adjust logging level use sc.setLogLevel(newLevel). For SparkR, use setLogLevel(newLevel).\n",
      "23/08/11 05:32:45 WARN NativeCodeLoader: Unable to load native-hadoop library for your platform... using builtin-java classes where applicable\n"
     ]
    }
   ],
   "source": [
    "# Instalamos algunas librerías útiles para la práctica\n",
    "\n",
    "import pyspark.sql.functions as sqlf\n",
    "from pyspark.sql import SparkSession\n",
    "\n",
    "# Creamos la sesión de Spark. Modificad si fuera necesario la memoria del driver dependiendo de vuestra máquina (cuanta más memoria, mejor) \n",
    "spark = SparkSession.builder.config(\"spark.driver.memory\", \"8g\").getOrCreate()"
   ]
  },
  {
   "cell_type": "markdown",
   "id": "6204360a",
   "metadata": {},
   "source": [
    "---\n",
    "\n",
    "<a id=\"section1\"></a>\n",
    "## <font color=\"#00586D\"> 1. Introducción</font>\n",
    "<br>"
   ]
  },
  {
   "cell_type": "markdown",
   "id": "ac76b38b",
   "metadata": {},
   "source": [
    "En este capstone vamos a aprender un modelo de detección del sentimiento utilizando Spark y MLlib. Una vez aprendido ampliaremos el proyecto serializando este modelo y aplicándolo a un conjunto de test.\n",
    "\n",
    "Para ello utilizaremos el dataset de __amazon reviews__ que está disponible a través del campus virtual (bajo el nombre amazon-reviews-pds-parquet). El dataset proporcionado es una versión procesada (con menos categorías y en parquet) del dataset de amazon-reviews habitual disponible en Kaggle a través de este enlace: https://www.kaggle.com/datasets/cynthiarempel/amazon-us-customer-reviews-dataset\n",
    "\n",
    "Este dataset tiene las siguientes columnas (de su diccionario de datos):\n",
    "```\n",
    "marketplace       - 2 letter country code of the marketplace where the review was written.\n",
    "customer_id       - Random identifier that can be used to aggregate reviews written by a single author.\n",
    "review_id         - The unique ID of the review.\n",
    "product_id        - The unique Product ID the review pertains to. In the multilingual dataset the reviews\n",
    "                    for the same product in different countries can be grouped by the same product_id.\n",
    "product_parent    - Random identifier that can be used to aggregate reviews for the same product.\n",
    "product_title     - Title of the product.\n",
    "product_category  - Broad product category that can be used to group reviews \n",
    "                    (also used to group the dataset into coherent parts).\n",
    "star_rating       - The 1-5 star rating of the review.\n",
    "helpful_votes     - Number of helpful votes.\n",
    "total_votes       - Number of total votes the review received.\n",
    "vine              - Review was written as part of the Vine program.\n",
    "verified_purchase - The review is on a verified purchase.\n",
    "review_headline   - The title of the review.\n",
    "review_body       - The review text.\n",
    "review_date       - The date the review was written.\n",
    "```\n",
    "\n",
    "De estas, la columna `product_category` se usa como clave de partición. Podéis encontrar toda la información en el enlace que os proporcionamos más arriba. "
   ]
  },
  {
   "cell_type": "markdown",
   "id": "12c25b56",
   "metadata": {},
   "source": [
    "---\n",
    "\n",
    "<a id=\"section2\"></a>\n",
    "## <font color=\"#00586D\"> 2. Análisis exploratorio</font>\n",
    "<br>"
   ]
  },
  {
   "cell_type": "markdown",
   "id": "a6b4fa06",
   "metadata": {},
   "source": [
    "Antes de empezar con el modelado exploraremos los datos minimamente para poder estudiar sus propiedades."
   ]
  },
  {
   "cell_type": "markdown",
   "id": "096b1366",
   "metadata": {},
   "source": [
    "---\n",
    "### <font color=\"#004D7F\"> <i class=\"fa fa-pencil-square-o\" aria-hidden=\"true\" style=\"color:#004D7F\"></i> Tarea 1: Carga de datos </font>\n",
    "<br>\n",
    "\n",
    "Carga el dataset completo en formato parquet y cuenta sus registros. De momento, no lo persistas. \n",
    "\n",
    "\n"
   ]
  },
  {
   "cell_type": "code",
   "execution_count": 2,
   "id": "52ca06f8",
   "metadata": {},
   "outputs": [
    {
     "name": "stderr",
     "output_type": "stream",
     "text": [
      "                                                                                \r"
     ]
    }
   ],
   "source": [
    "# Prepara la lectura de datos en la siguiente variable\n",
    "\n",
    "# Solución\n",
    "reviews_df = spark.read.parquet('data/amazon-reviews-pds-parquet')"
   ]
  },
  {
   "cell_type": "code",
   "execution_count": 3,
   "id": "e52c4ba8",
   "metadata": {},
   "outputs": [
    {
     "name": "stderr",
     "output_type": "stream",
     "text": [
      "[Stage 1:=======================================================> (69 + 2) / 71]\r"
     ]
    },
    {
     "name": "stdout",
     "output_type": "stream",
     "text": [
      "16967903\n"
     ]
    },
    {
     "name": "stderr",
     "output_type": "stream",
     "text": [
      "                                                                                \r"
     ]
    }
   ],
   "source": [
    "# Cuenta los registros del dataset\n",
    "\n",
    "# Solución\n",
    "count = reviews_df.count() \n",
    "print(count)"
   ]
  },
  {
   "cell_type": "markdown",
   "id": "ef64ab8a",
   "metadata": {},
   "source": [
    "**Resultado esperado**: 16967903 registros\n",
    "\n",
    "<div style=\"text-align: right\"><font size=4> <i class=\"fa fa-check-square-o\" aria-hidden=\"true\" style=\"color:#00586D\"></i></font></div>\n"
   ]
  },
  {
   "cell_type": "markdown",
   "id": "cf872e82",
   "metadata": {},
   "source": [
    "---\n",
    "### <font color=\"#004D7F\"> <i class=\"fa fa-pencil-square-o\" aria-hidden=\"true\" style=\"color:#004D7F\"></i> Tarea 2: Filtrado </font>\n",
    "<br>\n",
    "\n",
    "\n",
    "Como el dataset es masivo para entrenar el modelo de sentiment vamos a trabajar únicamente con una partición. Concretamente utilizaremos la partición de `Electronics`. Filtra los datos para quedarte con esta partición y cuenta ahora el total de elementos de este nuevo dataset. No cachees este dataset. \n",
    "\n"
   ]
  },
  {
   "cell_type": "code",
   "execution_count": 4,
   "id": "b49b2fe0-6658-451a-a110-d264de953548",
   "metadata": {},
   "outputs": [],
   "source": [
    "import pyspark.sql.functions as sqlf\n",
    "reviews_df = reviews_df.filter(sqlf.col('product_category') == 'Electronics')"
   ]
  },
  {
   "cell_type": "code",
   "execution_count": 5,
   "id": "a699fb47",
   "metadata": {},
   "outputs": [
    {
     "name": "stderr",
     "output_type": "stream",
     "text": [
      "                                                                                \r"
     ]
    },
    {
     "data": {
      "text/plain": [
       "3105119"
      ]
     },
     "execution_count": 5,
     "metadata": {},
     "output_type": "execute_result"
    }
   ],
   "source": [
    "# Solución\n",
    "reviews_df.count()"
   ]
  },
  {
   "cell_type": "markdown",
   "id": "a8b41c33",
   "metadata": {},
   "source": [
    "**Resultado esperado**: 3105119 registros\n",
    "\n",
    "<div style=\"text-align: right\"><font size=4> <i class=\"fa fa-check-square-o\" aria-hidden=\"true\" style=\"color:#00586D\"></i></font></div>\n"
   ]
  },
  {
   "cell_type": "markdown",
   "id": "a0d8e091",
   "metadata": {},
   "source": [
    "---\n",
    "### <font color=\"#004D7F\"> <i class=\"fa fa-pencil-square-o\" aria-hidden=\"true\" style=\"color:#004D7F\"></i> Tarea 3: Almacenamiento </font>\n",
    "<br>\n",
    "\n",
    "\n",
    "Para no seguir trabajando con los datos públicos, vamos a escribir los datos en local. Para ello, escribe los datos en parquet dentro del directorio `data/electronics.parquet`. Utiliza repartition para tener 32 particiones. Tras esto, vuelve a cargar el dataset y cachéalo. \n",
    "\n"
   ]
  },
  {
   "cell_type": "code",
   "execution_count": 6,
   "id": "65812e5f",
   "metadata": {
    "scrolled": true
   },
   "outputs": [
    {
     "name": "stderr",
     "output_type": "stream",
     "text": [
      "                                                                                \r"
     ]
    }
   ],
   "source": [
    "# Escribe tu solución aquí\n",
    "reviews_df.repartition(32).write.format('parquet').mode('overwrite').save('data/electronics.parquet')\n",
    "reviews_df_rep = spark.read.format('parquet').load('data/electronics.parquet')\n",
    "reviews_df_rep.cache() #Sobrepasa la RAM de mi PC al ejecutarlo. Se ha ejecutado descacheado. Este seria el comando para cachear el dataset"
   ]
  },
  {
   "cell_type": "markdown",
   "id": "3244edd3",
   "metadata": {},
   "source": [
    "\n",
    "\n",
    "<div style=\"text-align: right\"><font size=4> <i class=\"fa fa-check-square-o\" aria-hidden=\"true\" style=\"color:#00586D\"></i></font></div>\n"
   ]
  },
  {
   "cell_type": "markdown",
   "id": "c1c2fd26",
   "metadata": {},
   "source": [
    "---\n",
    "### <font color=\"#004D7F\"> <i class=\"fa fa-pencil-square-o\" aria-hidden=\"true\" style=\"color:#004D7F\"></i> Tarea 4: Almacenamiento </font>\n",
    "<br>\n",
    "\n",
    "Obten los siguiente resultados del dataset que acabáis de cargar:\n",
    "\n",
    "1. Muestra el total de reviews para cada posible número de estrellas recibidas (*star_rating*)\n",
    "2. Obtén los 10 productos con mayor número de votos (*total_votes*) mostrando su nombre, numero de votos y valoración media (*star_rating*)\n",
    "3. Obtén la cantidad de reviews (1 registro de dataset -> 1 review) y la valoración media (*star_rating*) por mes y año. Obten los últimos 15 registros ordenador por año y mes.  "
   ]
  },
  {
   "cell_type": "code",
   "execution_count": 7,
   "id": "d385f8a3",
   "metadata": {},
   "outputs": [
    {
     "name": "stderr",
     "output_type": "stream",
     "text": [
      "[Stage 11:>                                                       (0 + 16) / 16]\r"
     ]
    },
    {
     "name": "stdout",
     "output_type": "stream",
     "text": [
      "+-----------+-------+\n",
      "|star_rating|  count|\n",
      "+-----------+-------+\n",
      "|          3| 239459|\n",
      "|          5|1787754|\n",
      "|          1| 359248|\n",
      "|          4| 538824|\n",
      "|          2| 179834|\n",
      "+-----------+-------+\n",
      "\n"
     ]
    },
    {
     "name": "stderr",
     "output_type": "stream",
     "text": [
      "                                                                                \r"
     ]
    }
   ],
   "source": [
    "# Escribe tus soluciones a continuación\n",
    "# Muestra el total de reviews para cada posible número de estrellas recibidas (star_rating)\n",
    "reviews_df_rep.groupBy('star_rating').agg(sqlf.count('star_rating').alias('count')).show()"
   ]
  },
  {
   "cell_type": "code",
   "execution_count": 8,
   "id": "a6e0dd01-c322-4c1d-afa9-7cbbcf294f66",
   "metadata": {},
   "outputs": [
    {
     "name": "stderr",
     "output_type": "stream",
     "text": [
      "[Stage 14:>                                                       (0 + 16) / 16]\r"
     ]
    },
    {
     "name": "stdout",
     "output_type": "stream",
     "text": [
      "+--------------------+-----------+-----------+\n",
      "|       product_title|total_votes|star_rating|\n",
      "+--------------------+-----------+-----------+\n",
      "|Denon AKDL1 Dedic...|      12944|          3|\n",
      "|AudioQuest K2 Ter...|       9072|          1|\n",
      "|Panasonic ErgoFit...|       8680|          5|\n",
      "|Apple iPod touch ...|       6353|          5|\n",
      "|Denon AKDL1 Dedic...|       5546|          1|\n",
      "|Apple iPod touch ...|       4595|          5|\n",
      "|Bose QuietComfort...|       4556|          4|\n",
      "|Panasonic ErgoFit...|       4341|          5|\n",
      "|X-Mini II XAM4-B ...|       4260|          1|\n",
      "|Denon AKDL1 Dedic...|       4242|          2|\n",
      "+--------------------+-----------+-----------+\n",
      "only showing top 10 rows\n",
      "\n"
     ]
    },
    {
     "name": "stderr",
     "output_type": "stream",
     "text": [
      "                                                                                \r"
     ]
    }
   ],
   "source": [
    "# Escribe tus soluciones a continuación\n",
    "# Obtén los 10 productos con mayor número de votos (total_votes) mostrando su nombre, numero de votos y valoración media (star_rating)\n",
    "reviews_df_rep.orderBy(sqlf.desc('total_votes')).select(sqlf.col('product_title'), sqlf.col('total_votes'), sqlf.col('star_rating')).show(10)"
   ]
  },
  {
   "cell_type": "code",
   "execution_count": 9,
   "id": "d161936d-0516-48f4-aeea-9321ac855214",
   "metadata": {},
   "outputs": [
    {
     "name": "stderr",
     "output_type": "stream",
     "text": [
      "[Stage 15:>                                                       (0 + 16) / 16]\r"
     ]
    },
    {
     "name": "stdout",
     "output_type": "stream",
     "text": [
      "+----+-----+------------+------------------+\n",
      "|year|month|review_count|  mean_star_rating|\n",
      "+----+-----+------------+------------------+\n",
      "|2015|    8|      102984| 4.093985473471608|\n",
      "|2015|    7|       99806|  4.08580646454121|\n",
      "|2015|    6|       91486| 4.093478783639027|\n",
      "|2015|    5|       89357| 4.100439808856609|\n",
      "|2015|    4|       93152| 4.102466935760907|\n",
      "|2015|    3|      108861|  4.11561532596614|\n",
      "|2015|    2|      107291| 4.118062092813004|\n",
      "|2015|    1|      120404| 4.152602903558021|\n",
      "|2014|   12|      107891| 4.120232456831432|\n",
      "|2014|   11|       77529|  4.10810148460576|\n",
      "|2014|   10|       78128| 4.114210014335449|\n",
      "|2014|    9|       77753| 4.116111275449179|\n",
      "|2014|    8|       82143| 4.115664146671049|\n",
      "|2014|    7|       79424| 4.118352135374698|\n",
      "|2014|    6|       48375|4.0157726098191215|\n",
      "+----+-----+------------+------------------+\n",
      "only showing top 15 rows\n",
      "\n"
     ]
    },
    {
     "name": "stderr",
     "output_type": "stream",
     "text": [
      "                                                                                \r"
     ]
    }
   ],
   "source": [
    "# Escribe tus soluciones a continuación\n",
    "# Obtén la cantidad de reviews (1 registro de dataset -> 1 review) y la valoración media (star_rating) por mes y año. Obten los últimos 15 registros ordenador por año y mes.\n",
    "(reviews_df_rep\n",
    " .withColumn('year', sqlf.year('review_date'))\n",
    " .withColumn('month', sqlf.month('review_date'))\n",
    " .groupBy('year','month')\n",
    " .agg((sqlf.count('*').alias('review_count')),\n",
    "      (sqlf.avg('star_rating').alias('mean_star_rating')))\n",
    " .orderBy(sqlf.desc('year'),sqlf.desc('month'))\n",
    " .show(15)\n",
    ")"
   ]
  },
  {
   "cell_type": "markdown",
   "id": "b06238b7",
   "metadata": {},
   "source": [
    "**Resultados esperados**:\n",
    "1. Muestra el total de reviews para cada posible número de estrellas recibidas (*star_rating*)\n",
    "\n",
    "|    |   star_rating |   count |\n",
    "|---:|--------------:|--------:|\n",
    "|  0 |             3 |  239459 |\n",
    "|  1 |             5 | 1787754 |\n",
    "|  2 |             1 |  359248 |\n",
    "|  3 |             4 |  538824 |\n",
    "|  4 |             2 |  179834 |\n",
    "\n",
    "\n",
    "2. Obtén los 10 productos con mayor número de votos (*total_votes*) mostrando su nombre, numero de votos y valoración media (*star_rating*)\n",
    "\n",
    "|    | product_title                                                                                    |   total_votes |   star_rating |\n",
    "|---:|:-------------------------------------------------------------------------------------------------|--------------:|--------------:|\n",
    "|  0 | Denon AKDL1 Dedicated Link Cable (Discontinued by Manufacturer)                                  |         12944 |             3 |\n",
    "|  1 | AudioQuest K2 Terminated Speaker Cable - UST 2.44 m Plugs 8' Pair (Discontinued by Manufacturer) |          9072 |             1 |\n",
    "|  2 | Panasonic ErgoFit In-Ear Earbud Headphone                                                        |          8680 |             5 |\n",
    "|  3 | Apple iPod touch 8GB (4th Generation)                                                            |          6353 |             5 |\n",
    "|  4 | Denon AKDL1 Dedicated Link Cable (Discontinued by Manufacturer)                                  |          5546 |             1 |\n",
    "|  5 | Apple iPod touch 8 GB 2nd Generation                                                             |          4595 |             5 |\n",
    "|  6 | Bose QuietComfort 15 Acoustic Noise Cancelling Headphones (Discontinued by Manufacturer)         |          4556 |             4 |\n",
    "|  7 | Panasonic ErgoFit In-Ear Earbud Headphone                                                        |          4341 |             5 |\n",
    "|  8 | X-Mini II XAM4-B Portable Capsule Speaker, Mono                                                  |          4260 |             1 |\n",
    "|  9 | Denon AKDL1 Dedicated Link Cable (Discontinued by Manufacturer)                                  |          4242 |             2 |\n",
    "\n",
    "3. Obtén la cantidad de reviews (1 registro de dataset -> 1 review) y la valoración media (*star_rating*) por mes y año. Obten los últimos 15 registros ordenador por año y mes. \n",
    "\n",
    "|    |   year |   month |   review_count |   mean_star_rating |\n",
    "|---:|-------:|--------:|---------------:|-------------------:|\n",
    "|  0 |   2015 |       8 |         102984 |            4.09399 |\n",
    "|  1 |   2015 |       7 |          99806 |            4.08581 |\n",
    "|  2 |   2015 |       6 |          91486 |            4.09348 |\n",
    "|  3 |   2015 |       5 |          89357 |            4.10044 |\n",
    "|  4 |   2015 |       4 |          93152 |            4.10247 |\n",
    "|  5 |   2015 |       3 |         108861 |            4.11562 |\n",
    "|  6 |   2015 |       2 |         107291 |            4.11806 |\n",
    "|  7 |   2015 |       1 |         120404 |            4.1526  |\n",
    "|  8 |   2014 |      12 |         107891 |            4.12023 |\n",
    "|  9 |   2014 |      11 |          77529 |            4.1081  |\n",
    "| 10 |   2014 |      10 |          78128 |            4.11421 |\n",
    "| 11 |   2014 |       9 |          77753 |            4.11611 |\n",
    "| 12 |   2014 |       8 |          82143 |            4.11566 |\n",
    "| 13 |   2014 |       7 |          79424 |            4.11835 |\n",
    "| 14 |   2014 |       6 |          48375 |            4.01577 |\n",
    "\n",
    "\n",
    "<div style=\"text-align: right\"><font size=4> <i class=\"fa fa-check-square-o\" aria-hidden=\"true\" style=\"color:#00586D\"></i></font></div>\n",
    "\n",
    "--- "
   ]
  },
  {
   "cell_type": "markdown",
   "id": "b21dc035",
   "metadata": {},
   "source": [
    "---\n",
    "\n",
    "<a id=\"section3\"></a>\n",
    "## <font color=\"#00586D\"> 3. Modelado</font>\n",
    "<br>"
   ]
  },
  {
   "cell_type": "markdown",
   "id": "b5fb323e",
   "metadata": {},
   "source": [
    "Como paso previo al modelado realizaremos dos procesos de limpieza sobre los datos:\n"
   ]
  },
  {
   "cell_type": "markdown",
   "id": "654e055b",
   "metadata": {},
   "source": [
    "---\n",
    "### <font color=\"#004D7F\"> <i class=\"fa fa-pencil-square-o\" aria-hidden=\"true\" style=\"color:#004D7F\"></i> Tarea 6: Preparación del texto </font>\n",
    "<br>\n",
    "\n",
    "Limpiead el texto de las reviews (`review_body`) utilizando expresiones sobre strings o expresiones regulares\n",
    " - Pasar todo el texto a minusculas.\n",
    " - Eliminar números y signos de puntuacion.\n",
    " - Si existen, elimina los registros con valores nulos en el body con las transformaciones anteriores. \n",
    " \n",
    "Muestra los resultados para las primeras 10 filas del dataframe ordenadas por `review_id`"
   ]
  },
  {
   "cell_type": "code",
   "execution_count": 10,
   "id": "6635fefd",
   "metadata": {},
   "outputs": [
    {
     "name": "stderr",
     "output_type": "stream",
     "text": [
      "[Stage 18:==============>                                         (4 + 12) / 16]\r"
     ]
    },
    {
     "name": "stdout",
     "output_type": "stream",
     "text": [
      "+--------------+--------------------+--------------------+\n",
      "|     review_id|         review_body|   clean_review_body|\n",
      "+--------------+--------------------+--------------------+\n",
      "|R10000WMGXS51T|Great little emer...|great little emer...|\n",
      "|R10001L4QTCA84|Lives up to its c...|lives up to its c...|\n",
      "|R10003OLR2P5UE|I've gone through...|ive gone through ...|\n",
      "|R10005O193PJ6W|stopped working a...|stopped working a...|\n",
      "|R10008LR7CU84N|I ordered this ca...|i ordered this ca...|\n",
      "|R10009JN2UWOJC|Have not owned it...|have not owned it...|\n",
      "|R1000AMVKPW32O|Bought for a gift...|bought for a gift...|\n",
      "|R1000CJMO2L8X4| Perfect for the gym| perfect for the gym|\n",
      "|R1000EDGJUU3CU|Love these !!! Th...|love these  the s...|\n",
      "|R1000EG9XXBLXT|I have had good s...|i have had good s...|\n",
      "+--------------+--------------------+--------------------+\n",
      "only showing top 10 rows\n",
      "\n"
     ]
    },
    {
     "name": "stderr",
     "output_type": "stream",
     "text": [
      "                                                                                \r"
     ]
    }
   ],
   "source": [
    "# Escribe tu solución aquí\n",
    "pattern = \"[^a-z\\s]\"\n",
    "\n",
    "review_df_rep_clean = (reviews_df_rep\n",
    " .select(\n",
    "     sqlf.col('review_id'), \n",
    "     sqlf.col('review_body'),\n",
    "     sqlf.regexp_replace(sqlf.lower(sqlf.col('review_body')), pattern, \"\").alias('clean_review_body')         \n",
    "         )\n",
    " .filter(sqlf.col('clean_review_body').isNotNull())\n",
    " .orderBy('review_id')\n",
    ")\n",
    "review_df_rep_clean.show(10)"
   ]
  },
  {
   "cell_type": "markdown",
   "id": "19c20f25",
   "metadata": {},
   "source": [
    "**Resultado esperado**:\n",
    "\n",
    "| review_id      | review_body                                                                                                                                                                                                                                                                                                                                                                                                                                                                                                                                                                                                                                                                                                                                                                                                                                                                                                                                                                                                                                                                                                                                                                                                                                                                                                             | clean_review_body                                                                                                                                                                                                                                                                                                                                                                                                                                                                                                                                                                                                                                                                                                                                                                                                                                                                                                                                                                                                                                                                                                                                                                                                                                          |\n",
    "|:---------------|:------------------------------------------------------------------------------------------------------------------------------------------------------------------------------------------------------------------------------------------------------------------------------------------------------------------------------------------------------------------------------------------------------------------------------------------------------------------------------------------------------------------------------------------------------------------------------------------------------------------------------------------------------------------------------------------------------------------------------------------------------------------------------------------------------------------------------------------------------------------------------------------------------------------------------------------------------------------------------------------------------------------------------------------------------------------------------------------------------------------------------------------------------------------------------------------------------------------------------------------------------------------------------------------------------------------------|:-----------------------------------------------------------------------------------------------------------------------------------------------------------------------------------------------------------------------------------------------------------------------------------------------------------------------------------------------------------------------------------------------------------------------------------------------------------------------------------------------------------------------------------------------------------------------------------------------------------------------------------------------------------------------------------------------------------------------------------------------------------------------------------------------------------------------------------------------------------------------------------------------------------------------------------------------------------------------------------------------------------------------------------------------------------------------------------------------------------------------------------------------------------------------------------------------------------------------------------------------------------|\n",
    "| R10000WMGXS51T | Great little emergency radio.  Very good reception.  The<br />weather band is a feature.  Can't beat the quality for this price/                                                                                                                                                                                                                                                                                                                                                                                                                                                                                                                                                                                                                                                                                                                                                                                                                                                                                                                                                                                                                                                                                                                                                                                        | great little emergency radio  very good reception  thebr weather band is a feature  cant beat the quality for this price                                                                                                                                                                                                                                                                                                                                                                                                                                                                                                                                                                                                                                                                                                                                                                                                                                                                                                                                                                                                                                                                                                                                   |\n",
    "| R10001L4QTCA84 | Lives up to its claim, and really does fit bulky phone cases. Braided cable is sturdy but flexible. I think it stays a little more flexible in the cold weather, which is nice. Definitely getting a few more in the future!                                                                                                                                                                                                                                                                                                                                                                                                                                                                                                                                                                                                                                                                                                                                                                                                                                                                                                                                                                                                                                                                                            | lives up to its claim and really does fit bulky phone cases braided cable is sturdy but flexible i think it stays a little more flexible in the cold weather which is nice definitely getting a few more in the future                                                                                                                                                                                                                                                                                                                                                                                                                                                                                                                                                                                                                                                                                                                                                                                                                                                                                                                                                                                                                                     |\n",
    "| R10003OLR2P5UE | I've gone through three pairs of these in the last two years. I am in love with the sound quality, and even though I know it's not the best I particularly love how the bass sounds. They're comfortable to wear and very isolating. With these headphones, you don't even need noise canceling. There is very little sound leak, unless you like to listen to music ridiculously loud. All in all, I was very impressed with these. They're without a doubt the best sounding headphones I've ever owned.<br /><br />Now, the problem: The wires are thin and stringy, and do NOT last. On my first pair, the part of the wire that connected to the left cup came apart. I'm not an abuser of headphones, either. On the other two pairs, they wire at the base next to the adapter came apart. I went at them with a soldering iron, desperately trying to make them last as long as I could, but they'd always crap out on me again. The sound quality distorts over time, and the foam around the cups is cheap and wears out quickly.<br /><br />They aren't worth the price for such bad quality. I'd suggest looking around for other pairs, Sony, Denon, and Sennheiser all have superior headphones for a similar price. I myself just ordered a pair of Denon AHD1001's, and here's hoping they last longer! | ive gone through three pairs of these in the last two years i am in love with the sound quality and even though i know its not the best i particularly love how the bass sounds theyre comfortable to wear and very isolating with these headphones you dont even need noise canceling there is very little sound leak unless you like to listen to music ridiculously loud all in all i was very impressed with these theyre without a doubt the best sounding headphones ive ever ownedbr br now the problem the wires are thin and stringy and do not last on my first pair the part of the wire that connected to the left cup came apart im not an abuser of headphones either on the other two pairs they wire at the base next to the adapter came apart i went at them with a soldering iron desperately trying to make them last as long as i could but theyd always crap out on me again the sound quality distorts over time and the foam around the cups is cheap and wears out quicklybr br they arent worth the price for such bad quality id suggest looking around for other pairs sony denon and sennheiser all have superior headphones for a similar price i myself just ordered a pair of denon ahds and heres hoping they last longer |\n",
    "| R10005O193PJ6W | stopped working after a while, changed batteries, it worked for a few days, then it quit                                                                                                                                                                                                                                                                                                                                                                                                                                                                                                                                                                                                                                                                                                                                                                                                                                                                                                                                                                                                                                                                                                                                                                                                                                | stopped working after a while changed batteries it worked for a few days then it quit                                                                                                                                                                                                                                                                                                                                                                                                                                                                                                                                                                                                                                                                                                                                                                                                                                                                                                                                                                                                                                                                                                                                                                      |\n",
    "| R10008LR7CU84N | I ordered this cable and it doesn't work when I contacted them they told me I was doing something wrong. I then had my dad who it a certified computer tech look at it and there is something wrong with the cable. When I told them they never responded to me again.                                                                                                                                                                                                                                                                                                                                                                                                                                                                                                                                                                                                                                                                                                                                                                                                                                                                                                                                                                                                                                                  | i ordered this cable and it doesnt work when i contacted them they told me i was doing something wrong i then had my dad who it a certified computer tech look at it and there is something wrong with the cable when i told them they never responded to me again                                                                                                                                                                                                                                                                                                                                                                                                                                                                                                                                                                                                                                                                                                                                                                                                                                                                                                                                                                                         |\n",
    "| R10009JN2UWOJC | Have not owned it that long however it has the features , feel and works like a quality unit that would be at a much higher price point                                                                                                                                                                                                                                                                                                                                                                                                                                                                                                                                                                                                                                                                                                                                                                                                                                                                                                                                                                                                                                                                                                                                                                                 | have not owned it that long however it has the features  feel and works like a quality unit that would be at a much higher price point                                                                                                                                                                                                                                                                                                                                                                                                                                                                                                                                                                                                                                                                                                                                                                                                                                                                                                                                                                                                                                                                                                                     |\n",
    "| R1000AMVKPW32O | Bought for a gift and it is just what was needed to mount the new 32&#34; TV outdoors. The fact that it has full motion swing makes it even better because we can move it around to see it from different angles and still have a sturdy mount.                                                                                                                                                                                                                                                                                                                                                                                                                                                                                                                                                                                                                                                                                                                                                                                                                                                                                                                                                                                                                                                                         | bought for a gift and it is just what was needed to mount the new  tv outdoors the fact that it has full motion swing makes it even better because we can move it around to see it from different angles and still have a sturdy mount                                                                                                                                                                                                                                                                                                                                                                                                                                                                                                                                                                                                                                                                                                                                                                                                                                                                                                                                                                                                                     |\n",
    "| R1000CJMO2L8X4 | Perfect for the gym                                                                                                                                                                                                                                                                                                                                                                                                                                                                                                                                                                                                                                                                                                                                                                                                                                                                                                                                                                                                                                                                                                                                                                                                                                                                                                     | perfect for the gym                                                                                                                                                                                                                                                                                                                                                                                                                                                                                                                                                                                                                                                                                                                                                                                                                                                                                                                                                                                                                                                                                                                                                                                                                                        |\n",
    "| R1000EDGJUU3CU | Love these !!! The sound quality is amazing ! The price was amazing especially for the quality.                                                                                                                                                                                                                                                                                                                                                                                                                                                                                                                                                                                                                                                                                                                                                                                                                                                                                                                                                                                                                                                                                                                                                                                                                         | love these  the sound quality is amazing  the price was amazing especially for the quality                                                                                                                                                                                                                                                                                                                                                                                                                                                                                                                                                                                                                                                                                                                                                                                                                                                                                                                                                                                                                                                                                                                                                                 |\n",
    "| R1000EG9XXBLXT | I have had good success with these disks, and have used hundreds of them successfully on both computers and a dedicated Panosonic DVD recorder. They seem very reliable, and the lines on the disk label help to keep labeling neat and straight.                                                                                                                                                                                                                                                                                                                                                                                                                                                                                                                                                                                                                                                                                                                                                                                                                                                                                                                                                                                                                                                                       | i have had good success with these disks and have used hundreds of them successfully on both computers and a dedicated panosonic dvd recorder they seem very reliable and the lines on the disk label help to keep labeling neat and straight                                                                                                                                                                                                                                                                                                                                                                                                                                                                                                                                                                                                                                                                                                                                                                                                                                                                                                                                                                                                              |\n",
    "\n",
    "<div style=\"text-align: right\"><font size=4> <i class=\"fa fa-check-square-o\" aria-hidden=\"true\" style=\"color:#00586D\"></i></font></div>\n"
   ]
  },
  {
   "cell_type": "markdown",
   "id": "2301ed8a",
   "metadata": {},
   "source": [
    "---\n",
    "### <font color=\"#004D7F\"> <i class=\"fa fa-pencil-square-o\" aria-hidden=\"true\" style=\"color:#004D7F\"></i> Tarea 7: Obtención del sentiment </font>\n",
    "<br>\n",
    "\n",
    "Cread la variable `sentiment` en función del número de estrellas asumiendo que una review de menos (<) de 3 estrellas es negativa, usando 1 para el sentiment positivo y 0 para el negativo. Para poder generar la variable que determine el sentiment a partir del número de estrellas podéis utilizar la función de spark `when`. Muestra el resultado para las primeras 10 reviews ordenadas por `review_id`. "
   ]
  },
  {
   "cell_type": "code",
   "execution_count": 11,
   "id": "81c01b5e",
   "metadata": {},
   "outputs": [
    {
     "name": "stderr",
     "output_type": "stream",
     "text": [
      "[Stage 19:>                                                       (0 + 16) / 16]\r"
     ]
    },
    {
     "name": "stdout",
     "output_type": "stream",
     "text": [
      "+--------------+--------------------+-----------+---------+\n",
      "|     review_id|         review_body|star_rating|sentiment|\n",
      "+--------------+--------------------+-----------+---------+\n",
      "|R10000WMGXS51T|Great little emer...|          5|        1|\n",
      "|R10001L4QTCA84|Lives up to its c...|          5|        1|\n",
      "|R10003OLR2P5UE|I've gone through...|          3|        1|\n",
      "|R10005O193PJ6W|stopped working a...|          3|        1|\n",
      "|R10008LR7CU84N|I ordered this ca...|          1|        0|\n",
      "|R10009JN2UWOJC|Have not owned it...|          5|        1|\n",
      "|R1000AMVKPW32O|Bought for a gift...|          5|        1|\n",
      "|R1000CJMO2L8X4| Perfect for the gym|          5|        1|\n",
      "|R1000EDGJUU3CU|Love these !!! Th...|          5|        1|\n",
      "|R1000EG9XXBLXT|I have had good s...|          5|        1|\n",
      "+--------------+--------------------+-----------+---------+\n",
      "only showing top 10 rows\n",
      "\n"
     ]
    },
    {
     "name": "stderr",
     "output_type": "stream",
     "text": [
      "                                                                                \r"
     ]
    }
   ],
   "source": [
    "# Escribe tu solución aquí\n",
    "review_df_rep_sentiment = (reviews_df_rep\n",
    " .select(\n",
    "     sqlf.col('review_id'), \n",
    "     sqlf.col('review_body'),\n",
    "     sqlf.col('star_rating'),\n",
    "     sqlf.when(sqlf.col('star_rating') < 3, 0).otherwise(1).alias(\"sentiment\")         \n",
    "         )\n",
    " .orderBy('review_id')\n",
    ")\n",
    "review_df_rep_sentiment.show(10)"
   ]
  },
  {
   "cell_type": "markdown",
   "id": "7d0bfea8",
   "metadata": {},
   "source": [
    "**Resultado esperado**:\n",
    "\n",
    "| review_id      | review_body                                                                                                                                                                                                                                                                                                                                                                                                                                                                                                                                                                                                                                                                                                                                                                                                                                                                                                                                                                                                                                                                                                                                                                                                                                                                                                             |   star_rating |   sentiment |\n",
    "|:---------------|:------------------------------------------------------------------------------------------------------------------------------------------------------------------------------------------------------------------------------------------------------------------------------------------------------------------------------------------------------------------------------------------------------------------------------------------------------------------------------------------------------------------------------------------------------------------------------------------------------------------------------------------------------------------------------------------------------------------------------------------------------------------------------------------------------------------------------------------------------------------------------------------------------------------------------------------------------------------------------------------------------------------------------------------------------------------------------------------------------------------------------------------------------------------------------------------------------------------------------------------------------------------------------------------------------------------------|--------------:|------------:|\n",
    "| R10000WMGXS51T | Great little emergency radio.  Very good reception.  The<br />weather band is a feature.  Can't beat the quality for this price/                                                                                                                                                                                                                                                                                                                                                                                                                                                                                                                                                                                                                                                                                                                                                                                                                                                                                                                                                                                                                                                                                                                                                                                        |             5 |           1 |\n",
    "| R10001L4QTCA84 | Lives up to its claim, and really does fit bulky phone cases. Braided cable is sturdy but flexible. I think it stays a little more flexible in the cold weather, which is nice. Definitely getting a few more in the future!                                                                                                                                                                                                                                                                                                                                                                                                                                                                                                                                                                                                                                                                                                                                                                                                                                                                                                                                                                                                                                                                                            |             5 |           1 |\n",
    "| R10003OLR2P5UE | I've gone through three pairs of these in the last two years. I am in love with the sound quality, and even though I know it's not the best I particularly love how the bass sounds. They're comfortable to wear and very isolating. With these headphones, you don't even need noise canceling. There is very little sound leak, unless you like to listen to music ridiculously loud. All in all, I was very impressed with these. They're without a doubt the best sounding headphones I've ever owned.<br /><br />Now, the problem: The wires are thin and stringy, and do NOT last. On my first pair, the part of the wire that connected to the left cup came apart. I'm not an abuser of headphones, either. On the other two pairs, they wire at the base next to the adapter came apart. I went at them with a soldering iron, desperately trying to make them last as long as I could, but they'd always crap out on me again. The sound quality distorts over time, and the foam around the cups is cheap and wears out quickly.<br /><br />They aren't worth the price for such bad quality. I'd suggest looking around for other pairs, Sony, Denon, and Sennheiser all have superior headphones for a similar price. I myself just ordered a pair of Denon AHD1001's, and here's hoping they last longer! |             3 |           1 |\n",
    "| R10005O193PJ6W | stopped working after a while, changed batteries, it worked for a few days, then it quit                                                                                                                                                                                                                                                                                                                                                                                                                                                                                                                                                                                                                                                                                                                                                                                                                                                                                                                                                                                                                                                                                                                                                                                                                                |             3 |           1 |\n",
    "| R10008LR7CU84N | I ordered this cable and it doesn't work when I contacted them they told me I was doing something wrong. I then had my dad who it a certified computer tech look at it and there is something wrong with the cable. When I told them they never responded to me again.                                                                                                                                                                                                                                                                                                                                                                                                                                                                                                                                                                                                                                                                                                                                                                                                                                                                                                                                                                                                                                                  |             1 |           0 |\n",
    "| R10009JN2UWOJC | Have not owned it that long however it has the features , feel and works like a quality unit that would be at a much higher price point                                                                                                                                                                                                                                                                                                                                                                                                                                                                                                                                                                                                                                                                                                                                                                                                                                                                                                                                                                                                                                                                                                                                                                                 |             5 |           1 |\n",
    "| R1000AMVKPW32O | Bought for a gift and it is just what was needed to mount the new 32&#34; TV outdoors. The fact that it has full motion swing makes it even better because we can move it around to see it from different angles and still have a sturdy mount.                                                                                                                                                                                                                                                                                                                                                                                                                                                                                                                                                                                                                                                                                                                                                                                                                                                                                                                                                                                                                                                                         |             5 |           1 |\n",
    "| R1000CJMO2L8X4 | Perfect for the gym                                                                                                                                                                                                                                                                                                                                                                                                                                                                                                                                                                                                                                                                                                                                                                                                                                                                                                                                                                                                                                                                                                                                                                                                                                                                                                     |             5 |           1 |\n",
    "| R1000EDGJUU3CU | Love these !!! The sound quality is amazing ! The price was amazing especially for the quality.                                                                                                                                                                                                                                                                                                                                                                                                                                                                                                                                                                                                                                                                                                                                                                                                                                                                                                                                                                                                                                                                                                                                                                                                                         |             5 |           1 |\n",
    "| R1000EG9XXBLXT | I have had good success with these disks, and have used hundreds of them successfully on both computers and a dedicated Panosonic DVD recorder. They seem very reliable, and the lines on the disk label help to keep labeling neat and straight.                                                                                                                                                                                                                                                                                                                                                                                                                                                                                                                                                                                                                                                                                                                                                                                                                                                                                                                                                                                                                                                                       |             5 |           1 |\n",
    "\n",
    "\n",
    "\n",
    "\n",
    "\n",
    "\n",
    "\n",
    "<div style=\"text-align: right\"><font size=4> <i class=\"fa fa-check-square-o\" aria-hidden=\"true\" style=\"color:#00586D\"></i></font></div>\n",
    "\n",
    "-----"
   ]
  },
  {
   "cell_type": "markdown",
   "id": "ea3eb4e7",
   "metadata": {},
   "source": [
    "---\n",
    "### <font color=\"#004D7F\"> <i class=\"fa fa-pencil-square-o\" aria-hidden=\"true\" style=\"color:#004D7F\"></i> Tarea 8: División del conjunto de datos </font>\n",
    "<br>\n",
    "\n",
    "Divide el conjunto de datos en entrenamiento (70% de los datos) y test (30% de los datos). Una vez hecho esto, guarda los datos de test en el bucket the s3 previamente creado (usa el nombre `electronics_test`)"
   ]
  },
  {
   "cell_type": "code",
   "execution_count": 12,
   "id": "b4ca164b",
   "metadata": {},
   "outputs": [],
   "source": [
    "# Escribe tu solución aquí\n",
    "joinExpression = review_df_rep_clean[\"review_id\"] == review_df_rep_sentiment[\"review_id\"]\n",
    "joinType = \"left\"\n",
    "\n",
    "df_electronics = (\n",
    "    review_df_rep_clean\n",
    "    .join(review_df_rep_sentiment, joinExpression, joinType)\n",
    "    .select(\n",
    "        review_df_rep_clean['review_id'],\n",
    "        sqlf.col('clean_review_body'),\n",
    "        sqlf.col('sentiment')        \n",
    "    )\n",
    ")\n",
    "\n",
    "df_train, df_test = df_electronics.randomSplit([0.7, 0.3], seed=42)\n",
    "\n",
    "#Al cambiar la practica ahora se guardaria en local.\n",
    "df_test.write.format('parquet').mode('overwrite').save('data/electronics_test.parquet')"
   ]
  },
  {
   "cell_type": "markdown",
   "id": "9f77c5df",
   "metadata": {},
   "source": [
    "\n",
    "\n",
    "<div style=\"text-align: right\"><font size=4> <i class=\"fa fa-check-square-o\" aria-hidden=\"true\" style=\"color:#00586D\"></i></font></div>\n",
    "\n",
    "-----"
   ]
  },
  {
   "cell_type": "markdown",
   "id": "6a7bbf12",
   "metadata": {},
   "source": [
    "A continuación vamos a entrenar el modelo, para ello utilizaremos diferentes opciones de preprocesamiento. Para poder entrenar un clasificador de sentimiento necesitamos contruir una representación del texto que nos permita entrenar el modelo. Para ello utilizaremos podemos utilizar algoritmos de extracción de características como TF-IDF o Word2Vec que vienen implementados en Spark MLlib y que nos permitirá transformar una cadena de texto a un vector para utilizarlo como datos de entrenamiento de un clasificador.  "
   ]
  },
  {
   "cell_type": "markdown",
   "id": "0d83bdaa",
   "metadata": {},
   "source": [
    "---\n",
    "### <font color=\"#004D7F\"> <i class=\"fa fa-pencil-square-o\" aria-hidden=\"true\" style=\"color:#004D7F\"></i> Tarea 8: Modelo de sentiment </font>\n",
    "<br>\n",
    "\n",
    "Construye un **pipeline** de entrenamiento de un modelo de sentiment a partir de los datos preparados anteriormente. Deberas utilizar una secuencia de diferentes  **transformadores** y **estimadores**:\n",
    "- `Tokenizer` nos permitirá construir un vector de palabras a partir de nuestras sentencias\n",
    "- `StopWordsRemover` nos permitirá limpiar de nuestros vectores de palabras las de menor significado\n",
    "\n",
    "- Construcción de características dos alternativas:\n",
    "    -  Modelo TF-IDF usando `HashingTF` e `IDF`\n",
    "    - `Word2Vec` nos permitirá crear un vector a partir de la lista de palabras\n",
    "\n",
    "- Clasificación binaria, basada en la variable sentiment que hemos utilizado, aplica un clasificador (LogisticRegregession, DecisionTree) evita ensembles por su alto tiempo de aprendizaje.\n",
    "\n",
    "Buscando en la documentación, encuentra los distintos elementos y conectalos en un pipeline junto a un algorimo de clasificación\n",
    "\n",
    "- Recomendamos utilizar una muestra (método `sample`) pues el tiempo puede ser excesivo\n",
    "- Es posible ajustar hiperparámetros, pero igualmente puede ser bastante lento\n",
    "\n",
    "**Valida el modelo con el conjunto de test anterior usando el area bajo la curva ROC**"
   ]
  },
  {
   "cell_type": "code",
   "execution_count": 13,
   "id": "a3e9d16b",
   "metadata": {
    "tags": []
   },
   "outputs": [],
   "source": [
    "df_train_sample = df_train.sample(0.2,42)"
   ]
  },
  {
   "cell_type": "code",
   "execution_count": 14,
   "id": "3833976e-30a5-4932-9838-3bab795dc040",
   "metadata": {},
   "outputs": [],
   "source": [
    "from pyspark.ml.feature import Tokenizer\n",
    "from pyspark.ml.feature import StopWordsRemover\n",
    "from pyspark.ml.feature import HashingTF, IDF\n",
    "from pyspark.ml.feature import Word2Vec\n",
    "from pyspark.ml.classification import LogisticRegression\n",
    "from pyspark.ml.classification import DecisionTreeClassifier\n",
    "from pyspark.ml import Pipeline\n",
    "from pyspark.ml.evaluation import BinaryClassificationEvaluator\n",
    "from pyspark.ml.tuning import CrossValidator, ParamGridBuilder"
   ]
  },
  {
   "cell_type": "code",
   "execution_count": 15,
   "id": "9e3c1908-0af4-4c11-b175-67dc5063cab4",
   "metadata": {},
   "outputs": [],
   "source": [
    "tokenizer = Tokenizer(inputCol=\"clean_review_body\", outputCol=\"words\")\n",
    "remover = StopWordsRemover(inputCol=\"words\", outputCol=\"words_filtered\")\n",
    "\n",
    "hashingTF = HashingTF(inputCol=\"words_filtered\", outputCol=\"rawFeatures\", numFeatures=20)\n",
    "idf = IDF(inputCol=\"rawFeatures\", outputCol=\"features\")\n",
    "\n",
    "word2Vec = Word2Vec(vectorSize = 50, maxSentenceLength =100, seed=42, inputCol=\"words_filtered\", outputCol=\"features\")\n",
    "\n",
    "lr = LogisticRegression(featuresCol = 'features', labelCol = 'sentiment')\n",
    "dt = DecisionTreeClassifier(maxDepth=3, maxBins=8, maxMemoryInMB=128, cacheNodeIds=False, featuresCol = 'features', labelCol = 'sentiment') #He cambiado configuraciones para que no me crashea por falta de memoria"
   ]
  },
  {
   "cell_type": "markdown",
   "id": "7a2893ae-d1ef-4376-baff-eb667be23d34",
   "metadata": {},
   "source": [
    "### Word2Vec + Logistic Regression"
   ]
  },
  {
   "cell_type": "code",
   "execution_count": 16,
   "id": "10fb3d7d-dddb-499a-a35e-3fb167749975",
   "metadata": {},
   "outputs": [],
   "source": [
    "word2vec_lr_pipeline = Pipeline(stages = [tokenizer, remover, word2Vec, lr])"
   ]
  },
  {
   "cell_type": "code",
   "execution_count": 17,
   "id": "c896fdb1-a987-4bb3-82d6-ccaea7f1e4a2",
   "metadata": {},
   "outputs": [
    {
     "name": "stderr",
     "output_type": "stream",
     "text": [
      "23/08/11 05:34:56 WARN InstanceBuilder: Failed to load implementation from:dev.ludovic.netlib.blas.JNIBLAS\n",
      "[Stage 202:===============================>                        (9 + 7) / 16]\r"
     ]
    }
   ],
   "source": [
    "word2vec_lr_model = word2vec_lr_pipeline.fit(df_train_sample)"
   ]
  },
  {
   "cell_type": "code",
   "execution_count": 18,
   "id": "b81cf450-abc3-41a8-b3f2-73a7306318da",
   "metadata": {},
   "outputs": [],
   "source": [
    "word2vec_lr_prediction = word2vec_lr_model.transform(df_test)"
   ]
  },
  {
   "cell_type": "code",
   "execution_count": 19,
   "id": "104af77b-65ff-489d-85f5-b396af9ef0ca",
   "metadata": {},
   "outputs": [
    {
     "name": "stderr",
     "output_type": "stream",
     "text": [
      "                                                                                \r"
     ]
    },
    {
     "name": "stdout",
     "output_type": "stream",
     "text": [
      "Area bajo la curva ROC para Word2Vec + LR: 0.9121236637202818\n"
     ]
    }
   ],
   "source": [
    "evaluator = BinaryClassificationEvaluator(labelCol=\"sentiment\", rawPredictionCol=\"rawPrediction\", metricName=\"areaUnderROC\")\n",
    "word2vec_lr_roc_auc = evaluator.evaluate(word2vec_lr_prediction)\n",
    "print(f\"Area bajo la curva ROC para Word2Vec + LR: {word2vec_lr_roc_auc}\")"
   ]
  },
  {
   "cell_type": "markdown",
   "id": "6b080018-8925-4900-9379-bfa0ccd3f1a4",
   "metadata": {},
   "source": [
    "### Word2Vec + Decision Tree"
   ]
  },
  {
   "cell_type": "code",
   "execution_count": 20,
   "id": "0c3f66b6-b619-417d-a7dd-f7c9704152f9",
   "metadata": {},
   "outputs": [],
   "source": [
    "word2vec_dt_pipeline = Pipeline(stages = [tokenizer, remover, word2Vec, dt])"
   ]
  },
  {
   "cell_type": "code",
   "execution_count": 21,
   "id": "6edd5247-bf8a-403d-b473-aa311994c8e9",
   "metadata": {},
   "outputs": [],
   "source": [
    "word2vec_dt_model = word2vec_dt_pipeline.fit(df_train_sample)"
   ]
  },
  {
   "cell_type": "code",
   "execution_count": 22,
   "id": "a7cf2f69-bb14-4d64-b3a9-22a1457d8811",
   "metadata": {},
   "outputs": [],
   "source": [
    "word2vec_dt_prediction = word2vec_dt_model.transform(df_test)"
   ]
  },
  {
   "cell_type": "code",
   "execution_count": 23,
   "id": "1152a17b-b0bb-4eb0-b06c-fc5730de3b9b",
   "metadata": {},
   "outputs": [],
   "source": [
    "evaluator = BinaryClassificationEvaluator(labelCol=\"sentiment\", rawPredictionCol=\"rawPrediction\", metricName=\"areaUnderROC\")\n",
    "word2vec_dt_roc_auc = evaluator.evaluate(word2vec_dt_prediction)\n",
    "print(f\"Area bajo la curva ROC para Word2Vec + DT: {word2vec_dt_roc_auc}\")"
   ]
  },
  {
   "cell_type": "markdown",
   "id": "4fee5731-5770-4bb2-81a3-82155a7d8169",
   "metadata": {},
   "source": [
    "### TF-IDF + Logistic Regression"
   ]
  },
  {
   "cell_type": "code",
   "execution_count": 24,
   "id": "32a1a718-a06b-48ee-ae3b-d09b070dc524",
   "metadata": {},
   "outputs": [],
   "source": [
    "tfidf_lr_pipeline = Pipeline(stages = [tokenizer, remover, hashingTF, idf, lr])"
   ]
  },
  {
   "cell_type": "code",
   "execution_count": 25,
   "id": "349f1197-bd6d-4457-adfe-dca19f15598b",
   "metadata": {},
   "outputs": [],
   "source": [
    "tfidf_lr_model = tfidf_lr_pipeline.fit(df_train_sample)"
   ]
  },
  {
   "cell_type": "code",
   "execution_count": 26,
   "id": "2985be7f-bf15-442e-91bb-705fa27a6cd9",
   "metadata": {},
   "outputs": [],
   "source": [
    "tfidf_lr_prediction = tfidf_lr_model.transform(df_test)"
   ]
  },
  {
   "cell_type": "code",
   "execution_count": 27,
   "id": "7a1eae3e-0fb6-4537-93ae-9c956e381fe2",
   "metadata": {},
   "outputs": [],
   "source": [
    "evaluator = BinaryClassificationEvaluator(labelCol=\"sentiment\", rawPredictionCol=\"rawPrediction\", metricName=\"areaUnderROC\")\n",
    "tfidf_lr_roc_auc = evaluator.evaluate(tfidf_lr_prediction)\n",
    "print(f\"Area bajo la curva ROC para TF-IDF + LR: {tfidf_lr_roc_auc}\")"
   ]
  },
  {
   "cell_type": "markdown",
   "id": "b986bf52-ef4b-49e4-982c-a4b7bae108cd",
   "metadata": {},
   "source": [
    "### TF-IDF + Decision Tree"
   ]
  },
  {
   "cell_type": "code",
   "execution_count": 28,
   "id": "972a9149-a9fc-423a-8b2d-4e0d401f006d",
   "metadata": {},
   "outputs": [],
   "source": [
    "tfidf_dt_pipeline = Pipeline(stages = [tokenizer, remover, hashingTF, idf, dt])"
   ]
  },
  {
   "cell_type": "code",
   "execution_count": 29,
   "id": "fa7abf3c-d75e-4c6e-8905-1fda7ffad535",
   "metadata": {},
   "outputs": [],
   "source": [
    "tfidf_dt_model = tfidf_dt_pipeline.fit(df_train_sample)"
   ]
  },
  {
   "cell_type": "code",
   "execution_count": 30,
   "id": "be17faa5-db52-473f-8f92-6c7c3c23897d",
   "metadata": {},
   "outputs": [],
   "source": [
    "tfidf_dt_prediction = tfidf_dt_model.transform(df_test)"
   ]
  },
  {
   "cell_type": "code",
   "execution_count": 31,
   "id": "de824c84-ce35-466c-bfc8-74957fdb1073",
   "metadata": {},
   "outputs": [],
   "source": [
    "evaluator = BinaryClassificationEvaluator(labelCol=\"sentiment\", rawPredictionCol=\"rawPrediction\", metricName=\"areaUnderROC\")\n",
    "tfidf_dt_roc_auc = evaluator.evaluate(tfidf_dt_prediction)\n",
    "print(f\"Area bajo la curva ROC para TF-IDF + DT: {tfidf_dt_roc_auc}\")"
   ]
  },
  {
   "cell_type": "markdown",
   "id": "6c40fb21",
   "metadata": {},
   "source": [
    "---\n",
    "### <font color=\"#004D7F\"> <i class=\"fa fa-pencil-square-o\" aria-hidden=\"true\" style=\"color:#004D7F\"></i> Tarea 9: Serialización </font>\n",
    "<br>\n",
    "\n",
    "Guarda el modelo entrenado en local, en un directorio nuevo para modelos, `../models/pipeline_model` utilizando la opción nativa de Spark. "
   ]
  },
  {
   "cell_type": "markdown",
   "id": "62552169-71eb-484c-b189-1b0231ff3abc",
   "metadata": {},
   "source": [
    "##### El mejor valor de area bajo la curva corresponde al empleo de Word2Vec + Logistic Regression\n",
    "- Area bajo la curva ROC para Word2Vec + LR: 0.9121229600079983\n",
    "\n",
    "- Area bajo la curva ROC para Word2Vec + DT: 0.6978580238168527\n",
    "\n",
    "- Area bajo la curva ROC para TF-IDF + LR: 0.6044488701825967\n",
    "\n",
    "- Area bajo la curva ROC para TF-IDF + DT: 0.5"
   ]
  },
  {
   "cell_type": "code",
   "execution_count": 32,
   "id": "8df4da92",
   "metadata": {
    "tags": []
   },
   "outputs": [
    {
     "name": "stderr",
     "output_type": "stream",
     "text": [
      "                                                                                \r"
     ]
    }
   ],
   "source": [
    "# Escribe tu solución aquí\n",
    "word2vec_lr_model.write().overwrite().save('models/pipeline_model')"
   ]
  },
  {
   "cell_type": "code",
   "execution_count": null,
   "id": "d0f267fd-de8f-49f6-bd7b-55c8746a87c4",
   "metadata": {},
   "outputs": [],
   "source": []
  }
 ],
 "metadata": {
  "kernelspec": {
   "display_name": "Python 3 (ipykernel)",
   "language": "python",
   "name": "python3"
  },
  "language_info": {
   "codemirror_mode": {
    "name": "ipython",
    "version": 3
   },
   "file_extension": ".py",
   "mimetype": "text/x-python",
   "name": "python",
   "nbconvert_exporter": "python",
   "pygments_lexer": "ipython3",
   "version": "3.11.4"
  }
 },
 "nbformat": 4,
 "nbformat_minor": 5
}
