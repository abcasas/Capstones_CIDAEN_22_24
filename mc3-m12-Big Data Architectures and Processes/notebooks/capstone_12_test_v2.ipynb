{
 "cells": [
  {
   "cell_type": "markdown",
   "id": "07a6cc98",
   "metadata": {},
   "source": [
    "<img src=\"http://www.cidaen.es/assets/img/cidaenNB.png\" alt=\"Logo CiDAEN\" align=\"right\">\n",
    "\n",
    "\n",
    "<br><br><br>\n",
    "<h2><font color=\"#00586D\" size=4>Módulo 12: Arquitecturas y procesos Big Data</font></h2>\n",
    "\n",
    "\n",
    "\n",
    "<h1><font color=\"#00586D\" size=5>Capstone 12. Parte 2: Usando el modelo de sentiment </font></h1>\n",
    "\n",
    "<br><br><br>\n",
    "<div style=\"text-align: right\">\n",
    "<font color=\"#00586D\" size=3>Enrique González, Jacinto Arias</font><br>\n",
    "<font color=\"#00586D\" size=3>Máster en Ciencia de Datos e Ingeniería de Datos en la Nube</font><br>\n",
    "<font color=\"#00586D\" size=3>Universidad de Castilla-La Mancha</font>\n",
    "\n",
    "\n",
    "\n",
    "\n",
    "</div>"
   ]
  },
  {
   "cell_type": "markdown",
   "id": "db8ed7b1",
   "metadata": {},
   "source": [
    "<a id=\"indice\"></a>\n",
    "<h2><font color=\"#00586D\" size=5>Índice</font></h2>\n",
    "\n",
    "\n",
    "* [1. Uso batch del modelo serializado](#section1)\n",
    "* [2. Comparación con Amazon Comprehend](#section2)"
   ]
  },
  {
   "cell_type": "code",
   "execution_count": null,
   "id": "a18d3492",
   "metadata": {
    "tags": []
   },
   "outputs": [],
   "source": [
    "# Instalamos algunas librerías útiles para la práctica\n",
    "\n",
    "import pyspark.sql.functions as sqlf\n",
    "from pyspark.sql import SparkSession\n",
    "\n",
    "# Creamos la sesión de Spark. Modificad si fuera necesario la memoria del driver dependiendo de vuestra máquina (cuanta más memoria, mejor) \n",
    "spark = SparkSession.builder.config(\"spark.driver.memory\", \"8g\").getOrCreate()"
   ]
  },
  {
   "cell_type": "markdown",
   "id": "560f8545",
   "metadata": {},
   "source": [
    "---\n",
    "\n",
    "<a id=\"section3\"></a>\n",
    "## <font color=\"#00586D\"> 1. Uso batch del modelo serializado</font>\n",
    "<br>"
   ]
  },
  {
   "cell_type": "markdown",
   "id": "17d94cf0",
   "metadata": {},
   "source": [
    "Vamos a cargar el modelo entrenado en la primera parte del capstone y lo vamos a aplicar en batch sobre el dataset que habíamos guardado previamente."
   ]
  },
  {
   "cell_type": "markdown",
   "id": "1c6b6f15",
   "metadata": {},
   "source": [
    "---\n",
    "### <font color=\"#004D7F\"> <i class=\"fa fa-pencil-square-o\" aria-hidden=\"true\" style=\"color:#004D7F\"></i> Tarea 10: Uso del modelo en batch </font>\n",
    "<br>\n",
    "\n",
    "\n",
    "Carga el modelo que hemos guardado en la parte 1 y aplicalo a los datos de test que también guardamos en esa parte. Evalúalo usando el área bajo la curva ROC.  "
   ]
  },
  {
   "cell_type": "code",
   "execution_count": null,
   "id": "572ea010",
   "metadata": {},
   "outputs": [],
   "source": [
    "## Escribe tu solución aquí"
   ]
  },
  {
   "cell_type": "code",
   "execution_count": null,
   "id": "d2366bc7",
   "metadata": {},
   "outputs": [],
   "source": []
  }
 ],
 "metadata": {
  "kernelspec": {
   "display_name": "Python 3",
   "language": "python",
   "name": "python3"
  },
  "language_info": {
   "codemirror_mode": {
    "name": "ipython",
    "version": 3
   },
   "file_extension": ".py",
   "mimetype": "text/x-python",
   "name": "python",
   "nbconvert_exporter": "python",
   "pygments_lexer": "ipython3",
   "version": "3.11.4"
  }
 },
 "nbformat": 4,
 "nbformat_minor": 5
}
