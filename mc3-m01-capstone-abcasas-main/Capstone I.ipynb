{
 "cells": [
  {
   "cell_type": "markdown",
   "metadata": {},
   "source": [
    "<img src=\"http://www.cidaen.es/assets/img/mCIDaeNnb.png\" alt=\"Logo CiDAEN\" align=\"right\">\n",
    "\n",
    "\n",
    "\n",
    "\n",
    "<br><br><br>\n",
    "<h2><font color=\"#00586D\" size=4>Capstone I</font></h2>\n",
    "\n",
    "<h1><font color=\"#00586D\" size=5>Análisis de datos de Fórmula 1</font></h1>\n",
    "<br><br><br>\n",
    "\n",
    "\n",
    "<div align=\"right\">\n",
    "<font color=\"#00586D\" size=3>Luis de la Ossa</font><br>\n",
    "<font color=\"#00586D\" size=3>Máster en Ciencia de Datos e Ingeniería de Datos en la Nube</font><br>\n",
    "<font color=\"#00586D\" size=3>Universidad de Castilla-La Mancha</font>\n",
    "\n",
    "</div>"
   ]
  },
  {
   "cell_type": "markdown",
   "metadata": {},
   "source": [
    "---\n",
    "\n",
    "<a id=\"indice\"></a>\n",
    "<h2><font color=\"#00586D\" size=5>Índice</font></h2>\n",
    "\n",
    "\n",
    "* [1. Introducción](#section1)\n",
    "* [2. Conductores](#section2)\n",
    "* [3. Carreras](#section3)\n",
    "* [4. Escuderías](#section4)\n",
    "* [5. Circuitos](#section5)\n",
    "* [6. Fernando Alonso vs rivales](#section6)\n",
    "* [7. Conclusiones y líneas de trabajo para TFM](#section7)\n",
    "\n",
    "---"
   ]
  },
  {
   "cell_type": "code",
   "execution_count": null,
   "metadata": {},
   "outputs": [],
   "source": [
    "from IPython.display import display, HTML\n",
    "display(HTML(\"<style>.container {width:95%} </style>\"))\n",
    "%config InlineBackend.figure_format = 'retina'\n",
    "%matplotlib inline\n",
    "\n",
    "import pandas as pd\n",
    "import numpy as np\n",
    "\n",
    "import matplotlib.pyplot as plt\n",
    "from matplotlib import style\n",
    "style.use('seaborn')"
   ]
  },
  {
   "cell_type": "markdown",
   "metadata": {},
   "source": [
    "---\n",
    "\n",
    "<a id=\"section1\"></a>\n",
    "## <font color=\"#00586D\"> 1. Introducción</font>\n",
    "<br>\n",
    "\n",
    "En este primer proyecto del máster se trabajará con información sobre la competición de *Fórmula 1* generada desde el año 1950 hasta esta misma temporada. El conjunto datos se ha descargado de Kaggle [(enlace)](https://www.kaggle.com/rohanrao/formula-1-world-championship-1950-2020), aunque a su vez el autor los recopiló del sitio `ergast.com`, que es una base de datos sobre Fórmula 1 que proporciona una API para la consulta [(enlace)](http://ergast.com/mrd/).\n",
    "\n",
    "A partir de este conjunto de datos, compuesto por 14 archivos `.csv`, se dará respuesta a una serie de cuestiones generales. También, como objetivo más concreto, se proporcionará una visión sobre la trayectoria (hasta el momento) del piloto español Fernando Alonso en esta competición. \n",
    "\n",
    "El enfoque de este trabajo, al igual que del primer módulo en su totalidad, es principalmente ***instrumental***. Por tanto, en lugar de llevar a cabo un análisis exploratorio de los datos como tal (esto lo haremos en el Capstone III), se abordarán una serie de ejercicios cuya resolución implicará manipular distintos *DataFrames*, y permitirá poner en práctica las habilidades adquiridas con *pandas* y *matplotlib*. En concreto, se pondrá el foco en *pandas*, ya que la visualización se trabajará en los módulos correspondientes.\n",
    "\n",
    "Por último, y debido a que éste es el primero de varios proyectos, **la carga de trabajo es importante**. No obstante, os animamos a ampliar el trabajo y construir alguna gráfica más en relación a algún aspecto que despierte vuestra curiosidad. Además, puesto que **una posible linea de TFM es la elaboración de un portfolio** con ampliación de los trabajos de los distintos módulos, podéis enfocar este trabajo adicional en esa línea."
   ]
  },
  {
   "cell_type": "markdown",
   "metadata": {},
   "source": [
    "<div class=\"alert alert-block alert-info\">\n",
    "    \n",
    "El texto marcado como <i class=\"fa fa-info-circle\" aria-hidden=\"true\"></i> corresponde a un desplegable con ***sugerencias*** que pueden ayudar a resolver los ejercicios. Os animamos, no obstante,  a hacer un intento de resolverlos antes de leerlas.\n",
    "</div>"
   ]
  },
  {
   "cell_type": "markdown",
   "metadata": {},
   "source": [
    "<div align=\"right\">\n",
    "<a href=\"#indice\"><font size=5 color=\"#00586D\"><i class=\"fa fa-arrow-circle-up\" aria-hidden=\"true\"></i></font></a>\n",
    "</div>\n",
    "\n",
    "---\n",
    "\n",
    "<a id=\"section2\"></a>\n",
    "## <font color=\"#00586D\"> 2. Conductores</font>\n",
    "<br>\n",
    "\n",
    "El archivo `data/drivers.csv` contiene información identificativa básica sobre los pilotos. Debido a que el proyecto se centrará también en un piloto concreto, `Fernando Alonso`, se tratará esta información en primer lugar.\n",
    "\n",
    "### <font size=3 color=\"#00586D\"> <i class=\"fa fa-pencil-square-o\" aria-hidden=\"true\" style=\"color:#00586D\"></i> Ejercicio 1</font>\n",
    "\n",
    "Cargar los datos del archivo `data/drivers.csv` en un *DataFrame* denominado `df_drivers`, mostrar la cabecera y, posteriormente, la información sobre la estructura del *DataFrame*.\n",
    "<br><br>\n",
    "\n",
    "\n",
    "<details>    \n",
    "<summary>\n",
    "    <font size=3 color=\"#00586D\"> <i class=\"fa fa-info-circle\"  aria-hidden=\"true\"></i></font>\n",
    "</summary>\n",
    "    \n",
    "* Cargar primero el conjunto de datos, sin utilizar ningún parámetro adicional.\n",
    "\n",
    "</details>   "
   ]
  },
  {
   "cell_type": "code",
   "execution_count": null,
   "metadata": {},
   "outputs": [],
   "source": [
    "df_drivers = ...\n",
    "df_drivers.head()"
   ]
  },
  {
   "cell_type": "code",
   "execution_count": null,
   "metadata": {},
   "outputs": [],
   "source": [
    "# COMPLETAR "
   ]
  },
  {
   "cell_type": "markdown",
   "metadata": {},
   "source": [
    "\n",
    "\n",
    "En la información del *DataFrame* puede apreciarse que una columna, `driverId`, corresponde al identificador y se ha codificado como entero. El resto, se han codificado como objetos, incluyendo el número (`number`) o la fecha de nacimiento (`dob`). Además, se aprecia que la nacionalidad (`nationality`) podría ser tratada como una categoría. Aunque todos estos cambios se podrían hacer mediante operaciones (`DataFrame.set_index()` y `DataFrame.astype()`), parece más cómodo volver a leer el archivo.\n",
    "\n",
    "\n",
    "\n",
    "Volver a cargar el archivo `data/drivers.csv` en un *DataFrame* denominado `df_drivers`. Utilizar ahora como índice la primera columna (`driverId`), que contiene el identificador individual de cada piloto.  Especificar que los valores perdidos se representan como `'\\N'`, y que el tipo de datos de las columnas `driverRef`, `code`, `forename`, y `surname` debe ser `string`. Especificar también que `nationality` es una categoría, e indicar que se trate la columna `dob` como un dato temporal mediante el parámetro `parse_dates` de `pd.read_csv()`.\n",
    "\n",
    "<br>\n",
    "\n",
    "<details>    \n",
    "<summary>\n",
    "    <font size=3 color=\"#00586D\"> <i class=\"fa fa-info-circle\"  aria-hidden=\"true\"></i> </font>\n",
    "</summary>\n",
    "   \n",
    "* Se recomienda echar un vistazo a la primera libreta del tutorial de *Pandas*, en la que se vio `pd.read_csv()`.    \n",
    "* Para especificar el valor `'\\N'` puede utilizarse una secuencia de escape o un *raw string*.\n",
    "\n",
    "</details>   \n",
    "\n"
   ]
  },
  {
   "cell_type": "code",
   "execution_count": null,
   "metadata": {},
   "outputs": [],
   "source": [
    "new_types ...\n",
    "\n",
    "df_drivers = ...\n",
    "\n",
    "df_drivers.head()"
   ]
  },
  {
   "cell_type": "code",
   "execution_count": null,
   "metadata": {
    "scrolled": true
   },
   "outputs": [],
   "source": [
    "df_drivers ..."
   ]
  },
  {
   "cell_type": "markdown",
   "metadata": {},
   "source": [
    "Extraer los datos relativos al piloto `Fernando Alonso`, cuyo código es `ALO`, y almacenarlos en una *Series* denominada `alonso_data`.  Almacenar el identificador correspondiente al piloto en la variable `alonso_id`. \n",
    "\n",
    "<br>\n",
    "\n",
    "<details>    \n",
    "<summary>\n",
    "    <font size=3 color=\"#00586D\"> <i class=\"fa fa-info-circle\"  aria-hidden=\"true\"></i> </font>\n",
    "</summary>\n",
    "   \n",
    "* El resultado de la selección condicional es un *DataFrame* con una fila. Para convertirlo a *Series* se puede utilizar el método `DataFrame.squeeze()`.\n",
    "* Por otra parte, el identificador es el nombre (`name`) de la *Series* resultante.\n",
    "\n",
    "</details>   \n",
    "\n"
   ]
  },
  {
   "cell_type": "code",
   "execution_count": null,
   "metadata": {},
   "outputs": [],
   "source": [
    "alonso_data = ...\n",
    "alonso_id = ..."
   ]
  },
  {
   "cell_type": "markdown",
   "metadata": {},
   "source": [
    "<div><font size=3 color=\"#00586D\"> <i class=\"fa fa-check-square-o\" aria-hidden=\"true\"></i></font></div>\n",
    "\n",
    "<!--comment -->\n",
    "\n",
    "\n",
    "\n",
    "### <font  size=3 color=#00586D> <i class=\"fa fa-pencil-square-o\" aria-hidden=\"true\"></i> Ejercicio 2</font>\n",
    "\n",
    "Mostrar las filas de `df_drivers`correspondientes a los cinco pilotos más jóvenes.\n",
    "\n",
    "<br>\n",
    "\n",
    "<details>    \n",
    "<summary>\n",
    "    <font size=3 color=\"#00586D\"> <i class=\"fa fa-info-circle\"  aria-hidden=\"true\"></i> </font>\n",
    "</summary>\n",
    "   \n",
    "* Existen varios métodos para obtener las filas correspondientes a los valores más altos de una columna. Se puede ordenar el *DataFrame* y acceder a las filas por posición, o devolver directamente las *n* filas con mayor valor mediante un método específico.\n",
    "\n",
    "</details>   "
   ]
  },
  {
   "cell_type": "code",
   "execution_count": null,
   "metadata": {},
   "outputs": [],
   "source": [
    "..."
   ]
  },
  {
   "cell_type": "markdown",
   "metadata": {},
   "source": [
    "Elaborar, utilizando *matplotlib*, un gráfico de barras que represente el número de pilotos de cada nacionalidad que hay en el *DataFrame* `df_drivers`. Utilizar solamente los datos de las 20 naciones para las que hay más pilotos, añadir el título a la figura, y configurar las etiquetas de la escala del eje X (*ticks*) para que sean legibles.\n",
    "\n",
    "\n",
    "<br>\n",
    "\n",
    "<details>    \n",
    "<summary>\n",
    "    <font size=3 color=\"#00586D\"> <i class=\"fa fa-info-circle\"  aria-hidden=\"true\"></i> </font>\n",
    "</summary>\n",
    "   \n",
    "* Este ejercicio se puede hacer de varias formas, pero la más sencilla consiste en obtener el número de veces que aparece cada valor en la columna correspondiente (`nationality`) y tomar los veinte que aparecen de manera más frecuente.\n",
    "* Existe un método en la API de `Series` que directamente devuelve el número de veces que aparece cada valor.\n",
    "* En el ejercicio práctico de *pandas* y *matplotlib* se elaboraron varias gráficas de barras.\n",
    "\n",
    "</details>   "
   ]
  },
  {
   "cell_type": "code",
   "execution_count": null,
   "metadata": {},
   "outputs": [],
   "source": [
    "..."
   ]
  },
  {
   "cell_type": "markdown",
   "metadata": {},
   "source": [
    "<div><font size=3 color=\"#00586D\"> <i class=\"fa fa-check-square-o\" aria-hidden=\"true\"></i></font></div>\n",
    "\n",
    "<!--comment -->"
   ]
  },
  {
   "cell_type": "markdown",
   "metadata": {},
   "source": [
    "<div align=\"right\">\n",
    "<a href=\"#indice\"><font size=5 color=\"#00586D\"><i class=\"fa fa-arrow-circle-up\" aria-hidden=\"true\"></i></font></a>\n",
    "</div>\n",
    "\n",
    "---\n",
    "\n",
    "<a id=\"section3\"></a>\n",
    "## <font color=\"#00586D\"> 3. Carreras</font>\n",
    "<br>\n",
    "\n",
    "Una vez obtenidos los datos relativos a pilotos, se trabajará con la fuente de información  más importante en este conjunto de datos: los resultados de las carreras, que están recogidos en el archivo `data/results.csv`. Cada fila contiene información sobre la participación de un piloto (`driverId`) en una carrera (`raceId`). Además de la posición, contiene información relativa a tiempos, vuelta más rápida, mayor velocidad, etc, que también permitirá hacer otros análisis posteriormente.\n",
    "\n",
    "### <font  size=3 color=\"#00586D\"> <i class=\"fa fa-pencil-square-o\" aria-hidden=\"true\" style=\"color:#00586D\"></i> Ejercicio 3</font>  \n",
    "\n",
    "El archivo `data/results.csv` contiene los resultados de todas las carreras. Cargar los datos en el *DataFrame* `df_results`. Utilizar la primera columna (`resultId`) como índice. Especificar, igual que anteriormente, que los valores perdidos se representan con `'\\N'`. Mostrar la cabecera.\n",
    "\n",
    "\n",
    "<br>\n",
    "\n",
    "<details>    \n",
    "<summary>\n",
    "    <font size=3 color=\"#00586D\"> <i class=\"fa fa-info-circle\"  aria-hidden=\"true\"></i> </font>\n",
    "</summary>\n",
    "   \n",
    "* Se recomienda echar un vistazo a la primera libreta, en la que se vió `pd.read_csv()`.    \n",
    "* Para especificar el valor `'\\N'` puede utilizarse una secuencia de escape o un *raw string*.\n",
    "\n",
    "</details>   "
   ]
  },
  {
   "cell_type": "code",
   "execution_count": null,
   "metadata": {
    "scrolled": true
   },
   "outputs": [],
   "source": [
    "df_results = ...\n",
    "df_results.head()"
   ]
  },
  {
   "cell_type": "markdown",
   "metadata": {},
   "source": [
    "Dibujar un histograma (con *matplotlib*) con el número de carreras (resultados) por piloto. Utilizar 100 intervalos. ¿Qué se aprecia?\n",
    "\n",
    "\n",
    "<br>\n",
    "\n",
    "<details>    \n",
    "<summary>\n",
    "    <font size=3 color=\"#00586D\"> <i class=\"fa fa-info-circle\"  aria-hidden=\"true\"></i> </font>\n",
    "</summary>\n",
    "   \n",
    "* El método `plt.hist()` / `ax.hist()` acepta un parámetro que determina el número de *bins*.    \n",
    "</details>   "
   ]
  },
  {
   "cell_type": "code",
   "execution_count": null,
   "metadata": {},
   "outputs": [],
   "source": [
    "..."
   ]
  },
  {
   "cell_type": "markdown",
   "metadata": {},
   "source": [
    "<div><font size=3 color=\"#00586D\"> <i class=\"fa fa-check-square-o\" aria-hidden=\"true\"></i></font></div>\n",
    "\n",
    "<!--comment -->"
   ]
  },
  {
   "cell_type": "markdown",
   "metadata": {},
   "source": [
    "\n",
    "### <font  size=3 color=\"#00586D\"> <i class=\"fa fa-pencil-square-o\" aria-hidden=\"true\" style=\"color:#00586D\"></i> Ejercicio 4</font>  \n",
    "\n",
    "El conjunto de datos `data/races.csv` contiene información relativa a cada una de las carreras. Almacenarlo en un *DataFrame* denominado `df_races`, utilizando la columna `raceId` (la primera) como índice. Especificar que el campo `date` ha de considerarse como una fecha. Utilizar para ello el parámetro `parse_dates`. Inspeccionar el *DataFrame*."
   ]
  },
  {
   "cell_type": "code",
   "execution_count": null,
   "metadata": {},
   "outputs": [],
   "source": [
    "df_races = ...\n",
    "df_races.head()"
   ]
  },
  {
   "cell_type": "markdown",
   "metadata": {},
   "source": [
    "Al inspeccionar el *DataFrame* se observa que la columna `time` está expresada como una cadena de texto. Generar una nueva *Series* con los valores de la columna `time` convertidos a marcas de tiempo.  ¿Qué se aprecia?\n",
    "\n",
    "\n",
    "<br>\n",
    "\n",
    "<details>    \n",
    "<summary>\n",
    "    <font size=3 color=\"#00586D\"> <i class=\"fa fa-info-circle\"  aria-hidden=\"true\"></i> </font>\n",
    "</summary>\n",
    "   \n",
    "* Utilizar `pd.to_datetime()`.    \n",
    "</details>  "
   ]
  },
  {
   "cell_type": "code",
   "execution_count": null,
   "metadata": {},
   "outputs": [],
   "source": [
    "..."
   ]
  },
  {
   "cell_type": "markdown",
   "metadata": {},
   "source": [
    "Crear una columna denominada `df_races[date time]` en la que se represente la fecha y hora en la que tuvo lugar cada carrera. Para ello, es necesario convertir a `TimeDelta` el contenido de la columna `time`, y sumárselo a la columna `date`.\n",
    "\n",
    "\n",
    "\n",
    "<br>\n",
    "\n",
    "<details>    \n",
    "<summary>\n",
    "    <font size=3 color=\"#00586D\"> <i class=\"fa fa-info-circle\"  aria-hidden=\"true\"></i> </font>\n",
    "</summary>\n",
    "   \n",
    "* La conversión a `TimeDelta` se hace con `pd.to_timedelta()`.  \n",
    "</details>  "
   ]
  },
  {
   "cell_type": "code",
   "execution_count": null,
   "metadata": {},
   "outputs": [],
   "source": [
    "df_races['date time'] = ...\n",
    "df_races.head()"
   ]
  },
  {
   "cell_type": "markdown",
   "metadata": {},
   "source": [
    "Eliminar las columnas `date` y `time`. También las relativas a las horas de entrenamiento libres (`fpx_`), calificaciones (`qualy_`) y sprints (`sprint_`). Mover la nueva columna, `date time`, a la posición que ocupaba `date`. Es decir, el *DataFrame* resultante debe tener 5 columnas: `year`, `round`, `circuitId`, `date time` y `url`.\n",
    "\n",
    "\n",
    "\n",
    "<br>\n",
    "\n",
    "<details>    \n",
    "<summary>\n",
    "    <font size=3 color=\"#00586D\"> <i class=\"fa fa-info-circle\"  aria-hidden=\"true\"></i> </font>\n",
    "</summary>\n",
    "   \n",
    "* En este caso, lo más sencillo para hacerlo es seleccionar las columnas de interés en el orden que se pide.\n",
    "</details>  "
   ]
  },
  {
   "cell_type": "code",
   "execution_count": null,
   "metadata": {},
   "outputs": [],
   "source": [
    "df_races = ...\n",
    "df_races.head()"
   ]
  },
  {
   "cell_type": "markdown",
   "metadata": {},
   "source": [
    "<div><font size=3 color=\"#00586D\"> <i class=\"fa fa-check-square-o\" aria-hidden=\"true\"></i></font></div>\n",
    "\n",
    "<!--comment -->"
   ]
  },
  {
   "cell_type": "markdown",
   "metadata": {},
   "source": [
    "### <font  size=3 color=\"#00586D\"> <i class=\"fa fa-pencil-square-o\" aria-hidden=\"true\" style=\"color:#00586D\"></i> Ejercicio 5</font>  \n",
    "\n",
    "Crear una figura con dos gráficos de barras. En el de la izquierda se han de mostrar las carreras que han tenido lugar en cada mes del año. En el de la derecha, las que han tenido lugar en cada hora. Ambas gráficas deben compartir la escala en el eje *y*.\n",
    "\n",
    "\n",
    "\n",
    "<br>\n",
    "\n",
    "<details>    \n",
    "<summary>\n",
    "    <font size=3 color=\"#00586D\"> <i class=\"fa fa-info-circle\"  aria-hidden=\"true\"></i> </font>\n",
    "</summary>\n",
    "   \n",
    "* Por comodidad se pueden obtener, como paso previo a la creación de cada gráfica, dos *Series* intermedias denominadas `races_month` y `races_hour`. \n",
    "* También es importante tener en cuenta que tanto el mes como la hora son accesibles a través `df_races['date time'].dt`.\n",
    "* Se ha de crear una figura con dos gráficas mediante `plt.subplots()`.\n",
    "* En la última sesión de ejercicios de *pandas* y *matplotlib* se vieron gráficas parecidas.\n",
    "</details>  "
   ]
  },
  {
   "cell_type": "code",
   "execution_count": null,
   "metadata": {},
   "outputs": [],
   "source": [
    "..."
   ]
  },
  {
   "cell_type": "markdown",
   "metadata": {},
   "source": [
    "<div><font size=3 color=\"#00586D\"> <i class=\"fa fa-check-square-o\" aria-hidden=\"true\"></i></font></div>\n",
    "\n",
    "<!--comment -->\n",
    "\n",
    "### <font  size=3 color=\"#00586D\"> <i class=\"fa fa-pencil-square-o\" aria-hidden=\"true\" style=\"color:#00586D\"></i> Ejercicio 6</font>  \n",
    "\n",
    "La columna `statusId` de `df_results` contiene un código numérico que representa el estado en que cada coche/piloto concluyó cada carrera. El conjunto de datos `data/status.csv` contiene la descripción del estado. Leer este archivo y almacenarlo en el *DataFrame*. `df_status`."
   ]
  },
  {
   "cell_type": "code",
   "execution_count": null,
   "metadata": {},
   "outputs": [],
   "source": [
    "df_status = ...\n",
    "df_status.head()"
   ]
  },
  {
   "cell_type": "markdown",
   "metadata": {},
   "source": [
    "Utilizar ambos *DataFrames*, `df_results` y `df_status`, para elaborar un diagrama de sectores en el que se visualicen las 10 causas más frecuentes que han impedido terminar a los pilotos las carreras. Utilizar un tamaño de figura $6 \\times 6$.\n",
    "\n",
    "\n",
    "\n",
    "<br>\n",
    "\n",
    "<details>    \n",
    "<summary>\n",
    "    <font size=3 color=\"#00586D\"> <i class=\"fa fa-info-circle\"  aria-hidden=\"true\"></i> </font>\n",
    "</summary>\n",
    "   \n",
    "* Hay que obtener el número de veces que aparece cada estado de terminación dentro del *DataFrame* `df_results` y obtener los once más frecuentes. Por otra parte, el estado 1 representa la finalización, por lo que hay que descartarlo. El resultado se puede almacenar en una serie denominada `causes`.\n",
    "* Para elaborar la gráfica hay que obtener los nombres de los estados a partir de los códigos obtenidos y desde el DataFrame `df_status` y utilizarlos como etiqueta.\n",
    "* Los diagramas de sectores se hacen con `plt.pie()` / `ax.pie()`. Podéis consultar la API [**(+inf)**](https://matplotlib.org/stable/api/_as_gen/matplotlib.pyplot.pie.html) o ejemplos [**(+inf)**](https://matplotlib.org/stable/gallery/pie_and_polar_charts/pie_and_donut_labels.html#sphx-glr-gallery-pie-and-polar-charts-pie-and-donut-labels-py).\n",
    "</details>  \n",
    "\n"
   ]
  },
  {
   "cell_type": "code",
   "execution_count": null,
   "metadata": {},
   "outputs": [],
   "source": [
    "..."
   ]
  },
  {
   "cell_type": "markdown",
   "metadata": {},
   "source": [
    "<div><font size=3 color=\"#00586D\"> <i class=\"fa fa-check-square-o\" aria-hidden=\"true\"></i></font></div>\n",
    "\n",
    "<!--comment -->\n",
    "\n",
    "\n",
    "\n",
    "### <font  size=3 color=\"#00586D\"> <i class=\"fa fa-pencil-square-o\" aria-hidden=\"true\" style=\"color:#00586D\"></i> Ejercicio 7</font>"
   ]
  },
  {
   "cell_type": "markdown",
   "metadata": {},
   "source": [
    "\n",
    "Mostrar el nombre, apellido, nacionalidad y número de victorias de los cinco pilotos que acumulan más victorias.\n",
    "\n",
    "\n",
    "<br>\n",
    "\n",
    "<details>    \n",
    "<summary>\n",
    "    <font size=3 color=\"#00586D\"> <i class=\"fa fa-info-circle\"  aria-hidden=\"true\"></i> </font>\n",
    "</summary>\n",
    "   \n",
    "Este ejercicio se puede resolver en varios pasos.\n",
    "    \n",
    "1. La victoria se representa con el  valor 1 en la columna `position`. Se han de seleccionar los resultados correspondientes a victorias y almacenarlos en un nuevo *DataFrame*.\n",
    "2. Sobre el *DataFrame* anterior, agrupar por conductor, calcular el tamaño de cada grupo y devolver los 5 mayores grupos y su tamaño. Como se opera sobre una *Series*, el resultado es otra *Series* que se puede convertir en *DataFrame* mediante `Series.to_frame()`. En ese *DataFrame* resultante se puede renombrar la única existente a `wins`.\n",
    "3. Se debe hacer un `pd.merge()` entre el *DataFrame* obtenido y `df_drivers`.En todos las operaciones de fusión se ha de tener en cuenta qué índices se incluyen en el *DataFrame* resultante.\n",
    "4. Por último, se accede a las columnas de interés: nombre y apellido del piloto, nacionalidad, y victorias.    \n",
    "    \n",
    "</details>  \n"
   ]
  },
  {
   "cell_type": "code",
   "execution_count": null,
   "metadata": {},
   "outputs": [],
   "source": [
    "..."
   ]
  },
  {
   "cell_type": "markdown",
   "metadata": {},
   "source": [
    "Mostrar el nombre, apellido, nacionalidad y número *pole positions* de los cinco pilotos que acumulan más sesiones de calificación han ganado. La posición de un piloto en la calificación de cada carrera viene dada por la columna `grid`.\n",
    "\n",
    "<br>\n",
    "\n",
    "<details>    \n",
    "<summary>\n",
    "    <font size=3 color=\"#00586D\"> <i class=\"fa fa-info-circle\"  aria-hidden=\"true\"></i> </font>\n",
    "</summary>\n",
    "   \n",
    "* Este ejercicio es similar al anterior, pero en este caso hay que acceder a las filas correspondientes a las calificaciones (`grid`), y el *DataFrame* debe incluir una columna denominada `poles` en lugar de `wins`.  \n",
    "* Se valorará adicionalmente el resolver el ejercicio mediante *method chaining*, sin crear estructuras de datos intermedias.\n",
    "    \n",
    "</details>  \n"
   ]
  },
  {
   "cell_type": "code",
   "execution_count": null,
   "metadata": {},
   "outputs": [],
   "source": [
    "..."
   ]
  },
  {
   "cell_type": "markdown",
   "metadata": {},
   "source": [
    "<div><font size=3 color=\"#00586D\"> <i class=\"fa fa-check-square-o\" aria-hidden=\"true\"></i></font></div>\n",
    "\n",
    "<!--comment -->\n",
    "\n",
    "### <font  size=3 color=\"#00586D\"> <i class=\"fa fa-pencil-square-o\" aria-hidden=\"true\" style=\"color:#00586D\"></i> Ejercicio 8</font>"
   ]
  },
  {
   "cell_type": "markdown",
   "metadata": {},
   "source": [
    "\n",
    "Cuando el análisis de datos se centra en una categoría o subconjunto de datos obtenidos mediante selección condicional, puede resultar cómodo almacenar este resultado intermedio en un *DataFrame*. Además, si no se va a escribir sobre él, no es necesario hacer copia, sino que se puede hacer una asignación (Anexo I del tutorial). Almacenar los resultados correspondientes a carreras terminadas por `Fernando Alonso` en un *DataFrame* denominado `df_results_alo`. Mostrar cuántas son.\n",
    "\n",
    "<br>\n",
    "\n",
    "<details>    \n",
    "<summary>\n",
    "    <font size=3 color=\"#00586D\"> <i class=\"fa fa-info-circle\"  aria-hidden=\"true\"></i> </font>\n",
    "</summary>\n",
    "       \n",
    "* Se trata de hacer selección condicional y seleccionar los resultados que cumplan ambas condiciones: que el piloto sea `Fernando Alonso`y que haya concluido la carrera.\n",
    "* La columna `statusId` contiene información sobre la situación de un piloto/coche al final de la carrera, y el valor 1 quiere decir que terminó.  \n",
    "    \n",
    "</details>  \n"
   ]
  },
  {
   "cell_type": "code",
   "execution_count": null,
   "metadata": {},
   "outputs": [],
   "source": [
    "df_results_alo = ...\n",
    "print('Número de carreras terminadas: ', len(df_results_alo))"
   ]
  },
  {
   "cell_type": "markdown",
   "metadata": {},
   "source": [
    "La columna `position` del *DataFrame* `df_results` (y de `df_results_alo`) contiene la posición en la que un conductor quedó en la carrera correspondiente. Obtener el número de podios (posiciones primera, segunda y tercera) que hizo `Fernando Alonso` a lo largo de su trayectoria deportiva (hasta el momento).\n",
    "\n",
    "\n",
    "<br>\n",
    "\n",
    "<details>    \n",
    "<summary>\n",
    "    <font size=3 color=\"#00586D\"> <i class=\"fa fa-info-circle\"  aria-hidden=\"true\"></i> </font>\n",
    "</summary>\n",
    "   \n",
    "    \n",
    "* La API de *Series* proporciona un método para obtener las veces que aparece cada valor. \n",
    "* El resultado es a su vez una *Serie* que, por tanto, se puede ordenar tanto por valor como por índice.\n",
    "    \n",
    "</details> "
   ]
  },
  {
   "cell_type": "code",
   "execution_count": null,
   "metadata": {},
   "outputs": [],
   "source": [
    "..."
   ]
  },
  {
   "cell_type": "markdown",
   "metadata": {},
   "source": [
    "Mostrar el número de ocasiones en las que `Fernando Alonso` ocupó las posiciones uno a cuatro en la salida (primera y segunda líneas).\n",
    "\n",
    "<br>\n",
    "\n",
    "<details>    \n",
    "<summary>\n",
    "    <font size=3 color=\"#00586D\"> <i class=\"fa fa-info-circle\"  aria-hidden=\"true\"></i> </font>\n",
    "</summary>\n",
    "   \n",
    "    \n",
    "* Se trata de obtener las filas en las que el valor `grid` está entre 1 y 4.    \n",
    "</details> "
   ]
  },
  {
   "cell_type": "code",
   "execution_count": null,
   "metadata": {},
   "outputs": [],
   "source": [
    "..."
   ]
  },
  {
   "cell_type": "markdown",
   "metadata": {},
   "source": [
    "<div><font size=3 color=\"#00586D\"> <i class=\"fa fa-check-square-o\" aria-hidden=\"true\"></i></font></div>\n",
    "\n",
    "<!--comment -->\n",
    "\n",
    "### <font  size=3 color=\"#00586D\"> <i class=\"fa fa-pencil-square-o\" aria-hidden=\"true\" style=\"color:#00586D\"></i> Ejercicio 9</font>\n",
    "\n",
    "Debido a la importancia de los coches, uno de los factores que permiten calificar la actuación de un piloto es las posiciones que gana o pierde con respecto a la posición de partida. Calcular este resultado para cada piloto/carrera, y dibujar un histograma con la distribución de valores, pero solamente para los pilotos *que acabaron cada carrera*. ¿Qué lectura podría hacerse del histograma?\n",
    "\n",
    "<br>\n",
    "\n",
    "<details>    \n",
    "<summary>\n",
    "    <font size=3 color=\"#00586D\"> <i class=\"fa fa-info-circle\"  aria-hidden=\"true\"></i> </font>\n",
    "</summary>\n",
    "   \n",
    "    \n",
    "* Hay que considerar que, si un coche califica (`grid`) 5º y termina la carrera (`position`) 3º, ha ganado dos posiciones. En este ejercicio se trata de crear una columna y hacer el histograma con ella.\n",
    "* Se puede crear una columna con las posiciones ganadas, seleccionar filas que tengan el valor `status_Id==1` en el nuevo *DataFrame*, y acceder a la nueva columna.\n",
    "* Utilizando `DataFrame.assign()` se puede resolver el ejercicio sin recurrir explícitamente a estructuras intermedias.\n",
    "    \n",
    "</details> "
   ]
  },
  {
   "cell_type": "code",
   "execution_count": null,
   "metadata": {},
   "outputs": [],
   "source": [
    "..."
   ]
  },
  {
   "cell_type": "markdown",
   "metadata": {},
   "source": [
    "<div><font size=3 color=\"#00586D\"> <i class=\"fa fa-check-square-o\" aria-hidden=\"true\"></i></font></div>\n",
    "\n",
    "<!--comment -->\n",
    "\n",
    "### <font  size=3 color=\"#00586D\"> <i class=\"fa fa-pencil-square-o\" aria-hidden=\"true\" style=\"color:#00586D\"></i> Ejercicio 10</font>\n",
    "\n",
    "Calcular las posiciones que, de media, han ganado los pilotos **en las carreras finalizadas**. Mostrar el resultado para los cinco pilotos que más destacan en este aspecto, junto a su nombre, apellidos y nacionalidad.\n",
    "\n",
    "<div class=\"alert alert-block alert-info\">\n",
    "    \n",
    "<i class=\"fa fa-info-circle\" aria-hidden=\"true\"></i> __Nota__: Este ejercicio **es  difícil**. \n",
    "</div>\n",
    "\n",
    "\n",
    "<br>\n",
    "\n",
    "<details>    \n",
    "<summary>\n",
    "    <font size=3 color=\"#00586D\"> <i class=\"fa fa-info-circle\"  aria-hidden=\"true\"></i> </font>\n",
    "</summary>\n",
    "  \n",
    "    \n",
    "* Al igual que en el ejercicio anterior, crear una nuevo `DataFrame` que incorpore una columna denominada `pos_won` obtenida al operar con las columnas `grid` y `position`, y a partir de los resultados correspondientes a carreras terminadas (en los que `statusId==1`). Se puede hacer creando la nueva columna, o un nuevo *DataFrame* mediante `DataFrame.assign()`.\n",
    "    \n",
    "* El *DataFrame* resultante se ha de agrupar por piloto, se ha de obtener la media de la columna `pos_won` y seleccionar los cinco mayores valores. Como el resultado es una *Series*, se debe convertir a *DataFrame* con `Series.to_frame()`. También se puede generar directamente un *DataFrame* accediendo a la columna mediante una lista de un elemento.\n",
    "    \n",
    "* El resultado se ha de fundir con la `df_drivers`. Es importante gestionar bien cómo (`how`).\n",
    "    \n",
    "* Por último, devolver las columas `forename`, `surname`, `nationality` y `pos_won` del resultado de la fusión.\n",
    "    \n",
    "* Este ejercicio se puede hacer de forma elegante, sin crear explícitamente estructuras intermedias, mediante *method chaining*, aunque recomendamos encarecidamente dejar esto para el final, cuando se tenga el Capstone resuelto.\n",
    "    \n",
    "</details> \n",
    "\n"
   ]
  },
  {
   "cell_type": "code",
   "execution_count": null,
   "metadata": {},
   "outputs": [],
   "source": [
    "..."
   ]
  },
  {
   "cell_type": "markdown",
   "metadata": {},
   "source": [
    "¿Cuantas carreras ha disputado y concluido el piloto más destacado en este aspecto?"
   ]
  },
  {
   "cell_type": "code",
   "execution_count": null,
   "metadata": {},
   "outputs": [],
   "source": [
    "..."
   ]
  },
  {
   "cell_type": "markdown",
   "metadata": {},
   "source": [
    "Puede apreciarse que la información está viciada porque incluye a pilotos que han competido muy pocas veces y les ha ido muy bien. Repetir el ejercicio anterior, pero utilizando solamente datos de aquellos pilotos que han finalizado al menos 75 carreras.\n",
    "\n",
    "\n",
    "<br>\n",
    "\n",
    "<details>    \n",
    "<summary>\n",
    "    <font size=3 color=\"#00586D\"> <i class=\"fa fa-info-circle\"  aria-hidden=\"true\"></i> </font>\n",
    "</summary>\n",
    "  \n",
    "    \n",
    "* Este ejercicio es similar al anterior, pero hay que incorporar un paso intermedio. Una vez obtenidas las posiciones ganadas a partir de `df_results`, computando la diferencia entre `grid` y `posición` en todos los resultados correspondientes a carreras terminadas (`statusId==1`), hay que filtrar los resultados correspondientes a los pilotos que han concluido 75 carreras o más. Para ello, se ha de utilizar `DataFrame.groupby().filter()`.\n",
    "    \n",
    "* A pesar de la complejidad, también se puede hacer este ejercicio mediante *method chaining*.\n",
    "    \n",
    "    \n",
    "</details> \n"
   ]
  },
  {
   "cell_type": "code",
   "execution_count": null,
   "metadata": {
    "scrolled": true
   },
   "outputs": [],
   "source": [
    "..."
   ]
  },
  {
   "cell_type": "markdown",
   "metadata": {},
   "source": [
    "<div><font size=3 color=\"#00586D\"> <i class=\"fa fa-check-square-o\" aria-hidden=\"true\"></i></font></div>\n",
    "\n",
    "<!--comment -->"
   ]
  },
  {
   "cell_type": "markdown",
   "metadata": {},
   "source": [
    "<div align=\"right\">\n",
    "<a href=\"#indice\"><font size=5 color=\"#00586D\"><i class=\"fa fa-arrow-circle-up\" aria-hidden=\"true\"></i></font></a>\n",
    "</div>\n",
    "\n",
    "---\n",
    "\n",
    "<a id=\"section4\"></a>\n",
    "## <font color=\"#00586D\"> 4. Escuderías</font>\n",
    "<br>\n",
    "\n",
    "El elemento fundamental en Fórmula 1 es el coche. La diferencia entre unos equipos y otros es tan alta que, para muchos, es una competición entre escuderías. "
   ]
  },
  {
   "cell_type": "markdown",
   "metadata": {},
   "source": [
    "### <font  size=3 color=\"#00586D\"> <i class=\"fa fa-pencil-square-o\" aria-hidden=\"true\" style=\"color:#00586D\"></i> Ejercicio 11</font>\n",
    "\n",
    "Leer los datos de las escudarías, almacenadas en el archivo `data/constructors.csv` y almacenarlos en un *DataFrame* denominado `df_constructors`. Utilizar la primera columna como índice."
   ]
  },
  {
   "cell_type": "code",
   "execution_count": null,
   "metadata": {},
   "outputs": [],
   "source": [
    "df_constructors = ..."
   ]
  },
  {
   "cell_type": "markdown",
   "metadata": {},
   "source": [
    "Mostrar los nombres y nacionalidades de los cinco constructores que han ganado más carreras a lo largo de la historia de la competición.\n",
    "\n",
    "\n",
    "<br>\n",
    "\n",
    "<details>    \n",
    "<summary>\n",
    "    <font size=3 color=\"#00586D\"> <i class=\"fa fa-info-circle\"  aria-hidden=\"true\"></i> </font>\n",
    "</summary>\n",
    "      \n",
    "* Hay que acceder a los resultados correspondientes a victorias, es decir, donde `position==1`.\n",
    "    \n",
    "* Extraer las victorias por constructor agrupando por `constructorId`, calculando el número de elementos por grupo, y generando con el resultado un nuevo *DataFrame*. Renombrar la columna correspondiente a `wins`.\n",
    "    \n",
    "* Fundir el resultado con `df_constructors`, que contiene los datos de cada constructor.\n",
    " \n",
    "* Mostrar las columnas `name`, `nationality` y `wins` del *DataFrame* resultante.\n",
    "    \n",
    "    \n",
    "</details> \n"
   ]
  },
  {
   "cell_type": "code",
   "execution_count": null,
   "metadata": {},
   "outputs": [],
   "source": [
    "..."
   ]
  },
  {
   "cell_type": "markdown",
   "metadata": {},
   "source": [
    "Mostrar los puntos (columna `points`) que ganó `Fernando Alonso` con cada constructor, dando además el nombre y la nacionalidad del constructor."
   ]
  },
  {
   "cell_type": "markdown",
   "metadata": {},
   "source": [
    "\n",
    "<details>    \n",
    "<summary>\n",
    "    <font size=3 color=\"#00586D\"> <i class=\"fa fa-info-circle\"  aria-hidden=\"true\"></i> </font>\n",
    "</summary>\n",
    "  \n",
    "    \n",
    "* Se trata de agrupar el *DataFrame* `df_results_alo` en función del constructor, y sumar los puntos (`points`) por cada grupo. \n",
    "    \n",
    "* El resultado, representado como un *DataFrame*, se puede fundir con `df_constructors` para mostrar además el nombre del constructor y la nacionalidad.\n",
    "    \n",
    "    \n",
    "</details> \n"
   ]
  },
  {
   "cell_type": "code",
   "execution_count": null,
   "metadata": {},
   "outputs": [],
   "source": [
    "..."
   ]
  },
  {
   "cell_type": "markdown",
   "metadata": {},
   "source": [
    "<div><font size=3 color=\"#00586D\"> <i class=\"fa fa-check-square-o\" aria-hidden=\"true\"></i></font></div>\n",
    "\n",
    "<!--comment -->"
   ]
  },
  {
   "cell_type": "markdown",
   "metadata": {},
   "source": [
    "<div align=\"right\">\n",
    "<a href=\"#indice\"><font size=5 color=\"#00586D\"><i class=\"fa fa-arrow-circle-up\" aria-hidden=\"true\"></i></font></a>\n",
    "</div>\n",
    "\n",
    "---\n",
    "\n",
    "<a id=\"section5\"></a>\n",
    "## <font color=\"#00586D\"> 5. Circuitos</font>\n",
    "<br>\n",
    "\n",
    "### <font  size=3 color=\"#00586D\"> <i class=\"fa fa-pencil-square-o\" aria-hidden=\"true\" style=\"color:#00586D\"></i> Ejercicio 12</font>"
   ]
  },
  {
   "cell_type": "markdown",
   "metadata": {},
   "source": [
    "Por otra parte, el archivo `data/circuits.csv` contiene información relativa a cada uno de los circuitos. Leerlo y almacenarlo en el *DataFrame* `df_circuits`, utilizando la primera columna, `circuitId` como índice."
   ]
  },
  {
   "cell_type": "code",
   "execution_count": null,
   "metadata": {
    "scrolled": true
   },
   "outputs": [],
   "source": [
    "df_circuits = ...\n",
    "df_circuits.head()"
   ]
  },
  {
   "cell_type": "markdown",
   "metadata": {},
   "source": [
    "Mostrar los 5 circuitos más rápidos, entendiendo como tales aquellos para los que la media de las 100 vueltas más rápidas (cien valores más altos de `fastestLapSpeed`) es más alta.\n",
    "\n",
    "**Nota:** Obviamente, este criterio es mejorable. Pero es un ejemplo. \n",
    "\n",
    "<div class=\"alert alert-block alert-info\">\n",
    "    \n",
    "<i class=\"fa fa-info-circle\" aria-hidden=\"true\"></i> __Nota__: Este ejercicio **es el más difícil**. Quizá se puede dejar para el final.\n",
    "</div>\n",
    "\n",
    "\n",
    "<br>\n",
    "\n",
    "<details>    \n",
    "<summary>\n",
    "    <font size=3 color=\"#00586D\"> <i class=\"fa fa-info-circle\"  aria-hidden=\"true\"></i> </font>\n",
    "</summary>\n",
    "  \n",
    "Este ejercicio se puede resolver en varios pasos, y tiene similitudes con los anteriores.\n",
    "* En primer lugar, se pueden fundir los *DataFrames* `df_results` y `df_races` para poder asociar resultados con circuitos. Siempre es importante indicar de manera explícita qué índices queremos que tenga el conjunto resultante.\n",
    "* Hay que agrupar el resultado por circuito (`circuitId`) y obtener el resultado para cada grupo.\n",
    "* Para obtener parte de la información requerida, se puede utilizar `DataFrame.groupby().apply()`. La función pasada a `apply` toma como argumento un *DataFrame*, y devuelve la media de los 100 valores más altos para `fastestLapSpeed`. Al utilizar esta función con `DataFrame.groupby.apply()` devuelve esa información para cada grupo.\n",
    "* Una vez devuelta la información para cada circuito, se pueden tomar los 5 valores más altos.\n",
    "* Por último, el resultado se puede convertir a *DataFrame* y se puede hacer un merge con `df_circuits` para mostrar todos los datos de los circuitos.\n",
    "    \n",
    "</details> \n"
   ]
  },
  {
   "cell_type": "code",
   "execution_count": null,
   "metadata": {},
   "outputs": [],
   "source": [
    "..."
   ]
  },
  {
   "cell_type": "markdown",
   "metadata": {},
   "source": [
    "<div><font size=3 color=\"#00586D\"> <i class=\"fa fa-check-square-o\" aria-hidden=\"true\"></i></font></div>\n",
    "\n",
    "<!--comment -->\n",
    "\n",
    "\n",
    "### <font  size=3 color=\"#00586D\"> <i class=\"fa fa-pencil-square-o\" aria-hidden=\"true\" style=\"color:#00586D\"></i> Ejercicio 13</font>\n",
    "\n",
    "Calcular el resultado anterior (los circuitos más rápidos) con los datos relativos a `Fernando Alonso`, almacenados en `df_results_alo`.\n",
    "\n",
    "<br>\n",
    "\n",
    "<details>    \n",
    "<summary>\n",
    "    <font size=3 color=\"#00586D\"> <i class=\"fa fa-info-circle\"  aria-hidden=\"true\"></i> </font>\n",
    "</summary>\n",
    "  \n",
    "* Solo hay que cambiar el *DataFrame* de partida, que ahora es `df_results_alo`.\n",
    "    \n",
    "</details> "
   ]
  },
  {
   "cell_type": "code",
   "execution_count": null,
   "metadata": {},
   "outputs": [],
   "source": [
    "..."
   ]
  },
  {
   "cell_type": "markdown",
   "metadata": {},
   "source": [
    "Calcular también en qué circuitos obtuvo `Fernando Alonso`, de media, mejor posición.\n",
    "\n",
    "<br>\n",
    "\n",
    "<details>    \n",
    "<summary>\n",
    "    <font size=3 color=\"#00586D\"> <i class=\"fa fa-info-circle\"  aria-hidden=\"true\"></i> </font>\n",
    "</summary>\n",
    "  \n",
    "* Se trata de fundir los resultados de alonso con `df_races` para disponer del circuito al que corresponde cada carrera (similar al anterior).\n",
    "* Después se agrupa el *DataFrame* resultante por `circuitId`, se obtiene la posición media, y se devuelven los cinco valores más pequeños.\n",
    "* Por último, el resultado se puede fundir con `df_circuits` para que se muestren los datos de los circuitos.\n",
    "    \n",
    "</details> "
   ]
  },
  {
   "cell_type": "code",
   "execution_count": null,
   "metadata": {},
   "outputs": [],
   "source": [
    "..."
   ]
  },
  {
   "cell_type": "markdown",
   "metadata": {},
   "source": [
    "<div><font size=3 color=\"#00586D\"> <i class=\"fa fa-check-square-o\" aria-hidden=\"true\"></i></font></div>\n",
    "\n",
    "<!--comment -->\n",
    "\n",
    "**Opcional:** Mostar todos los circuitos en un mapa con `folium`. En la libreta de ejercicios con *matplotlib* tenéis un ejemplo de cómo se hace."
   ]
  },
  {
   "cell_type": "code",
   "execution_count": null,
   "metadata": {},
   "outputs": [],
   "source": [
    "import folium\n",
    "\n",
    "# Diferentes mapas\n",
    "tiles = 'Stamen Toner'\n",
    "tiles = 'OpenStreetMap'\n",
    "\n",
    "europe_figure = folium.Figure(width=600, height=600)\n",
    "\n",
    "...\n",
    "    \n",
    "europe_figure"
   ]
  },
  {
   "cell_type": "markdown",
   "metadata": {},
   "source": [
    "<div align=\"right\">\n",
    "<a href=\"#indice\"><font size=5 color=\"#00586D\"><i class=\"fa fa-arrow-circle-up\" aria-hidden=\"true\"></i></font></a>\n",
    "</div>\n",
    "\n",
    "---\n",
    "\n",
    "<a id=\"section6\"></a>\n",
    "## <font color=\"#00586D\"> 6. Alonso vs rivales</font>\n",
    "<br>\n",
    "\n",
    "En esta parte del proyecto se valorarán los resultados de `Fernando Alonso` con respecto a sus rivales, es decir, con respecto a los pilotos que compitieron en las mismas carreras que él. Esto requiere manipular los datos, ya que la información no se puede obtener de forma directa.\n",
    "\n",
    "\n",
    "\n",
    "---\n",
    "\n",
    "### <font  size=3 color=\"#00586D\"> <i class=\"fa fa-pencil-square-o\" aria-hidden=\"true\" style=\"color:#00586D\"></i> Ejercicio 14</font>\n",
    "Mostrar los rivales (filas completas) contra los que ha competido Fernando Alonso.\n",
    "\n",
    "<br>\n",
    "\n",
    "<details>    \n",
    "<summary>\n",
    "    <font size=3 color=\"#00586D\"> <i class=\"fa fa-info-circle\"  aria-hidden=\"true\"></i> </font>\n",
    "</summary>\n",
    "  \n",
    "Anteriormente se filtraron los resultados de las carreras que terminó `Fernando Alonso`, y se almacenaron en `df_results_alo`. Se trata de:\n",
    "* Seleccionar los datos correspondientes a esas carreras. \n",
    "* Acceder a los resultados (pilotos) que compitieron en ellas (y que no sean `Fernando Alonso`). Para ello es muy útil utilizar `Series.isin()`. Obtener los identificadores únicos de los pilotos.\n",
    "* Por último, seleccionar los datos de estos pilotos en `df_drivers`.\n",
    "    \n",
    "</details> \n"
   ]
  },
  {
   "cell_type": "code",
   "execution_count": null,
   "metadata": {},
   "outputs": [],
   "source": [
    "..."
   ]
  },
  {
   "cell_type": "markdown",
   "metadata": {},
   "source": [
    "Obtener los datos de los 10 rivales a los que más veces se ha enfrentado `Fernando Alonso`, y almacenarlos en el *DataFrame* `df_fa_vs`.\n",
    "\n",
    "\n",
    "<br>\n",
    "\n",
    "<details>    \n",
    "<summary>\n",
    "    <font size=3 color=\"#00586D\"> <i class=\"fa fa-info-circle\"  aria-hidden=\"true\"></i> </font>\n",
    "</summary>\n",
    "  \n",
    "* Seleccionar los resultados (de `df_results`) correspondientes a las carreras en las que compitió `Fernando Alonso`, y que no corresponden a `Fernando Alonso`. \n",
    "* Hay que agrupar por piloto ( `driverId`), calcular el tamaño de los grupos, y tomar los 10 mayores.\n",
    "* Por último, fundir con `df_drivers` para mostrar todos los datos de los pilotos (no solo el id).\n",
    "    \n",
    "</details> "
   ]
  },
  {
   "cell_type": "code",
   "execution_count": null,
   "metadata": {},
   "outputs": [],
   "source": [
    "df_fa_vs = ..."
   ]
  },
  {
   "cell_type": "markdown",
   "metadata": {},
   "source": [
    "<div><font size=3 color=\"#00586D\"> <i class=\"fa fa-check-square-o\" aria-hidden=\"true\"></i></font></div>\n",
    "\n",
    "<!--comment -->\n",
    "\n",
    "A continuación se hará un balance de los resultados de `Fernando Alonso` con respecto a sus rivales. Para ello, es necesario pasar por una serie de pasos intermedios.\n",
    "\n",
    "### <font  size=3 color=\"#00586D\"> <i class=\"fa fa-pencil-square-o\" aria-hidden=\"true\" style=\"color:#00586D\"></i> Ejercicio 15</font>\n"
   ]
  },
  {
   "cell_type": "markdown",
   "metadata": {},
   "source": [
    "Obtener una tabla en la que cada fila represente cada una de las carreras (`raceId`) concluidas por `Fernando Alonso`, cada columna un piloto (`driverId`) que haya participado (y concluido) en alguna de esas carreras, y el resultado la posición (`position`) del piloto. Almacenar el resultado en un *DataFrame* denominado `df_fa_vs_other`.\n",
    "\n",
    "<br>\n",
    "\n",
    "<details>    \n",
    "<summary>\n",
    "    <font size=3 color=\"#00586D\"> <i class=\"fa fa-info-circle\"  aria-hidden=\"true\"></i> </font>\n",
    "</summary>\n",
    "  \n",
    "* El primer paso, al igual que se ha hecho anteriormente, es obtener los `raceId` de todas las carreras terminadas por `Fernando Alonso`.\n",
    "* Después, se han de seleccionar aquellos resultados correspondientes a pilotos que han terminado las carreras (`statusId==1`) y en los que `raceId` sea una de las carreras terminadas por `Fernando Alonso` (dos condiciones).\n",
    "* La tabla puede hacer con `DataFrame.stack()`, fijando primero como índice la carrera y el piloto.\n",
    "* Se puede hacer el ejercicio con *method chaining*.    \n",
    "</details> \n"
   ]
  },
  {
   "cell_type": "code",
   "execution_count": null,
   "metadata": {},
   "outputs": [],
   "source": [
    "df_fa_vs_other = ...\n",
    "     \n",
    "df_fa_vs_other"
   ]
  },
  {
   "cell_type": "markdown",
   "metadata": {},
   "source": [
    "<div><font size=3 color=\"#00586D\"> <i class=\"fa fa-check-square-o\" aria-hidden=\"true\"></i></font></div>\n",
    "\n",
    "<!--comment -->\n",
    "\n",
    "\n",
    "\n",
    "### <font  size=3 color=\"#00586D\"> <i class=\"fa fa-pencil-square-o\" aria-hidden=\"true\" style=\"color:#00586D\"></i> Ejercicio 16</font>"
   ]
  },
  {
   "cell_type": "markdown",
   "metadata": {},
   "source": [
    "A partir del *DataFrame* `df_fa_vsp` mostrar los 10 rivales ha batido más veces `Fernando Alonso`. \n",
    "\n",
    "\n",
    "<br>\n",
    "\n",
    "<details>    \n",
    "<summary>\n",
    "    <font size=3 color=\"#00586D\"> <i class=\"fa fa-info-circle\"  aria-hidden=\"true\"></i> </font>\n",
    "</summary>\n",
    "  \n",
    "* Aplicando `Dataframe.apply()` por filas, se puede crear un *DataFrame* en el que si la posición está por encima de la de `Fernando Alonso` el valor es 1, y si no 0. \n",
    "* La suma por columnas de este *DataFrame* devuelve una serie con el número de veces que `Fernando Alonso` ha batido a cada rival. \n",
    "* Se tomarían los 10 mayores valores. \n",
    "* Se puede fundir con `df_drivers` para mostrar también el nombre y los datos de cada piloto.  \n",
    "</details> \n",
    "\n",
    "\n",
    "\n"
   ]
  },
  {
   "cell_type": "code",
   "execution_count": null,
   "metadata": {},
   "outputs": [],
   "source": [
    "..."
   ]
  },
  {
   "cell_type": "markdown",
   "metadata": {},
   "source": [
    "Mostrar ahora los 10 rivales han batido más veces a `Fernando Alonso`. \n",
    "\n",
    "<br>\n",
    "\n",
    "<details>    \n",
    "<summary>\n",
    "    <font size=3 color=\"#00586D\"> <i class=\"fa fa-info-circle\"  aria-hidden=\"true\"></i> </font>\n",
    "</summary>\n",
    "  \n",
    "* Se procede de forma similar al anterior, pero cambiando el cuerpo de `DataFrame.apply()`. \n",
    "</details> "
   ]
  },
  {
   "cell_type": "code",
   "execution_count": null,
   "metadata": {},
   "outputs": [],
   "source": [
    "..."
   ]
  },
  {
   "cell_type": "markdown",
   "metadata": {},
   "source": [
    "<div><font size=3 color=\"#00586D\"> <i class=\"fa fa-check-square-o\" aria-hidden=\"true\"></i></font></div>\n",
    "\n",
    "<!--comment -->\n"
   ]
  },
  {
   "cell_type": "markdown",
   "metadata": {},
   "source": [
    "<div align=\"right\">\n",
    "<a href=\"#indice\"><font size=5 color=\"#00586D\"><i class=\"fa fa-arrow-circle-up\" aria-hidden=\"true\"></i></font></a>\n",
    "</div>\n",
    "\n",
    "---\n",
    "\n",
    "<a id=\"section7\"></a>\n",
    "## <font color=\"#00586D\"> 7. Conclusiones y líneas de trabajo para TFM</font>\n",
    "<br>\n",
    "\n",
    "Este trabajo ha servido para familiarizarnos con la herramienta *pandas* y hacer algunas operaciones algo más complejas orientadas al análisis. Aunque se trata de un primer proyecto de carácter *instrumental*, desde el punto de vista de los datos nos ha permitido además obtener información en principio desconocida, o al menos en parte. \n",
    "\n",
    "Como puede apreciarse, el conjunto de datos es más amplio, y contiene información sobre tiempos por vuelta, temporadas, etc. Si os interesa o apetece, es posible extender el análisis que se ha hecho para que contemple esas y otras cuestiones.\n",
    "\n",
    "### <font color=\"#00586D\"> Líneas de trabajo para TFM</font>\n",
    "\n",
    "Con respecto al TFM, existe la posibilidad de hacer un portfolio con extensiones o trabajo adicional relacionado con los *Capstones* del máster, incluyendo varios de ellos elegidos librermente. El trabajo adicional que pudiéseis hacer aquí podría estar enfocado hacia ese objetivo, y formar parte del portfolio. \n",
    "\n",
    "En ese sentido apuntar que, por lo general, el trabajo se acumula conforme transcurre el año, que el último proyecto se os da en mayo, y que quizá *algunos* prefiráis ir avanzando en un portfolio antes que comenzar un TFM al final. "
   ]
  },
  {
   "cell_type": "markdown",
   "metadata": {},
   "source": [
    "<div align=\"right\">\n",
    "<a href=\"#indice\"><font size=5 color=\"#00586D\"><i class=\"fa fa-arrow-circle-up\" aria-hidden=\"true\"></i></font></a>\n",
    "</div>\n",
    "\n",
    "---\n",
    "\n",
    "<div align=\"right\">\n",
    "<a href=\"#indice\"><font size=6 color=\"#00586D\"><i class=\"fa fa-coffee\" aria-hidden=\"true\"></i></font></a>\n",
    "</div>"
   ]
  }
 ],
 "metadata": {
  "kernelspec": {
   "display_name": "Python 3 (ipykernel)",
   "language": "python",
   "name": "python3"
  },
  "language_info": {
   "codemirror_mode": {
    "name": "ipython",
    "version": 3
   },
   "file_extension": ".py",
   "mimetype": "text/x-python",
   "name": "python",
   "nbconvert_exporter": "python",
   "pygments_lexer": "ipython3",
   "version": "3.9.10"
  }
 },
 "nbformat": 4,
 "nbformat_minor": 2
}
