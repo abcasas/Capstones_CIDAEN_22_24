{
 "cells": [
  {
   "cell_type": "markdown",
   "metadata": {},
   "source": [
    "<img src=\"http://www.cidaen.es/assets/img/mCIDaeNnb.png\" alt=\"Logo CiDAEN\" align=\"right\">\n",
    "\n",
    "\n",
    "\n",
    "\n",
    "<br><br><br>\n",
    "<h2><font color=\"#00586D\" size=4>Módulo 8</font></h2>\n",
    "\n",
    "\n",
    "\n",
    "<h1><font color=\"#00586D\" size=5>Sistema de recomendación de libros</font></h1>\n",
    "\n",
    "<br><br><br>\n",
    "<div style=\"text-align: right\">\n",
    "<font color=\"#00586D\" size=3>Luis de la Ossa</font><br>\n",
    "<font color=\"#00586D\" size=3>Máster en Ciencia de Datos e Ingeniería de Datos en la Nube</font><br>\n",
    "<font color=\"#00586D\" size=3>Universidad de Castilla-La Mancha</font>\n",
    "\n",
    "</div>"
   ]
  },
  {
   "cell_type": "markdown",
   "metadata": {},
   "source": [
    "---\n",
    "\n",
    "<a id=\"indice\"></a>\n",
    "<h2><font color=\"#00586D\" size=5>Índice</font></h2>\n",
    "\n",
    "\n",
    "* [1. Introducción](#section1)\n",
    "   * [Lectura de las revisiones](#section11)\n",
    "   * [Etiquetas](#section12)\n",
    "   * [Preparación de los datos](#section13)\n",
    "* [2. Limpieza del texto](#section2)\n",
    "* [3. Búsqueda por similaridad de la representación tf-idf](#section3)\n",
    "* [4. Recomendación basada en contenido](#section4)\n",
    "   * [Selección de libros preferidos por el usuario](#section41)\n",
    "   * [Búsqueda de libros similares](#section42)\n",
    "   * [Priorización de resultados y recomendación](#section43)\n",
    "* [5. Sistema híbrido de recomendación](#section5)  \n",
    "* [6. LDA y búsqueda por similaridad](#section6)\n",
    "<br>"
   ]
  },
  {
   "cell_type": "code",
   "execution_count": 1,
   "metadata": {},
   "outputs": [
    {
     "data": {
      "text/html": [
       "<style>.container { width:95% !important; }</style>"
      ],
      "text/plain": [
       "<IPython.core.display.HTML object>"
      ]
     },
     "metadata": {},
     "output_type": "display_data"
    }
   ],
   "source": [
    "from IPython.display import display, HTML\n",
    "display(HTML(\"<style>.container { width:95% !important; }</style>\"))\n",
    "\n",
    "import warnings\n",
    "warnings.filterwarnings('ignore')"
   ]
  },
  {
   "cell_type": "markdown",
   "metadata": {},
   "source": [
    "<a id=\"section1\"></a>\n",
    "## <font color=\"#00586D\"> 1. Introducción</font>\n",
    "<br>\n",
    "\n",
    "Los sistemas de recomendación basados en filtrado colaborativo utilizan de manera exclusiva los perfiles de votación de usuarios/items, y no consideran el contenido. Como se vió en clase,  permiten obtener resultados que, si bien cualitativamente son aceptables, pueden llegar a desconcertar al no corresponderse con lo esperado. \n",
    "\n",
    "En este proyecto se diseñará un pequeño sistema de recomendación de libros basado en contenido. Para ello, será necesario hacer uso de algunos de los conceptos relaccionados con aprendizaje automático sobre información textual (_Text Mining_) que han sido tratados también a lo largo del módulo. \n",
    "\n",
    "Como punto de partida, se partirá del conjunto de datos [goodbooks-10k](https://www.kaggle.com/zygmunt/goodbooks-10k) disponible en [kaggle](https://www.kaggle.com). Éste contiene información relativa a 10000 libros obtenida de la red social  [goodreads](http://goodreads.com), que actualmente es el sitio de referencia en la red para aficcionados a la lectura. Además de títulos y autores, el conjunto de datos incluye votos y etiquetas aportadas por más de 53000 usuarios. \n",
    "\n",
    "<div class=\"alert alert-block alert-warning\">\n",
    "<i class=\"fa fa-exclamation-circle\" aria-hidden=\"true\"></i>\n",
    "Se han hecho algunas modificaciones con respecto a la base original para que sea menos tedioso manejar los distintos índices e identificadores. \n",
    "</div>"
   ]
  },
  {
   "cell_type": "code",
   "execution_count": 2,
   "metadata": {},
   "outputs": [
    {
     "data": {
      "text/html": [
       "<div>\n",
       "<style scoped>\n",
       "    .dataframe tbody tr th:only-of-type {\n",
       "        vertical-align: middle;\n",
       "    }\n",
       "\n",
       "    .dataframe tbody tr th {\n",
       "        vertical-align: top;\n",
       "    }\n",
       "\n",
       "    .dataframe thead th {\n",
       "        text-align: right;\n",
       "    }\n",
       "</style>\n",
       "<table border=\"1\" class=\"dataframe\">\n",
       "  <thead>\n",
       "    <tr style=\"text-align: right;\">\n",
       "      <th></th>\n",
       "      <th>gr_book_id</th>\n",
       "      <th>gr_best_book_id</th>\n",
       "      <th>work_id</th>\n",
       "      <th>books_count</th>\n",
       "      <th>isbn</th>\n",
       "      <th>isbn13</th>\n",
       "      <th>authors</th>\n",
       "      <th>original_publication_year</th>\n",
       "      <th>original_title</th>\n",
       "      <th>title</th>\n",
       "      <th>...</th>\n",
       "      <th>ratings_count</th>\n",
       "      <th>work_ratings_count</th>\n",
       "      <th>work_text_reviews_count</th>\n",
       "      <th>ratings_1</th>\n",
       "      <th>ratings_2</th>\n",
       "      <th>ratings_3</th>\n",
       "      <th>ratings_4</th>\n",
       "      <th>ratings_5</th>\n",
       "      <th>image_url</th>\n",
       "      <th>small_image_url</th>\n",
       "    </tr>\n",
       "    <tr>\n",
       "      <th>book_id</th>\n",
       "      <th></th>\n",
       "      <th></th>\n",
       "      <th></th>\n",
       "      <th></th>\n",
       "      <th></th>\n",
       "      <th></th>\n",
       "      <th></th>\n",
       "      <th></th>\n",
       "      <th></th>\n",
       "      <th></th>\n",
       "      <th></th>\n",
       "      <th></th>\n",
       "      <th></th>\n",
       "      <th></th>\n",
       "      <th></th>\n",
       "      <th></th>\n",
       "      <th></th>\n",
       "      <th></th>\n",
       "      <th></th>\n",
       "      <th></th>\n",
       "      <th></th>\n",
       "    </tr>\n",
       "  </thead>\n",
       "  <tbody>\n",
       "    <tr>\n",
       "      <th>0</th>\n",
       "      <td>2767052</td>\n",
       "      <td>2767052</td>\n",
       "      <td>2792775</td>\n",
       "      <td>272</td>\n",
       "      <td>439023483</td>\n",
       "      <td>9.780439e+12</td>\n",
       "      <td>Suzanne Collins</td>\n",
       "      <td>2008.0</td>\n",
       "      <td>The Hunger Games</td>\n",
       "      <td>The Hunger Games (The Hunger Games, #1)</td>\n",
       "      <td>...</td>\n",
       "      <td>4780653</td>\n",
       "      <td>4942365</td>\n",
       "      <td>155254</td>\n",
       "      <td>66715</td>\n",
       "      <td>127936</td>\n",
       "      <td>560092</td>\n",
       "      <td>1481305</td>\n",
       "      <td>2706317</td>\n",
       "      <td>https://images.gr-assets.com/books/1447303603m...</td>\n",
       "      <td>https://images.gr-assets.com/books/1447303603s...</td>\n",
       "    </tr>\n",
       "    <tr>\n",
       "      <th>1</th>\n",
       "      <td>3</td>\n",
       "      <td>3</td>\n",
       "      <td>4640799</td>\n",
       "      <td>491</td>\n",
       "      <td>439554934</td>\n",
       "      <td>9.780440e+12</td>\n",
       "      <td>J.K. Rowling, Mary GrandPré</td>\n",
       "      <td>1997.0</td>\n",
       "      <td>Harry Potter and the Philosopher's Stone</td>\n",
       "      <td>Harry Potter and the Sorcerer's Stone (Harry P...</td>\n",
       "      <td>...</td>\n",
       "      <td>4602479</td>\n",
       "      <td>4800065</td>\n",
       "      <td>75867</td>\n",
       "      <td>75504</td>\n",
       "      <td>101676</td>\n",
       "      <td>455024</td>\n",
       "      <td>1156318</td>\n",
       "      <td>3011543</td>\n",
       "      <td>https://images.gr-assets.com/books/1474154022m...</td>\n",
       "      <td>https://images.gr-assets.com/books/1474154022s...</td>\n",
       "    </tr>\n",
       "  </tbody>\n",
       "</table>\n",
       "<p>2 rows × 22 columns</p>\n",
       "</div>"
      ],
      "text/plain": [
       "         gr_book_id  gr_best_book_id  work_id  books_count       isbn  \\\n",
       "book_id                                                                 \n",
       "0           2767052          2767052  2792775          272  439023483   \n",
       "1                 3                3  4640799          491  439554934   \n",
       "\n",
       "               isbn13                      authors  original_publication_year  \\\n",
       "book_id                                                                         \n",
       "0        9.780439e+12              Suzanne Collins                     2008.0   \n",
       "1        9.780440e+12  J.K. Rowling, Mary GrandPré                     1997.0   \n",
       "\n",
       "                                   original_title  \\\n",
       "book_id                                             \n",
       "0                                The Hunger Games   \n",
       "1        Harry Potter and the Philosopher's Stone   \n",
       "\n",
       "                                                     title  ... ratings_count  \\\n",
       "book_id                                                     ...                 \n",
       "0                  The Hunger Games (The Hunger Games, #1)  ...       4780653   \n",
       "1        Harry Potter and the Sorcerer's Stone (Harry P...  ...       4602479   \n",
       "\n",
       "         work_ratings_count  work_text_reviews_count  ratings_1  ratings_2  \\\n",
       "book_id                                                                      \n",
       "0                   4942365                   155254      66715     127936   \n",
       "1                   4800065                    75867      75504     101676   \n",
       "\n",
       "         ratings_3  ratings_4  ratings_5  \\\n",
       "book_id                                    \n",
       "0           560092    1481305    2706317   \n",
       "1           455024    1156318    3011543   \n",
       "\n",
       "                                                 image_url  \\\n",
       "book_id                                                      \n",
       "0        https://images.gr-assets.com/books/1447303603m...   \n",
       "1        https://images.gr-assets.com/books/1474154022m...   \n",
       "\n",
       "                                           small_image_url  \n",
       "book_id                                                     \n",
       "0        https://images.gr-assets.com/books/1447303603s...  \n",
       "1        https://images.gr-assets.com/books/1474154022s...  \n",
       "\n",
       "[2 rows x 22 columns]"
      ]
     },
     "execution_count": 2,
     "metadata": {},
     "output_type": "execute_result"
    }
   ],
   "source": [
    "import pandas as pd\n",
    "import numpy as np\n",
    "\n",
    "df_goodreads = pd.read_csv('data/books.csv', sep=\"\\t\", index_col=0)\n",
    "df_goodreads.head(2)"
   ]
  },
  {
   "cell_type": "markdown",
   "metadata": {},
   "source": [
    "<div style=\"text-align: right\">\n",
    "<a href=\"#indice\"><font size=5><i class=\"fa fa-arrow-circle-up\" aria-hidden=\"true\" style=\"color:#00586D\"></i></font></a>\n",
    "</div>\n",
    "\n",
    "---\n",
    "\n",
    "<a id=\"section11\"></a> \n",
    "###  <font color=\"#00586D\"> Lectura de las revisiones </font>\n",
    "<br>\n",
    "\n",
    "Los datos de la tabla apenas contienen información relativa al contenido de cada libro. Sin embargo, es posible acceder a los resúmenes almacenados en la propia web [GoodReads](www.goodreads.com) que, en cierto grado, aportan esta información. En el [anexo](#Anexo) se adjunta la función utilizada para obtenerlos. \n",
    "\n",
    "El resumen de cada libro ha sido almacenado en un archivo de texto denominado `./data/overviews/bookid.txt`, donde _bookid_ corresponde al identificador del libro (columna `book_id` de `df_goodreads`). \n",
    "\n",
    "<font color=\"#00586D\"> <i class=\"fa fa-pencil-square-o\" aria-hidden=\"true\" style=\"color:#00586D\"></i></font> Implementar una función, denominada `get_overview(gr_book_id)`, que reciba el identificador de un libro, lea el archivo de texto que contiene el resumen correspondiente y lo devuelva en un _String_ (o devuelva `None` si este resumen no existe). "
   ]
  },
  {
   "cell_type": "code",
   "execution_count": 3,
   "metadata": {},
   "outputs": [
    {
     "data": {
      "text/plain": [
       "'(Book Jacket Status: Jacketed)The brilliant, bestselling, landmark novel that tells the story of the Buendia family, and chronicles the irreconcilable conflict between the desire for solitude and the need for loveâ€”in rich, imaginative prose that has come to define an entire genre known as \"magical realism.\"'"
      ]
     },
     "execution_count": 3,
     "metadata": {},
     "output_type": "execute_result"
    }
   ],
   "source": [
    "def get_overview(gr_book_id):\n",
    "    try:\n",
    "        with open(f'data/overviews/{gr_book_id}.txt', \"r\") as archivo:\n",
    "            contenido = archivo.read()\n",
    "        return contenido\n",
    "    except:\n",
    "        return None\n",
    "    \n",
    "get_overview(320) # Cien años de soledad (Gabriel García Márquez)"
   ]
  },
  {
   "cell_type": "markdown",
   "metadata": {},
   "source": [
    "<div><font size=3 color=#00586D> <i class=\"fa fa-check-square-o\" aria-hidden=\"true\"></i></font></div>\n",
    "\n",
    "<div class=\"alert alert-block alert-success\" markdown=1>\n",
    "\n",
    "__Comentarios__. _Correcto_\n",
    "```python\n",
    "\n",
    "```\n",
    "</div>\n"
   ]
  },
  {
   "cell_type": "markdown",
   "metadata": {},
   "source": [
    "<font color=\"#00586D\"> <i class=\"fa fa-pencil-square-o\" aria-hidden=\"true\"></i></font> Crear una columna en `df_goodreads`, denominada `overview`, que contenga la revisión del libro correspondiente. Rellenar los valores vacíos de esa columna con un _String_ de longitud cero (\"\")."
   ]
  },
  {
   "cell_type": "code",
   "execution_count": 4,
   "metadata": {},
   "outputs": [],
   "source": [
    "df_goodreads['overview'] = df_goodreads['gr_book_id'].apply(lambda x: get_overview(x)).fillna('')"
   ]
  },
  {
   "cell_type": "markdown",
   "metadata": {},
   "source": [
    "<div><font size=3 color=#00586D> <i class=\"fa fa-check-square-o\" aria-hidden=\"true\"></i></font></div>\n",
    "\n",
    "<div class=\"alert alert-block alert-success\" markdown=1>\n",
    "\n",
    "__Comentarios__. _Correcto_, aunque no hay que llamar a una lambda. Con esto vale. \n",
    "```python\n",
    "df_goodreads['gr_book_id'].apply(get_overview)\n",
    "```\n",
    "</div>\n"
   ]
  },
  {
   "cell_type": "markdown",
   "metadata": {},
   "source": [
    "<div style=\"text-align: right\">\n",
    "<a href=\"#indice\"><font size=5><i class=\"fa fa-arrow-circle-up\" aria-hidden=\"true\" style=\"color:#00586D\"></i></font></a>\n",
    "</div>\n",
    "\n",
    "---\n",
    "\n",
    "<a id=\"section12\"></a> \n",
    "###  <font color=\"#00586D\">Etiquetas </font>\n",
    "<br>\n",
    "\n",
    "\n",
    "En el conjunto de datos se proporcionan etiquetas relativas a cada libro que han sido aportadas por los usuarios. Esta información está incluída en dos archivos. El primero de ellos, `tags.csv`, contiene el identificador de cada etiqueta y el código correspondiente. El segundo, `book_tags.csv` contiene las etiquetas relativas a cada libro. Se almacenarán, respectivamente, en los _DataFrame_ `df_tags` y `df_book_tags`."
   ]
  },
  {
   "cell_type": "code",
   "execution_count": 5,
   "metadata": {},
   "outputs": [],
   "source": [
    "df_tags = pd.read_csv('./data/tags.csv')\n",
    "df_book_tags = pd.read_csv('./data/book_tags.csv')"
   ]
  },
  {
   "cell_type": "markdown",
   "metadata": {},
   "source": [
    "Etiquetas"
   ]
  },
  {
   "cell_type": "code",
   "execution_count": 6,
   "metadata": {},
   "outputs": [
    {
     "data": {
      "text/html": [
       "<div>\n",
       "<style scoped>\n",
       "    .dataframe tbody tr th:only-of-type {\n",
       "        vertical-align: middle;\n",
       "    }\n",
       "\n",
       "    .dataframe tbody tr th {\n",
       "        vertical-align: top;\n",
       "    }\n",
       "\n",
       "    .dataframe thead th {\n",
       "        text-align: right;\n",
       "    }\n",
       "</style>\n",
       "<table border=\"1\" class=\"dataframe\">\n",
       "  <thead>\n",
       "    <tr style=\"text-align: right;\">\n",
       "      <th></th>\n",
       "      <th>tag_id</th>\n",
       "      <th>tag_name</th>\n",
       "    </tr>\n",
       "  </thead>\n",
       "  <tbody>\n",
       "    <tr>\n",
       "      <th>2000</th>\n",
       "      <td>2000</td>\n",
       "      <td>alex-read</td>\n",
       "    </tr>\n",
       "    <tr>\n",
       "      <th>2001</th>\n",
       "      <td>2001</td>\n",
       "      <td>alex-rider</td>\n",
       "    </tr>\n",
       "  </tbody>\n",
       "</table>\n",
       "</div>"
      ],
      "text/plain": [
       "      tag_id    tag_name\n",
       "2000    2000   alex-read\n",
       "2001    2001  alex-rider"
      ]
     },
     "execution_count": 6,
     "metadata": {},
     "output_type": "execute_result"
    }
   ],
   "source": [
    "df_tags.iloc[2000:2002]"
   ]
  },
  {
   "cell_type": "markdown",
   "metadata": {},
   "source": [
    "Etiquetas por libro"
   ]
  },
  {
   "cell_type": "code",
   "execution_count": 7,
   "metadata": {},
   "outputs": [
    {
     "data": {
      "text/html": [
       "<div>\n",
       "<style scoped>\n",
       "    .dataframe tbody tr th:only-of-type {\n",
       "        vertical-align: middle;\n",
       "    }\n",
       "\n",
       "    .dataframe tbody tr th {\n",
       "        vertical-align: top;\n",
       "    }\n",
       "\n",
       "    .dataframe thead th {\n",
       "        text-align: right;\n",
       "    }\n",
       "</style>\n",
       "<table border=\"1\" class=\"dataframe\">\n",
       "  <thead>\n",
       "    <tr style=\"text-align: right;\">\n",
       "      <th></th>\n",
       "      <th>gr_book_id</th>\n",
       "      <th>tag_id</th>\n",
       "      <th>count</th>\n",
       "    </tr>\n",
       "  </thead>\n",
       "  <tbody>\n",
       "    <tr>\n",
       "      <th>0</th>\n",
       "      <td>1</td>\n",
       "      <td>30574</td>\n",
       "      <td>167697</td>\n",
       "    </tr>\n",
       "    <tr>\n",
       "      <th>1</th>\n",
       "      <td>1</td>\n",
       "      <td>11305</td>\n",
       "      <td>37174</td>\n",
       "    </tr>\n",
       "    <tr>\n",
       "      <th>2</th>\n",
       "      <td>1</td>\n",
       "      <td>11557</td>\n",
       "      <td>34173</td>\n",
       "    </tr>\n",
       "  </tbody>\n",
       "</table>\n",
       "</div>"
      ],
      "text/plain": [
       "   gr_book_id  tag_id   count\n",
       "0           1   30574  167697\n",
       "1           1   11305   37174\n",
       "2           1   11557   34173"
      ]
     },
     "execution_count": 7,
     "metadata": {},
     "output_type": "execute_result"
    }
   ],
   "source": [
    "df_book_tags.head(3)"
   ]
  },
  {
   "cell_type": "markdown",
   "metadata": {},
   "source": [
    "<font color=\"#00586D\"> <i class=\"fa fa-pencil-square-o\" aria-hidden=\"true\" style=\"color:#00586D\"></i></font> Incorporar el campo `tag_name` de `df_tags` a `df_book_tags`, sustituyendo el campo `tag_id` por la etiqueta (_String_) correspondiente. Para ello, fundir los dos _DataFrame_ y, posteriormente, eliminar las columnas `count` y `tag_id`."
   ]
  },
  {
   "cell_type": "code",
   "execution_count": 8,
   "metadata": {},
   "outputs": [
    {
     "data": {
      "text/html": [
       "<div>\n",
       "<style scoped>\n",
       "    .dataframe tbody tr th:only-of-type {\n",
       "        vertical-align: middle;\n",
       "    }\n",
       "\n",
       "    .dataframe tbody tr th {\n",
       "        vertical-align: top;\n",
       "    }\n",
       "\n",
       "    .dataframe thead th {\n",
       "        text-align: right;\n",
       "    }\n",
       "</style>\n",
       "<table border=\"1\" class=\"dataframe\">\n",
       "  <thead>\n",
       "    <tr style=\"text-align: right;\">\n",
       "      <th></th>\n",
       "      <th>gr_book_id</th>\n",
       "      <th>tag_name</th>\n",
       "    </tr>\n",
       "  </thead>\n",
       "  <tbody>\n",
       "    <tr>\n",
       "      <th>999907</th>\n",
       "      <td>31538635</td>\n",
       "      <td>hogwarts</td>\n",
       "    </tr>\n",
       "    <tr>\n",
       "      <th>999908</th>\n",
       "      <td>32848471</td>\n",
       "      <td>jan-2017</td>\n",
       "    </tr>\n",
       "    <tr>\n",
       "      <th>999909</th>\n",
       "      <td>33288638</td>\n",
       "      <td>single-mom</td>\n",
       "    </tr>\n",
       "    <tr>\n",
       "      <th>999910</th>\n",
       "      <td>33288638</td>\n",
       "      <td>fave-author</td>\n",
       "    </tr>\n",
       "    <tr>\n",
       "      <th>999911</th>\n",
       "      <td>33288638</td>\n",
       "      <td>slowburn</td>\n",
       "    </tr>\n",
       "  </tbody>\n",
       "</table>\n",
       "</div>"
      ],
      "text/plain": [
       "        gr_book_id     tag_name\n",
       "999907    31538635     hogwarts\n",
       "999908    32848471     jan-2017\n",
       "999909    33288638   single-mom\n",
       "999910    33288638  fave-author\n",
       "999911    33288638     slowburn"
      ]
     },
     "execution_count": 8,
     "metadata": {},
     "output_type": "execute_result"
    }
   ],
   "source": [
    "df_book_tags = (df_book_tags\n",
    "                .merge(df_tags,\n",
    "                       left_on='tag_id',\n",
    "                       right_on='tag_id')\n",
    "                .drop(columns=['tag_id', 'count']))\n",
    "\n",
    "df_book_tags.tail()"
   ]
  },
  {
   "cell_type": "markdown",
   "metadata": {},
   "source": [
    "<div><font size=3 color=#00586D> <i class=\"fa fa-check-square-o\" aria-hidden=\"true\"></i></font></div>\n",
    "\n",
    "<div class=\"alert alert-block alert-success\" markdown=1>\n",
    "\n",
    "__Comentarios__. _Correcto_\n",
    "```python\n",
    "\n",
    "```\n",
    "</div>\n"
   ]
  },
  {
   "cell_type": "markdown",
   "metadata": {},
   "source": [
    "<font color=\"#00586D\"> <i class=\"fa fa-pencil-square-o\" aria-hidden=\"true\" style=\"color:#00586D\"></i></font> Inspeccionar las etiquetas que aparecen en `df_book_tags` y el número de veces que aparece cada una. ¿Deberían eliminarse algunas?"
   ]
  },
  {
   "cell_type": "code",
   "execution_count": 9,
   "metadata": {},
   "outputs": [
    {
     "data": {
      "text/plain": [
       "(34252,)"
      ]
     },
     "execution_count": 9,
     "metadata": {},
     "output_type": "execute_result"
    }
   ],
   "source": [
    "df_book_tags['tag_name'].unique().shape"
   ]
  },
  {
   "cell_type": "code",
   "execution_count": 10,
   "metadata": {},
   "outputs": [
    {
     "data": {
      "text/html": [
       "<div>\n",
       "<style scoped>\n",
       "    .dataframe tbody tr th:only-of-type {\n",
       "        vertical-align: middle;\n",
       "    }\n",
       "\n",
       "    .dataframe tbody tr th {\n",
       "        vertical-align: top;\n",
       "    }\n",
       "\n",
       "    .dataframe thead th {\n",
       "        text-align: right;\n",
       "    }\n",
       "</style>\n",
       "<table border=\"1\" class=\"dataframe\">\n",
       "  <thead>\n",
       "    <tr style=\"text-align: right;\">\n",
       "      <th></th>\n",
       "      <th>gr_book_id</th>\n",
       "    </tr>\n",
       "    <tr>\n",
       "      <th>tag_name</th>\n",
       "      <th></th>\n",
       "    </tr>\n",
       "  </thead>\n",
       "  <tbody>\n",
       "    <tr>\n",
       "      <th>ｆａｖｏｕｒｉｔｅｓ</th>\n",
       "      <td>1</td>\n",
       "    </tr>\n",
       "    <tr>\n",
       "      <th>queer-fantasy</th>\n",
       "      <td>1</td>\n",
       "    </tr>\n",
       "    <tr>\n",
       "      <th>forensic-medicine-thriller</th>\n",
       "      <td>1</td>\n",
       "    </tr>\n",
       "    <tr>\n",
       "      <th>queen-elizabeth-ii</th>\n",
       "      <td>1</td>\n",
       "    </tr>\n",
       "    <tr>\n",
       "      <th>queen-elizabeth</th>\n",
       "      <td>1</td>\n",
       "    </tr>\n",
       "    <tr>\n",
       "      <th>forensic-sculptor</th>\n",
       "      <td>1</td>\n",
       "    </tr>\n",
       "    <tr>\n",
       "      <th>quebec-city</th>\n",
       "      <td>1</td>\n",
       "    </tr>\n",
       "    <tr>\n",
       "      <th>quarterbacks</th>\n",
       "      <td>1</td>\n",
       "    </tr>\n",
       "    <tr>\n",
       "      <th>quanah-parker</th>\n",
       "      <td>1</td>\n",
       "    </tr>\n",
       "    <tr>\n",
       "      <th>forest-fires</th>\n",
       "      <td>1</td>\n",
       "    </tr>\n",
       "    <tr>\n",
       "      <th>quality-stories</th>\n",
       "      <td>1</td>\n",
       "    </tr>\n",
       "    <tr>\n",
       "      <th>forest-of-hands-and-teeth-series</th>\n",
       "      <td>1</td>\n",
       "    </tr>\n",
       "    <tr>\n",
       "      <th>quality-childrens-books</th>\n",
       "      <td>1</td>\n",
       "    </tr>\n",
       "    <tr>\n",
       "      <th>forever-ago</th>\n",
       "      <td>1</td>\n",
       "    </tr>\n",
       "    <tr>\n",
       "      <th>forever-amber</th>\n",
       "      <td>1</td>\n",
       "    </tr>\n",
       "    <tr>\n",
       "      <th>quality</th>\n",
       "      <td>1</td>\n",
       "    </tr>\n",
       "    <tr>\n",
       "      <th>quakers</th>\n",
       "      <td>1</td>\n",
       "    </tr>\n",
       "    <tr>\n",
       "      <th>quaker</th>\n",
       "      <td>1</td>\n",
       "    </tr>\n",
       "    <tr>\n",
       "      <th>format-graphic-novel</th>\n",
       "      <td>1</td>\n",
       "    </tr>\n",
       "    <tr>\n",
       "      <th>format-comic</th>\n",
       "      <td>1</td>\n",
       "    </tr>\n",
       "    <tr>\n",
       "      <th>form-1</th>\n",
       "      <td>1</td>\n",
       "    </tr>\n",
       "    <tr>\n",
       "      <th>pyramids</th>\n",
       "      <td>1</td>\n",
       "    </tr>\n",
       "    <tr>\n",
       "      <th>pérez-reverte</th>\n",
       "      <td>1</td>\n",
       "    </tr>\n",
       "    <tr>\n",
       "      <th>forgotten_realms</th>\n",
       "      <td>1</td>\n",
       "    </tr>\n",
       "    <tr>\n",
       "      <th>forensic-archaeologist</th>\n",
       "      <td>1</td>\n",
       "    </tr>\n",
       "    <tr>\n",
       "      <th>forgotten-relms</th>\n",
       "      <td>1</td>\n",
       "    </tr>\n",
       "    <tr>\n",
       "      <th>q1-2016-reading-challenge</th>\n",
       "      <td>1</td>\n",
       "    </tr>\n",
       "    <tr>\n",
       "      <th>forgot</th>\n",
       "      <td>1</td>\n",
       "    </tr>\n",
       "    <tr>\n",
       "      <th>q12008</th>\n",
       "      <td>1</td>\n",
       "    </tr>\n",
       "    <tr>\n",
       "      <th>qaeda</th>\n",
       "      <td>1</td>\n",
       "    </tr>\n",
       "    <tr>\n",
       "      <th>qaida</th>\n",
       "      <td>1</td>\n",
       "    </tr>\n",
       "    <tr>\n",
       "      <th>forever-war</th>\n",
       "      <td>1</td>\n",
       "    </tr>\n",
       "    <tr>\n",
       "      <th>q</th>\n",
       "      <td>1</td>\n",
       "    </tr>\n",
       "    <tr>\n",
       "      <th>format-hardcover</th>\n",
       "      <td>1</td>\n",
       "    </tr>\n",
       "    <tr>\n",
       "      <th>queer-history</th>\n",
       "      <td>1</td>\n",
       "    </tr>\n",
       "    <tr>\n",
       "      <th>queer-stuff</th>\n",
       "      <td>1</td>\n",
       "    </tr>\n",
       "    <tr>\n",
       "      <th>quran</th>\n",
       "      <td>1</td>\n",
       "    </tr>\n",
       "    <tr>\n",
       "      <th>quotes</th>\n",
       "      <td>1</td>\n",
       "    </tr>\n",
       "    <tr>\n",
       "      <th>quot-hardbound</th>\n",
       "      <td>1</td>\n",
       "    </tr>\n",
       "    <tr>\n",
       "      <th>quirky-characters</th>\n",
       "      <td>1</td>\n",
       "    </tr>\n",
       "    <tr>\n",
       "      <th>for-the-mensa-murders</th>\n",
       "      <td>1</td>\n",
       "    </tr>\n",
       "    <tr>\n",
       "      <th>for-university</th>\n",
       "      <td>1</td>\n",
       "    </tr>\n",
       "    <tr>\n",
       "      <th>for-upkar-members</th>\n",
       "      <td>1</td>\n",
       "    </tr>\n",
       "    <tr>\n",
       "      <th>quirk-classics</th>\n",
       "      <td>1</td>\n",
       "    </tr>\n",
       "    <tr>\n",
       "      <th>quintuplets</th>\n",
       "      <td>1</td>\n",
       "    </tr>\n",
       "    <tr>\n",
       "      <th>quinrose</th>\n",
       "      <td>1</td>\n",
       "    </tr>\n",
       "    <tr>\n",
       "      <th>quinn-spencer</th>\n",
       "      <td>1</td>\n",
       "    </tr>\n",
       "    <tr>\n",
       "      <th>forbidden-game</th>\n",
       "      <td>1</td>\n",
       "    </tr>\n",
       "    <tr>\n",
       "      <th>quincy-and-rainie-series</th>\n",
       "      <td>1</td>\n",
       "    </tr>\n",
       "    <tr>\n",
       "      <th>forbidden-love-affair</th>\n",
       "      <td>1</td>\n",
       "    </tr>\n",
       "  </tbody>\n",
       "</table>\n",
       "</div>"
      ],
      "text/plain": [
       "                                  gr_book_id\n",
       "tag_name                                    \n",
       "ｆａｖｏｕｒｉｔｅｓ                                 1\n",
       "queer-fantasy                              1\n",
       "forensic-medicine-thriller                 1\n",
       "queen-elizabeth-ii                         1\n",
       "queen-elizabeth                            1\n",
       "forensic-sculptor                          1\n",
       "quebec-city                                1\n",
       "quarterbacks                               1\n",
       "quanah-parker                              1\n",
       "forest-fires                               1\n",
       "quality-stories                            1\n",
       "forest-of-hands-and-teeth-series           1\n",
       "quality-childrens-books                    1\n",
       "forever-ago                                1\n",
       "forever-amber                              1\n",
       "quality                                    1\n",
       "quakers                                    1\n",
       "quaker                                     1\n",
       "format-graphic-novel                       1\n",
       "format-comic                               1\n",
       "form-1                                     1\n",
       "pyramids                                   1\n",
       "pérez-reverte                              1\n",
       "forgotten_realms                           1\n",
       "forensic-archaeologist                     1\n",
       "forgotten-relms                            1\n",
       "q1-2016-reading-challenge                  1\n",
       "forgot                                     1\n",
       "q12008                                     1\n",
       "qaeda                                      1\n",
       "qaida                                      1\n",
       "forever-war                                1\n",
       "q                                          1\n",
       "format-hardcover                           1\n",
       "queer-history                              1\n",
       "queer-stuff                                1\n",
       "quran                                      1\n",
       "quotes                                     1\n",
       "quot-hardbound                             1\n",
       "quirky-characters                          1\n",
       "for-the-mensa-murders                      1\n",
       "for-university                             1\n",
       "for-upkar-members                          1\n",
       "quirk-classics                             1\n",
       "quintuplets                                1\n",
       "quinrose                                   1\n",
       "quinn-spencer                              1\n",
       "forbidden-game                             1\n",
       "quincy-and-rainie-series                   1\n",
       "forbidden-love-affair                      1"
      ]
     },
     "execution_count": 10,
     "metadata": {},
     "output_type": "execute_result"
    }
   ],
   "source": [
    "df_book_tags.groupby('tag_name').count().sort_values(by='gr_book_id').head(50)"
   ]
  },
  {
   "cell_type": "markdown",
   "metadata": {},
   "source": [
    "Existe un gran numero de etiquetas y muchas de ellas aparecen una vez. Para facilitar el analisis podrian eliminarse en base a algun criterio."
   ]
  },
  {
   "cell_type": "markdown",
   "metadata": {},
   "source": [
    "<div><font size=3 color=#00586D> <i class=\"fa fa-check-square-o\" aria-hidden=\"true\"></i></font></div>\n",
    "\n",
    "<div class=\"alert alert-block alert-success\" markdown=1>\n",
    "\n",
    "__Comentarios__. _Correcto_\n",
    "```python\n",
    "\n",
    "```\n",
    "</div>\n"
   ]
  },
  {
   "cell_type": "markdown",
   "metadata": {},
   "source": [
    "Una de las cosas que se observan es que hay un alto número de etiquetas que aparecen una vez, y que son irrelevantes, por lo que es mejor ignorarlas. "
   ]
  },
  {
   "cell_type": "markdown",
   "metadata": {},
   "source": [
    "\n",
    "<font color=\"#00586D\"> <i class=\"fa fa-pencil-square-o\" aria-hidden=\"true\" style=\"color:#00586D\"></i></font> Eliminar todas las etiquetas que aparezcan menos de 20 veces. \n",
    "\n",
    "<div class=\"alert alert-block alert-warning\">\n",
    "    \n",
    "<i class=\"fa fa-exclamation-circle\" aria-hidden=\"true\"></i> Este ejercicio se puede hacer de varias formas. Una de ellas, consiste en agrupar por `tag_name`, mediante `groupby`, y filtrar con `filter` los grupos con tamaño >=20.\n",
    "</div>"
   ]
  },
  {
   "cell_type": "code",
   "execution_count": 11,
   "metadata": {},
   "outputs": [],
   "source": [
    "df_book_tags = df_book_tags.groupby('tag_name').filter(lambda x: len(x) >= 20)"
   ]
  },
  {
   "cell_type": "markdown",
   "metadata": {},
   "source": [
    "<div><font size=3 color=#00586D> <i class=\"fa fa-check-square-o\" aria-hidden=\"true\"></i></font></div>\n",
    "\n",
    "<div class=\"alert alert-block alert-success\" markdown=1>\n",
    "\n",
    "__Comentarios__. _Correcto_\n",
    "```python\n",
    "\n",
    "```\n",
    "</div>\n"
   ]
  },
  {
   "cell_type": "markdown",
   "metadata": {},
   "source": [
    "Otro de los problemas que se aprecian es que algunas etiquetas son genéricas, y no corresponden a libros concretos. Por ejemplo palabras como `read-readings` o `favourites`. "
   ]
  },
  {
   "cell_type": "code",
   "execution_count": 12,
   "metadata": {},
   "outputs": [
    {
     "data": {
      "text/plain": [
       "to-read              9983\n",
       "favorites            9881\n",
       "owned                9858\n",
       "books-i-own          9799\n",
       "currently-reading    9776\n",
       "library              9415\n",
       "owned-books          9221\n",
       "fiction              9097\n",
       "to-buy               8692\n",
       "kindle               8316\n",
       "default              8239\n",
       "ebook                8054\n",
       "my-books             7561\n",
       "audiobook            7242\n",
       "ebooks               7203\n",
       "wish-list            7192\n",
       "my-library           7000\n",
       "audiobooks           6862\n",
       "i-own                6670\n",
       "adult                6604\n",
       "audio                6548\n",
       "favourites           6422\n",
       "novels               5665\n",
       "own-it               5514\n",
       "contemporary         5287\n",
       "Name: tag_name, dtype: int64"
      ]
     },
     "execution_count": 12,
     "metadata": {},
     "output_type": "execute_result"
    }
   ],
   "source": [
    "df_book_tags['tag_name'].value_counts().nlargest(25)"
   ]
  },
  {
   "cell_type": "markdown",
   "metadata": {},
   "source": [
    "<font color=\"#00586D\"> <i class=\"fa fa-pencil-square-o\" aria-hidden=\"true\" style=\"color:#00586D\"></i></font> Eliminar todas las etiquetas que contengan estos términos (los términos de la lista `target_tags`).  \n",
    "\n",
    "<div class=\"alert alert-block alert-warning\">\n",
    "\n",
    "<i class=\"fa fa-exclamation-circle\" aria-hidden=\"true\"></i>\n",
    "En este caso, es recomendable no utilizar las etiquetas completas para eliminar así sus variantes también. Por otra parte, `Series.str.contains` acepta expresiones regulares.\n",
    "</div>"
   ]
  },
  {
   "cell_type": "code",
   "execution_count": 13,
   "metadata": {},
   "outputs": [
    {
     "data": {
      "text/html": [
       "<div>\n",
       "<style scoped>\n",
       "    .dataframe tbody tr th:only-of-type {\n",
       "        vertical-align: middle;\n",
       "    }\n",
       "\n",
       "    .dataframe tbody tr th {\n",
       "        vertical-align: top;\n",
       "    }\n",
       "\n",
       "    .dataframe thead th {\n",
       "        text-align: right;\n",
       "    }\n",
       "</style>\n",
       "<table border=\"1\" class=\"dataframe\">\n",
       "  <thead>\n",
       "    <tr style=\"text-align: right;\">\n",
       "      <th></th>\n",
       "      <th>gr_book_id</th>\n",
       "      <th>tag_name</th>\n",
       "    </tr>\n",
       "  </thead>\n",
       "  <tbody>\n",
       "    <tr>\n",
       "      <th>9983</th>\n",
       "      <td>1</td>\n",
       "      <td>fantasy</td>\n",
       "    </tr>\n",
       "    <tr>\n",
       "      <th>9984</th>\n",
       "      <td>2</td>\n",
       "      <td>fantasy</td>\n",
       "    </tr>\n",
       "    <tr>\n",
       "      <th>9985</th>\n",
       "      <td>3</td>\n",
       "      <td>fantasy</td>\n",
       "    </tr>\n",
       "    <tr>\n",
       "      <th>9986</th>\n",
       "      <td>5</td>\n",
       "      <td>fantasy</td>\n",
       "    </tr>\n",
       "    <tr>\n",
       "      <th>9987</th>\n",
       "      <td>6</td>\n",
       "      <td>fantasy</td>\n",
       "    </tr>\n",
       "    <tr>\n",
       "      <th>...</th>\n",
       "      <td>...</td>\n",
       "      <td>...</td>\n",
       "    </tr>\n",
       "    <tr>\n",
       "      <th>997632</th>\n",
       "      <td>29430013</td>\n",
       "      <td>best-of-2016</td>\n",
       "    </tr>\n",
       "    <tr>\n",
       "      <th>997633</th>\n",
       "      <td>29519514</td>\n",
       "      <td>best-of-2016</td>\n",
       "    </tr>\n",
       "    <tr>\n",
       "      <th>997634</th>\n",
       "      <td>30008702</td>\n",
       "      <td>best-of-2016</td>\n",
       "    </tr>\n",
       "    <tr>\n",
       "      <th>997635</th>\n",
       "      <td>30364931</td>\n",
       "      <td>best-of-2016</td>\n",
       "    </tr>\n",
       "    <tr>\n",
       "      <th>997636</th>\n",
       "      <td>30555488</td>\n",
       "      <td>best-of-2016</td>\n",
       "    </tr>\n",
       "  </tbody>\n",
       "</table>\n",
       "<p>551043 rows × 2 columns</p>\n",
       "</div>"
      ],
      "text/plain": [
       "        gr_book_id      tag_name\n",
       "9983             1       fantasy\n",
       "9984             2       fantasy\n",
       "9985             3       fantasy\n",
       "9986             5       fantasy\n",
       "9987             6       fantasy\n",
       "...            ...           ...\n",
       "997632    29430013  best-of-2016\n",
       "997633    29519514  best-of-2016\n",
       "997634    30008702  best-of-2016\n",
       "997635    30364931  best-of-2016\n",
       "997636    30555488  best-of-2016\n",
       "\n",
       "[551043 rows x 2 columns]"
      ]
     },
     "execution_count": 13,
     "metadata": {},
     "output_type": "execute_result"
    }
   ],
   "source": [
    "target_tags = ['read', 'favo', 'own', 'top', 'book', 'librar', 'kindle', 'list']\n",
    "\n",
    "df_book_tags = df_book_tags[~df_book_tags['tag_name'].str.contains('|'.join(target_tags), case=False, regex=True)]\n",
    "df_book_tags"
   ]
  },
  {
   "cell_type": "markdown",
   "metadata": {},
   "source": [
    "<div><font size=3 color=#00586D> <i class=\"fa fa-check-square-o\" aria-hidden=\"true\"></i></font></div>\n",
    "\n",
    "<div class=\"alert alert-block alert-success\" markdown=1>\n",
    "\n",
    "__Comentarios__. _Correcto_\n",
    "```python\n",
    "\n",
    "```\n",
    "</div>\n"
   ]
  },
  {
   "cell_type": "markdown",
   "metadata": {},
   "source": [
    "Por último,  se creará un `DataFrame` denominado `df_book_tag_text` en el que, para cada libro (indicado por su código `goodreads_book_id`), se añadirá una columna con _un solo campo de texto_, resultado de unir las etiquetas correspondientes.  \n",
    "\n",
    "<font color=\"#00586D\"> <i class=\"fa fa-pencil-square-o\" aria-hidden=\"true\" style=\"color:#00586D\"></i></font> Agrupar las entradas `DataFrame` en `df_book_tags` en función del campo `goodreads_book_id` y unir todas las etiquetas de cada grupo mediante `join`. Almacenar el resultado en un `DataFrame` denominado `df_book_tag_text`.\n",
    "\n",
    "<div class=\"alert alert-block alert-warning\">\n",
    "\n",
    "<i class=\"fa fa-exclamation-circle\" aria-hidden=\"true\"></i>\n",
    "Para pasos posteriores es necesario convertir el resultado resultante, una `Serie`, en un `DataFrame`, mediante `Series.to_frame()`. \n",
    "</div>"
   ]
  },
  {
   "cell_type": "code",
   "execution_count": 14,
   "metadata": {},
   "outputs": [
    {
     "data": {
      "text/html": [
       "<div>\n",
       "<style scoped>\n",
       "    .dataframe tbody tr th:only-of-type {\n",
       "        vertical-align: middle;\n",
       "    }\n",
       "\n",
       "    .dataframe tbody tr th {\n",
       "        vertical-align: top;\n",
       "    }\n",
       "\n",
       "    .dataframe thead th {\n",
       "        text-align: right;\n",
       "    }\n",
       "</style>\n",
       "<table border=\"1\" class=\"dataframe\">\n",
       "  <thead>\n",
       "    <tr style=\"text-align: right;\">\n",
       "      <th></th>\n",
       "      <th>tag_name</th>\n",
       "    </tr>\n",
       "    <tr>\n",
       "      <th>gr_book_id</th>\n",
       "      <th></th>\n",
       "    </tr>\n",
       "  </thead>\n",
       "  <tbody>\n",
       "    <tr>\n",
       "      <th>1</th>\n",
       "      <td>fantasy young-adult fiction harry-potter ya se...</td>\n",
       "    </tr>\n",
       "    <tr>\n",
       "      <th>2</th>\n",
       "      <td>fantasy young-adult fiction harry-potter ya ma...</td>\n",
       "    </tr>\n",
       "    <tr>\n",
       "      <th>3</th>\n",
       "      <td>fantasy young-adult fiction harry-potter ya se...</td>\n",
       "    </tr>\n",
       "    <tr>\n",
       "      <th>5</th>\n",
       "      <td>fantasy young-adult fiction harry-potter ya se...</td>\n",
       "    </tr>\n",
       "    <tr>\n",
       "      <th>6</th>\n",
       "      <td>fantasy young-adult fiction harry-potter ya se...</td>\n",
       "    </tr>\n",
       "  </tbody>\n",
       "</table>\n",
       "</div>"
      ],
      "text/plain": [
       "                                                     tag_name\n",
       "gr_book_id                                                   \n",
       "1           fantasy young-adult fiction harry-potter ya se...\n",
       "2           fantasy young-adult fiction harry-potter ya ma...\n",
       "3           fantasy young-adult fiction harry-potter ya se...\n",
       "5           fantasy young-adult fiction harry-potter ya se...\n",
       "6           fantasy young-adult fiction harry-potter ya se..."
      ]
     },
     "execution_count": 14,
     "metadata": {},
     "output_type": "execute_result"
    }
   ],
   "source": [
    "df_book_tag_text = df_book_tags.groupby('gr_book_id')['tag_name'].apply(lambda x: ' '.join(x)).to_frame()\n",
    "\n",
    "df_book_tag_text.head()"
   ]
  },
  {
   "cell_type": "markdown",
   "metadata": {},
   "source": [
    "<div><font size=3 color=#00586D> <i class=\"fa fa-check-square-o\" aria-hidden=\"true\"></i></font></div>\n",
    "\n",
    "<div class=\"alert alert-block alert-success\" markdown=1>\n",
    "\n",
    "__Comentarios__. _Correcto_\n",
    "```python\n",
    "\n",
    "```\n",
    "</div>\n"
   ]
  },
  {
   "cell_type": "markdown",
   "metadata": {},
   "source": [
    "<font color=\"#00586D\"> <i class=\"fa fa-pencil-square-o\" aria-hidden=\"true\" style=\"color:#00586D\"></i></font> Renombrar la columna `tag_name` de `df_book_tags` a `text_tags`. Rellenar los valores perdidos con un String vacío (\"\")."
   ]
  },
  {
   "cell_type": "code",
   "execution_count": 15,
   "metadata": {},
   "outputs": [
    {
     "data": {
      "text/html": [
       "<div>\n",
       "<style scoped>\n",
       "    .dataframe tbody tr th:only-of-type {\n",
       "        vertical-align: middle;\n",
       "    }\n",
       "\n",
       "    .dataframe tbody tr th {\n",
       "        vertical-align: top;\n",
       "    }\n",
       "\n",
       "    .dataframe thead th {\n",
       "        text-align: right;\n",
       "    }\n",
       "</style>\n",
       "<table border=\"1\" class=\"dataframe\">\n",
       "  <thead>\n",
       "    <tr style=\"text-align: right;\">\n",
       "      <th></th>\n",
       "      <th>text_tags</th>\n",
       "    </tr>\n",
       "    <tr>\n",
       "      <th>gr_book_id</th>\n",
       "      <th></th>\n",
       "    </tr>\n",
       "  </thead>\n",
       "  <tbody>\n",
       "    <tr>\n",
       "      <th>1</th>\n",
       "      <td>fantasy young-adult fiction harry-potter ya se...</td>\n",
       "    </tr>\n",
       "    <tr>\n",
       "      <th>2</th>\n",
       "      <td>fantasy young-adult fiction harry-potter ya ma...</td>\n",
       "    </tr>\n",
       "    <tr>\n",
       "      <th>3</th>\n",
       "      <td>fantasy young-adult fiction harry-potter ya se...</td>\n",
       "    </tr>\n",
       "    <tr>\n",
       "      <th>5</th>\n",
       "      <td>fantasy young-adult fiction harry-potter ya se...</td>\n",
       "    </tr>\n",
       "    <tr>\n",
       "      <th>6</th>\n",
       "      <td>fantasy young-adult fiction harry-potter ya se...</td>\n",
       "    </tr>\n",
       "  </tbody>\n",
       "</table>\n",
       "</div>"
      ],
      "text/plain": [
       "                                                    text_tags\n",
       "gr_book_id                                                   \n",
       "1           fantasy young-adult fiction harry-potter ya se...\n",
       "2           fantasy young-adult fiction harry-potter ya ma...\n",
       "3           fantasy young-adult fiction harry-potter ya se...\n",
       "5           fantasy young-adult fiction harry-potter ya se...\n",
       "6           fantasy young-adult fiction harry-potter ya se..."
      ]
     },
     "execution_count": 15,
     "metadata": {},
     "output_type": "execute_result"
    }
   ],
   "source": [
    "df_book_tag_text = df_book_tag_text.rename(columns={'tag_name': 'text_tags'}).fillna('')\n",
    "\n",
    "df_book_tag_text.head()"
   ]
  },
  {
   "cell_type": "markdown",
   "metadata": {},
   "source": [
    "<div><font size=3 color=#00586D> <i class=\"fa fa-check-square-o\" aria-hidden=\"true\"></i></font></div>\n",
    "\n",
    "<div class=\"alert alert-block alert-success\" markdown=1>\n",
    "\n",
    "__Comentarios__. _Correcto_\n",
    "```python\n",
    "\n",
    "```\n",
    "</div>\n"
   ]
  },
  {
   "cell_type": "markdown",
   "metadata": {},
   "source": [
    "<font color=\"#00586D\"> <i class=\"fa fa-pencil-square-o\" aria-hidden=\"true\" style=\"color:#00586D\"></i></font> Incorporar la información del texto de las etiquetas, es decir, la columna `text_tags`, al `DataFrame` principal `df_goodreads` (utilizar _merge_)."
   ]
  },
  {
   "cell_type": "code",
   "execution_count": 16,
   "metadata": {},
   "outputs": [
    {
     "data": {
      "text/html": [
       "<div>\n",
       "<style scoped>\n",
       "    .dataframe tbody tr th:only-of-type {\n",
       "        vertical-align: middle;\n",
       "    }\n",
       "\n",
       "    .dataframe tbody tr th {\n",
       "        vertical-align: top;\n",
       "    }\n",
       "\n",
       "    .dataframe thead th {\n",
       "        text-align: right;\n",
       "    }\n",
       "</style>\n",
       "<table border=\"1\" class=\"dataframe\">\n",
       "  <thead>\n",
       "    <tr style=\"text-align: right;\">\n",
       "      <th></th>\n",
       "      <th>gr_book_id</th>\n",
       "      <th>gr_best_book_id</th>\n",
       "      <th>work_id</th>\n",
       "      <th>books_count</th>\n",
       "      <th>isbn</th>\n",
       "      <th>isbn13</th>\n",
       "      <th>authors</th>\n",
       "      <th>original_publication_year</th>\n",
       "      <th>original_title</th>\n",
       "      <th>title</th>\n",
       "      <th>...</th>\n",
       "      <th>work_text_reviews_count</th>\n",
       "      <th>ratings_1</th>\n",
       "      <th>ratings_2</th>\n",
       "      <th>ratings_3</th>\n",
       "      <th>ratings_4</th>\n",
       "      <th>ratings_5</th>\n",
       "      <th>image_url</th>\n",
       "      <th>small_image_url</th>\n",
       "      <th>overview</th>\n",
       "      <th>text_tags</th>\n",
       "    </tr>\n",
       "    <tr>\n",
       "      <th>book_id</th>\n",
       "      <th></th>\n",
       "      <th></th>\n",
       "      <th></th>\n",
       "      <th></th>\n",
       "      <th></th>\n",
       "      <th></th>\n",
       "      <th></th>\n",
       "      <th></th>\n",
       "      <th></th>\n",
       "      <th></th>\n",
       "      <th></th>\n",
       "      <th></th>\n",
       "      <th></th>\n",
       "      <th></th>\n",
       "      <th></th>\n",
       "      <th></th>\n",
       "      <th></th>\n",
       "      <th></th>\n",
       "      <th></th>\n",
       "      <th></th>\n",
       "      <th></th>\n",
       "    </tr>\n",
       "  </thead>\n",
       "  <tbody>\n",
       "    <tr>\n",
       "      <th>0</th>\n",
       "      <td>2767052</td>\n",
       "      <td>2767052</td>\n",
       "      <td>2792775</td>\n",
       "      <td>272</td>\n",
       "      <td>439023483</td>\n",
       "      <td>9.780439e+12</td>\n",
       "      <td>Suzanne Collins</td>\n",
       "      <td>2008.0</td>\n",
       "      <td>The Hunger Games</td>\n",
       "      <td>The Hunger Games (The Hunger Games, #1)</td>\n",
       "      <td>...</td>\n",
       "      <td>155254</td>\n",
       "      <td>66715</td>\n",
       "      <td>127936</td>\n",
       "      <td>560092</td>\n",
       "      <td>1481305</td>\n",
       "      <td>2706317</td>\n",
       "      <td>https://images.gr-assets.com/books/1447303603m...</td>\n",
       "      <td>https://images.gr-assets.com/books/1447303603s...</td>\n",
       "      <td>Winning will make you famous. Losing means cer...</td>\n",
       "      <td>fantasy young-adult fiction ya series adventur...</td>\n",
       "    </tr>\n",
       "    <tr>\n",
       "      <th>1</th>\n",
       "      <td>3</td>\n",
       "      <td>3</td>\n",
       "      <td>4640799</td>\n",
       "      <td>491</td>\n",
       "      <td>439554934</td>\n",
       "      <td>9.780440e+12</td>\n",
       "      <td>J.K. Rowling, Mary GrandPré</td>\n",
       "      <td>1997.0</td>\n",
       "      <td>Harry Potter and the Philosopher's Stone</td>\n",
       "      <td>Harry Potter and the Sorcerer's Stone (Harry P...</td>\n",
       "      <td>...</td>\n",
       "      <td>75867</td>\n",
       "      <td>75504</td>\n",
       "      <td>101676</td>\n",
       "      <td>455024</td>\n",
       "      <td>1156318</td>\n",
       "      <td>3011543</td>\n",
       "      <td>https://images.gr-assets.com/books/1474154022m...</td>\n",
       "      <td>https://images.gr-assets.com/books/1474154022s...</td>\n",
       "      <td>Harry Potter's life is miserable. His parents ...</td>\n",
       "      <td>fantasy young-adult fiction harry-potter ya se...</td>\n",
       "    </tr>\n",
       "  </tbody>\n",
       "</table>\n",
       "<p>2 rows × 24 columns</p>\n",
       "</div>"
      ],
      "text/plain": [
       "         gr_book_id  gr_best_book_id  work_id  books_count       isbn  \\\n",
       "book_id                                                                 \n",
       "0           2767052          2767052  2792775          272  439023483   \n",
       "1                 3                3  4640799          491  439554934   \n",
       "\n",
       "               isbn13                      authors  original_publication_year  \\\n",
       "book_id                                                                         \n",
       "0        9.780439e+12              Suzanne Collins                     2008.0   \n",
       "1        9.780440e+12  J.K. Rowling, Mary GrandPré                     1997.0   \n",
       "\n",
       "                                   original_title  \\\n",
       "book_id                                             \n",
       "0                                The Hunger Games   \n",
       "1        Harry Potter and the Philosopher's Stone   \n",
       "\n",
       "                                                     title  ...  \\\n",
       "book_id                                                     ...   \n",
       "0                  The Hunger Games (The Hunger Games, #1)  ...   \n",
       "1        Harry Potter and the Sorcerer's Stone (Harry P...  ...   \n",
       "\n",
       "        work_text_reviews_count  ratings_1  ratings_2  ratings_3  ratings_4  \\\n",
       "book_id                                                                       \n",
       "0                        155254      66715     127936     560092    1481305   \n",
       "1                         75867      75504     101676     455024    1156318   \n",
       "\n",
       "         ratings_5                                          image_url  \\\n",
       "book_id                                                                 \n",
       "0          2706317  https://images.gr-assets.com/books/1447303603m...   \n",
       "1          3011543  https://images.gr-assets.com/books/1474154022m...   \n",
       "\n",
       "                                           small_image_url  \\\n",
       "book_id                                                      \n",
       "0        https://images.gr-assets.com/books/1447303603s...   \n",
       "1        https://images.gr-assets.com/books/1474154022s...   \n",
       "\n",
       "                                                  overview  \\\n",
       "book_id                                                      \n",
       "0        Winning will make you famous. Losing means cer...   \n",
       "1        Harry Potter's life is miserable. His parents ...   \n",
       "\n",
       "                                                 text_tags  \n",
       "book_id                                                     \n",
       "0        fantasy young-adult fiction ya series adventur...  \n",
       "1        fantasy young-adult fiction harry-potter ya se...  \n",
       "\n",
       "[2 rows x 24 columns]"
      ]
     },
     "execution_count": 16,
     "metadata": {},
     "output_type": "execute_result"
    }
   ],
   "source": [
    "df_goodreads = pd.merge(df_goodreads, df_book_tag_text, left_on='gr_book_id', right_index=True, how='inner')\n",
    "\n",
    "df_goodreads.head(2)"
   ]
  },
  {
   "cell_type": "markdown",
   "metadata": {},
   "source": [
    "<div><font size=3 color=#00586D> <i class=\"fa fa-check-square-o\" aria-hidden=\"true\"></i></font></div>\n",
    "\n",
    "<div class=\"alert alert-block alert-success\" markdown=1>\n",
    "\n",
    "__Comentarios__. _Correcto_\n",
    "```python\n",
    "\n",
    "```\n",
    "</div>\n"
   ]
  },
  {
   "cell_type": "markdown",
   "metadata": {},
   "source": [
    "<div style=\"text-align: right\">\n",
    "<a href=\"#indice\"><font size=5><i class=\"fa fa-arrow-circle-up\" aria-hidden=\"true\" style=\"color:#00586D\"></i></font></a>\n",
    "</div>\n",
    "\n",
    "---\n",
    "\n",
    "<a id=\"section2\"></a> \n",
    "## <font color=\"#00586D\"> 2. Limpieza y preparación del texto </font>\n",
    "<br>\n",
    "\n",
    "En este proyecto, el contenido (texto) asociado a cada libro se representa mediante un modelo de bolsa de palabras. Como se ha explicado a lo largo del módulo, cuando se trabaja con este tipo de representación es recomendable limpiar el texto y eliminar información irrelevante. Para ello se utilizará la librería `spacy`.  En primer lugar, se utilizará el modelo de lenguaje `en_core_web_sm`. Aunque no es el modelo con mejor rendimiento, es suficiente para este contexto, y es más eficiente que `en_core_web_trf`(basado en *transformers*, y que es el que mejor funciona)."
   ]
  },
  {
   "cell_type": "code",
   "execution_count": 17,
   "metadata": {},
   "outputs": [],
   "source": [
    "#! python -m spacy download es_dep_news_trf\n",
    "#! python -m spacy download en_core_web_sm # Solo se utilizará este\n",
    "#! python -m spacy download en_core_web_trf "
   ]
  },
  {
   "cell_type": "code",
   "execution_count": 18,
   "metadata": {},
   "outputs": [
    {
     "data": {
      "text/plain": [
       "['tok2vec', 'tagger', 'parser', 'attribute_ruler', 'lemmatizer', 'ner']"
      ]
     },
     "execution_count": 18,
     "metadata": {},
     "output_type": "execute_result"
    }
   ],
   "source": [
    "import spacy \n",
    "\n",
    "# Crea un objeto con el pipeline\n",
    "nlp = spacy.load(\"en_core_web_sm\")\n",
    "nlp.pipe_names"
   ]
  },
  {
   "cell_type": "markdown",
   "metadata": {},
   "source": [
    "<font color=\"#00586D\"> <i class=\"fa fa-pencil-square-o\" aria-hidden=\"true\" style=\"color:#00586D\"></i></font> Crear una función denominada `clean` que acepte un texto, lo convierta en un documento (`spacy`) y devuelva un *String* compuesto por los lemas correspondientes a cada token, en minúscula, y descartando los tokens que no sean alfanuméricos, o los que correspondan a *stopwords*."
   ]
  },
  {
   "cell_type": "code",
   "execution_count": 19,
   "metadata": {},
   "outputs": [
    {
     "data": {
      "text/plain": [
       "'win famous lose mean certain death nation panem form post apocalyptic north america country consist wealthy capitol region surround poor district early history rebellion lead district capitol result destruction creation annual televise event know hunger games punishment reminder power grace capitol district yield boy girl age lottery system participate game tribute choose annual reaping force fight death leave survivor claim victory year old katniss young sister prim select district female representative katniss volunteer place male counterpart peeta pit big strong representative train life see death sentence katniss close death survival second nature'"
      ]
     },
     "execution_count": 19,
     "metadata": {},
     "output_type": "execute_result"
    }
   ],
   "source": [
    "def clean(overview):\n",
    "    doc = nlp(overview)\n",
    "    cleaned_text = \" \".join([token.lemma_.lower() for token in doc if token.is_alpha and not token.is_stop])\n",
    "    return cleaned_text\n",
    "    \n",
    "overview = df_goodreads.iloc[0]['overview']\n",
    "clean(overview)"
   ]
  },
  {
   "cell_type": "markdown",
   "metadata": {},
   "source": [
    "<div><font size=3 color=#00586D> <i class=\"fa fa-check-square-o\" aria-hidden=\"true\"></i></font></div>\n",
    "\n",
    "<div class=\"alert alert-block alert-success\" markdown=1>\n",
    "\n",
    "__Comentarios__. _Correcto_\n",
    "```python\n",
    "\n",
    "```\n",
    "</div>\n"
   ]
  },
  {
   "cell_type": "markdown",
   "metadata": {},
   "source": [
    "<font color=\"#00586D\"> <i class=\"fa fa-pencil-square-o\" aria-hidden=\"true\" style=\"color:#00586D\"></i></font>Aplicar la función `clean` sobre cada texto almacenado en la columna `df_goodreads['overview']`para preprocesarlo, almacenando el resultado en la propia columna."
   ]
  },
  {
   "cell_type": "markdown",
   "metadata": {},
   "source": [
    "\n",
    "<div class=\"alert alert-block alert-warning\">\n",
    "\n",
    "<i class=\"fa fa-exclamation-circle\" aria-hidden=\"true\"></i>\n",
    "Este ejercicio tarda unos cinco minutos en ejecutarse. Se ha planteado así (sin utilizar `nlp.pipe`) porque es más sencillo, y en este caso tarda prácticamente lo mismo.\n",
    "</div>"
   ]
  },
  {
   "cell_type": "code",
   "execution_count": 20,
   "metadata": {},
   "outputs": [],
   "source": [
    "df_goodreads['overview'] = df_goodreads['overview'].apply(lambda x: clean(x))"
   ]
  },
  {
   "cell_type": "markdown",
   "metadata": {},
   "source": [
    "<div><font size=3 color=#00586D> <i class=\"fa fa-check-square-o\" aria-hidden=\"true\"></i></font></div>\n",
    "\n",
    "<div class=\"alert alert-block alert-success\" markdown=1>\n",
    "\n",
    "__Comentarios__. _Correcto_. Igual que antes. No hace falta el lambda. \n",
    "```python\n",
    "\n",
    "```\n",
    "</div>\n"
   ]
  },
  {
   "cell_type": "markdown",
   "metadata": {},
   "source": [
    "<div style=\"text-align: right\">\n",
    "<a href=\"#indice\"><font size=5><i class=\"fa fa-arrow-circle-up\" aria-hidden=\"true\" style=\"color:#004D7F\"></i></font></a>\n",
    "</div>\n",
    "\n",
    "---\n",
    "\n",
    "<a id=\"section13\"></a> \n",
    "###  <font color=\"#00586D\"> Preparación de datos </font>\n",
    "<br>\n",
    "\n",
    "Una vez incorporada la información relativa a resúmenes y etiquetas, y puesto que el texto se tratará simplemente como una bolsa de palabras, esta se fundirá, constituyendo el contenido de cada libro. \n",
    "\n",
    "\n",
    "<font color=\"#00586D\"> <i class=\"fa fa-pencil-square-o\" aria-hidden=\"true\" style=\"color:#113D68\"></i></font> \n",
    "Fundir las columnas `overview` y `text_tags` de `df_goodreads` en otra columna llamada`text`. Eliminar las columnas en las que `text` tenga longitud 0."
   ]
  },
  {
   "cell_type": "code",
   "execution_count": 21,
   "metadata": {},
   "outputs": [
    {
     "data": {
      "text/plain": [
       "(10000, 25)"
      ]
     },
     "execution_count": 21,
     "metadata": {},
     "output_type": "execute_result"
    }
   ],
   "source": [
    "df_goodreads['text'] = df_goodreads['overview'] + ' ' + df_goodreads['text_tags']\n",
    "df_goodreads = df_goodreads[df_goodreads['text'].str.len() > 0]\n",
    "\n",
    "df_goodreads.shape"
   ]
  },
  {
   "cell_type": "markdown",
   "metadata": {},
   "source": [
    "<div><font size=3 color=#00586D> <i class=\"fa fa-check-square-o\" aria-hidden=\"true\"></i></font></div>\n",
    "\n",
    "<div class=\"alert alert-block alert-success\" markdown=1>\n",
    "\n",
    "__Comentarios__. _Correcto_\n",
    "```python\n",
    "\n",
    "```\n",
    "</div>\n"
   ]
  },
  {
   "cell_type": "code",
   "execution_count": 22,
   "metadata": {},
   "outputs": [],
   "source": [
    "data_books = df_goodreads['text']"
   ]
  },
  {
   "cell_type": "markdown",
   "metadata": {},
   "source": [
    "####  <font color=\"#00586D\"> Selección de cinco libros para pruebas </font>\n",
    "\n",
    "\n",
    "A continuación, se eligen cinco libros, que serán almacenados en el `DataFrame` `df_books_test`\n",
    "\n",
    "<div class=\"alert alert-block alert-warning\">\n",
    "\n",
    "<i class=\"fa fa-exclamation-circle\" aria-hidden=\"true\"></i>\n",
    "Como no vamos a hacer predicción, no pasa nada porque los libros estén en dos sitios. \n",
    "</div>"
   ]
  },
  {
   "cell_type": "code",
   "execution_count": 23,
   "metadata": {},
   "outputs": [
    {
     "data": {
      "text/html": [
       "<div>\n",
       "<style scoped>\n",
       "    .dataframe tbody tr th:only-of-type {\n",
       "        vertical-align: middle;\n",
       "    }\n",
       "\n",
       "    .dataframe tbody tr th {\n",
       "        vertical-align: top;\n",
       "    }\n",
       "\n",
       "    .dataframe thead th {\n",
       "        text-align: right;\n",
       "    }\n",
       "</style>\n",
       "<table border=\"1\" class=\"dataframe\">\n",
       "  <thead>\n",
       "    <tr style=\"text-align: right;\">\n",
       "      <th></th>\n",
       "      <th>gr_book_id</th>\n",
       "      <th>gr_best_book_id</th>\n",
       "      <th>work_id</th>\n",
       "      <th>books_count</th>\n",
       "      <th>isbn</th>\n",
       "      <th>isbn13</th>\n",
       "      <th>authors</th>\n",
       "      <th>original_publication_year</th>\n",
       "      <th>original_title</th>\n",
       "      <th>title</th>\n",
       "      <th>...</th>\n",
       "      <th>ratings_1</th>\n",
       "      <th>ratings_2</th>\n",
       "      <th>ratings_3</th>\n",
       "      <th>ratings_4</th>\n",
       "      <th>ratings_5</th>\n",
       "      <th>image_url</th>\n",
       "      <th>small_image_url</th>\n",
       "      <th>overview</th>\n",
       "      <th>text_tags</th>\n",
       "      <th>text</th>\n",
       "    </tr>\n",
       "    <tr>\n",
       "      <th>book_id</th>\n",
       "      <th></th>\n",
       "      <th></th>\n",
       "      <th></th>\n",
       "      <th></th>\n",
       "      <th></th>\n",
       "      <th></th>\n",
       "      <th></th>\n",
       "      <th></th>\n",
       "      <th></th>\n",
       "      <th></th>\n",
       "      <th></th>\n",
       "      <th></th>\n",
       "      <th></th>\n",
       "      <th></th>\n",
       "      <th></th>\n",
       "      <th></th>\n",
       "      <th></th>\n",
       "      <th></th>\n",
       "      <th></th>\n",
       "      <th></th>\n",
       "      <th></th>\n",
       "    </tr>\n",
       "  </thead>\n",
       "  <tbody>\n",
       "    <tr>\n",
       "      <th>2</th>\n",
       "      <td>41865</td>\n",
       "      <td>41865</td>\n",
       "      <td>3212258</td>\n",
       "      <td>226</td>\n",
       "      <td>316015849</td>\n",
       "      <td>9.780316e+12</td>\n",
       "      <td>Stephenie Meyer</td>\n",
       "      <td>2005.0</td>\n",
       "      <td>Twilight</td>\n",
       "      <td>Twilight (Twilight, #1)</td>\n",
       "      <td>...</td>\n",
       "      <td>456191</td>\n",
       "      <td>436802</td>\n",
       "      <td>793319</td>\n",
       "      <td>875073</td>\n",
       "      <td>1355439</td>\n",
       "      <td>https://images.gr-assets.com/books/1361039443m...</td>\n",
       "      <td>https://images.gr-assets.com/books/1361039443s...</td>\n",
       "      <td>thing absolutely positive edward vampire secon...</td>\n",
       "      <td>fantasy young-adult fiction ya sci-fi-fantasy ...</td>\n",
       "      <td>thing absolutely positive edward vampire secon...</td>\n",
       "    </tr>\n",
       "    <tr>\n",
       "      <th>4</th>\n",
       "      <td>4671</td>\n",
       "      <td>4671</td>\n",
       "      <td>245494</td>\n",
       "      <td>1356</td>\n",
       "      <td>743273567</td>\n",
       "      <td>9.780743e+12</td>\n",
       "      <td>F. Scott Fitzgerald</td>\n",
       "      <td>1925.0</td>\n",
       "      <td>The Great Gatsby</td>\n",
       "      <td>The Great Gatsby</td>\n",
       "      <td>...</td>\n",
       "      <td>86236</td>\n",
       "      <td>197621</td>\n",
       "      <td>606158</td>\n",
       "      <td>936012</td>\n",
       "      <td>947718</td>\n",
       "      <td>https://images.gr-assets.com/books/1490528560m...</td>\n",
       "      <td>https://images.gr-assets.com/books/1490528560s...</td>\n",
       "      <td>publication great gatsby largely dismiss light...</td>\n",
       "      <td>young-adult fiction default classics 5-stars n...</td>\n",
       "      <td>publication great gatsby largely dismiss light...</td>\n",
       "    </tr>\n",
       "    <tr>\n",
       "      <th>7</th>\n",
       "      <td>5107</td>\n",
       "      <td>5107</td>\n",
       "      <td>3036731</td>\n",
       "      <td>360</td>\n",
       "      <td>316769177</td>\n",
       "      <td>9.780317e+12</td>\n",
       "      <td>J.D. Salinger</td>\n",
       "      <td>1951.0</td>\n",
       "      <td>The Catcher in the Rye</td>\n",
       "      <td>The Catcher in the Rye</td>\n",
       "      <td>...</td>\n",
       "      <td>109383</td>\n",
       "      <td>185520</td>\n",
       "      <td>455042</td>\n",
       "      <td>661516</td>\n",
       "      <td>709176</td>\n",
       "      <td>https://images.gr-assets.com/books/1398034300m...</td>\n",
       "      <td>https://images.gr-assets.com/books/1398034300s...</td>\n",
       "      <td>hero narrator catcher rye ancient child sixtee...</td>\n",
       "      <td>young-adult fiction ya default classics novels...</td>\n",
       "      <td>hero narrator catcher rye ancient child sixtee...</td>\n",
       "    </tr>\n",
       "    <tr>\n",
       "      <th>9</th>\n",
       "      <td>1885</td>\n",
       "      <td>1885</td>\n",
       "      <td>3060926</td>\n",
       "      <td>3455</td>\n",
       "      <td>679783261</td>\n",
       "      <td>9.780680e+12</td>\n",
       "      <td>Jane Austen</td>\n",
       "      <td>1813.0</td>\n",
       "      <td>Pride and Prejudice</td>\n",
       "      <td>Pride and Prejudice</td>\n",
       "      <td>...</td>\n",
       "      <td>54700</td>\n",
       "      <td>86485</td>\n",
       "      <td>284852</td>\n",
       "      <td>609755</td>\n",
       "      <td>1155673</td>\n",
       "      <td>https://images.gr-assets.com/books/1320399351m...</td>\n",
       "      <td>https://images.gr-assets.com/books/1320399351s...</td>\n",
       "      <td>truth universally acknowledge single man posse...</td>\n",
       "      <td>young-adult fiction default classics 5-stars n...</td>\n",
       "      <td>truth universally acknowledge single man posse...</td>\n",
       "    </tr>\n",
       "    <tr>\n",
       "      <th>12</th>\n",
       "      <td>5470</td>\n",
       "      <td>5470</td>\n",
       "      <td>153313</td>\n",
       "      <td>995</td>\n",
       "      <td>451524934</td>\n",
       "      <td>9.780452e+12</td>\n",
       "      <td>George Orwell, Erich Fromm, Celâl Üster</td>\n",
       "      <td>1949.0</td>\n",
       "      <td>Nineteen Eighty-Four</td>\n",
       "      <td>1984</td>\n",
       "      <td>...</td>\n",
       "      <td>41845</td>\n",
       "      <td>86425</td>\n",
       "      <td>324874</td>\n",
       "      <td>692021</td>\n",
       "      <td>908229</td>\n",
       "      <td>https://images.gr-assets.com/books/1348990566m...</td>\n",
       "      <td>https://images.gr-assets.com/books/1348990566s...</td>\n",
       "      <td>seminal text century nineteen eighty rare work...</td>\n",
       "      <td>fantasy young-adult fiction sci-fi-fantasy def...</td>\n",
       "      <td>seminal text century nineteen eighty rare work...</td>\n",
       "    </tr>\n",
       "  </tbody>\n",
       "</table>\n",
       "<p>5 rows × 25 columns</p>\n",
       "</div>"
      ],
      "text/plain": [
       "         gr_book_id  gr_best_book_id  work_id  books_count       isbn  \\\n",
       "book_id                                                                 \n",
       "2             41865            41865  3212258          226  316015849   \n",
       "4              4671             4671   245494         1356  743273567   \n",
       "7              5107             5107  3036731          360  316769177   \n",
       "9              1885             1885  3060926         3455  679783261   \n",
       "12             5470             5470   153313          995  451524934   \n",
       "\n",
       "               isbn13                                  authors  \\\n",
       "book_id                                                          \n",
       "2        9.780316e+12                          Stephenie Meyer   \n",
       "4        9.780743e+12                      F. Scott Fitzgerald   \n",
       "7        9.780317e+12                            J.D. Salinger   \n",
       "9        9.780680e+12                              Jane Austen   \n",
       "12       9.780452e+12  George Orwell, Erich Fromm, Celâl Üster   \n",
       "\n",
       "         original_publication_year          original_title  \\\n",
       "book_id                                                      \n",
       "2                           2005.0                Twilight   \n",
       "4                           1925.0        The Great Gatsby   \n",
       "7                           1951.0  The Catcher in the Rye   \n",
       "9                           1813.0     Pride and Prejudice   \n",
       "12                          1949.0    Nineteen Eighty-Four   \n",
       "\n",
       "                           title  ... ratings_1  ratings_2  ratings_3  \\\n",
       "book_id                           ...                                   \n",
       "2        Twilight (Twilight, #1)  ...    456191     436802     793319   \n",
       "4               The Great Gatsby  ...     86236     197621     606158   \n",
       "7         The Catcher in the Rye  ...    109383     185520     455042   \n",
       "9            Pride and Prejudice  ...     54700      86485     284852   \n",
       "12                          1984  ...     41845      86425     324874   \n",
       "\n",
       "         ratings_4  ratings_5  \\\n",
       "book_id                         \n",
       "2           875073    1355439   \n",
       "4           936012     947718   \n",
       "7           661516     709176   \n",
       "9           609755    1155673   \n",
       "12          692021     908229   \n",
       "\n",
       "                                                 image_url  \\\n",
       "book_id                                                      \n",
       "2        https://images.gr-assets.com/books/1361039443m...   \n",
       "4        https://images.gr-assets.com/books/1490528560m...   \n",
       "7        https://images.gr-assets.com/books/1398034300m...   \n",
       "9        https://images.gr-assets.com/books/1320399351m...   \n",
       "12       https://images.gr-assets.com/books/1348990566m...   \n",
       "\n",
       "                                           small_image_url  \\\n",
       "book_id                                                      \n",
       "2        https://images.gr-assets.com/books/1361039443s...   \n",
       "4        https://images.gr-assets.com/books/1490528560s...   \n",
       "7        https://images.gr-assets.com/books/1398034300s...   \n",
       "9        https://images.gr-assets.com/books/1320399351s...   \n",
       "12       https://images.gr-assets.com/books/1348990566s...   \n",
       "\n",
       "                                                  overview  \\\n",
       "book_id                                                      \n",
       "2        thing absolutely positive edward vampire secon...   \n",
       "4        publication great gatsby largely dismiss light...   \n",
       "7        hero narrator catcher rye ancient child sixtee...   \n",
       "9        truth universally acknowledge single man posse...   \n",
       "12       seminal text century nineteen eighty rare work...   \n",
       "\n",
       "                                                 text_tags  \\\n",
       "book_id                                                      \n",
       "2        fantasy young-adult fiction ya sci-fi-fantasy ...   \n",
       "4        young-adult fiction default classics 5-stars n...   \n",
       "7        young-adult fiction ya default classics novels...   \n",
       "9        young-adult fiction default classics 5-stars n...   \n",
       "12       fantasy young-adult fiction sci-fi-fantasy def...   \n",
       "\n",
       "                                                      text  \n",
       "book_id                                                     \n",
       "2        thing absolutely positive edward vampire secon...  \n",
       "4        publication great gatsby largely dismiss light...  \n",
       "7        hero narrator catcher rye ancient child sixtee...  \n",
       "9        truth universally acknowledge single man posse...  \n",
       "12       seminal text century nineteen eighty rare work...  \n",
       "\n",
       "[5 rows x 25 columns]"
      ]
     },
     "execution_count": 23,
     "metadata": {},
     "output_type": "execute_result"
    }
   ],
   "source": [
    "test_pos = np.array([2,4,7,9,12]) # Sugerencia. Podéis cambiarlos. \n",
    "\n",
    "df_books_test = df_goodreads.iloc[test_pos].copy()\n",
    "df_books_test"
   ]
  },
  {
   "cell_type": "markdown",
   "metadata": {},
   "source": [
    "<div style=\"text-align: right\">\n",
    "<a href=\"#indice\"><font size=5><i class=\"fa fa-arrow-circle-up\" aria-hidden=\"true\" style=\"color:#00586D\"></i></font></a>\n",
    "</div>\n",
    "\n",
    "\n",
    "---\n",
    "\n",
    "<a id=\"section3\"></a> \n",
    "## <font color=\"#00586D\"> 3. Búsqueda por similaridad de la representación tf-idf </font>\n",
    "<br>\n",
    "\n",
    "La información _tf-idf_ es muy útil de cara a clasificar y comparar documentos. Cada texto se representa  mediante un vector de valores _tf-idf_, y la búsqueda de documentos se apoya en una medida de similaridad, la _similaridad coseno_, para esta representación.\n",
    "\n",
    "<font color=\"#00586D\"> <i class=\"fa fa-pencil-square-o\" aria-hidden=\"true\" style=\"color:#113D68\"></i></font> Crear un objeto `TfidfVectorizer` de `sklearn`, denominado `tfidf_vect`, que represente un máximo de 20000 términos. Obtener la matriz _tf-idf_ de los datos almacenados en `data_books` y almacenarla en una variable denominada `data_books_tfidf`. Extraer los términos considerados en `tfidf_vect`, y almacenarlos en la variable `terms`."
   ]
  },
  {
   "cell_type": "code",
   "execution_count": 24,
   "metadata": {},
   "outputs": [],
   "source": [
    "from sklearn.feature_extraction.text import TfidfVectorizer\n",
    "\n",
    "tfidf_vect = TfidfVectorizer(max_features=20000)\n",
    "\n",
    "data_books_tfidf = tfidf_vect.fit_transform(data_books)\n",
    "\n",
    "terms = tfidf_vect.vocabulary_"
   ]
  },
  {
   "cell_type": "markdown",
   "metadata": {},
   "source": [
    "<div><font size=3 color=#00586D> <i class=\"fa fa-check-square-o\" aria-hidden=\"true\"></i></font></div>\n",
    "\n",
    "<div class=\"alert alert-block alert-success\" markdown=1>\n",
    "\n",
    "__Comentarios__. _Correcto_. Es mejor hacer la última parte así:\n",
    "```python\n",
    "terms = tfidf_vect.get_feature_names_out()\n",
    "```\n",
    "</div>\n"
   ]
  },
  {
   "cell_type": "markdown",
   "metadata": {},
   "source": [
    "#### <font color=\"#00586D\"> Búsqueda del libro más similar </font>\n",
    "\n",
    "Se tomará un libro incluído en el conjunto de datos `df_books_test`. Por ejemplo, el primero."
   ]
  },
  {
   "cell_type": "code",
   "execution_count": 25,
   "metadata": {
    "scrolled": true
   },
   "outputs": [
    {
     "name": "stdout",
     "output_type": "stream",
     "text": [
      "gr_book_id                                                               41865\n",
      "gr_best_book_id                                                          41865\n",
      "work_id                                                                3212258\n",
      "books_count                                                                226\n",
      "isbn                                                                 316015849\n",
      "isbn13                                                         9780316015840.0\n",
      "authors                                                        Stephenie Meyer\n",
      "original_publication_year                                               2005.0\n",
      "original_title                                                        Twilight\n",
      "title                                                  Twilight (Twilight, #1)\n",
      "language_code                                                            en-US\n",
      "average_rating                                                            3.57\n",
      "ratings_count                                                          3866839\n",
      "work_ratings_count                                                     3916824\n",
      "work_text_reviews_count                                                  95009\n",
      "ratings_1                                                               456191\n",
      "ratings_2                                                               436802\n",
      "ratings_3                                                               793319\n",
      "ratings_4                                                               875073\n",
      "ratings_5                                                              1355439\n",
      "image_url                    https://images.gr-assets.com/books/1361039443m...\n",
      "small_image_url              https://images.gr-assets.com/books/1361039443s...\n",
      "overview                     thing absolutely positive edward vampire secon...\n",
      "text_tags                    fantasy young-adult fiction ya sci-fi-fantasy ...\n",
      "text                         thing absolutely positive edward vampire secon...\n",
      "Name: 2, dtype: object\n"
     ]
    },
    {
     "data": {
      "text/plain": [
       "'thing absolutely positive edward vampire second know dominant thirst blood unconditionally irrevocably love book twilight saga internationally bestselle author stephenie meyer introduce bella swan edward cullen pair star cross lover forbidden relationship ripen backdrop small town suspicion mysterious coven vampire love story bite fantasy young-adult fiction ya sci-fi-fantasy default 5-stars novels fantasy-sci-fi paranormal ya-fantasy teen english urban-fantasy supernatural ya-fiction young-adult-fiction scifi-fantasy faves contemporary on-my-shelf have movie finished sci-fi ya-lit werewolves séries love science-fiction finished-series youngadult abandoned did-not-finish dnf american movies drama high-school romantic horror chick-lit first-in-series teen-fiction meh young-adults guilty-pleasures guilty-pleasure paranormal-romance ya-paranormal ya-romance vampires vampire completed-series never-again vamps paranormal-fantasy fantasy-paranormal pnr love-triangle'"
      ]
     },
     "execution_count": 25,
     "metadata": {},
     "output_type": "execute_result"
    }
   ],
   "source": [
    "print(df_books_test.iloc[0])\n",
    "text_query = df_books_test.iloc[0].text\n",
    "text_query"
   ]
  },
  {
   "cell_type": "markdown",
   "metadata": {},
   "source": [
    "Para poder buscar otro libro por similaridad, es necesario transformar el texto de consulta a la representación _tf-idf_. Previamente, ha de ser preprocesado (limpiado con la función `clean`).\n",
    "\n",
    "<font color=\"#00586D\"> <i class=\"fa fa-pencil-square-o\" aria-hidden=\"true\" style=\"color:#00586D\"></i></font> Transformar el documento `text_query` a formato _tf-idf_ y almacenar el resultado en `text_query_tfidf`.\n",
    "\n",
    "<div class=\"alert alert-block alert-warning\">\n",
    "    \n",
    "<i class=\"fa fa-exclamation-circle\" aria-hidden=\"true\"></i>\n",
    "Esta sería la manera de proceder con libros nuevos. No obstante, en este caso concreto, ___como el libro ya estaba en el corpus y se ha obtenido su representación___, se podría obtener el vector directamente desde `data_books_tfidf`.\n",
    "\n",
    "</div>"
   ]
  },
  {
   "cell_type": "code",
   "execution_count": 26,
   "metadata": {},
   "outputs": [],
   "source": [
    "text_query_tfidf = tfidf_vect.transform([clean(text_query)])"
   ]
  },
  {
   "cell_type": "markdown",
   "metadata": {},
   "source": [
    "<div><font size=3 color=#00586D> <i class=\"fa fa-check-square-o\" aria-hidden=\"true\"></i></font></div>\n",
    "\n",
    "<div class=\"alert alert-block alert-success\" markdown=1>\n",
    "\n",
    "__Comentarios__. _Correcto_\n",
    "```python\n",
    "\n",
    "```\n",
    "</div>\n"
   ]
  },
  {
   "cell_type": "markdown",
   "metadata": {},
   "source": [
    "<font color=\"#00586D\"> <i class=\"fa fa-pencil-square-o\" aria-hidden=\"true\" style=\"color:#00586D\"></i></font> Mostrar los 10 términos más relevantes (con mayor valor _tf-idf_) para el documento `text_query`."
   ]
  },
  {
   "cell_type": "code",
   "execution_count": 27,
   "metadata": {},
   "outputs": [
    {
     "name": "stdout",
     "output_type": "stream",
     "text": [
      "['untethered' 'pagford' 'ichijo' 'implode' 'homage' 'omnipresent' 'aysel'\n",
      " 'embezzle' 'laughable' 'whomever']\n"
     ]
    }
   ],
   "source": [
    "top_indices = text_query_tfidf.toarray().argsort()[0][-10:][::-1]\n",
    "\n",
    "top_terms = np.array(list(terms.keys()))[top_indices]\n",
    "\n",
    "print(top_terms)"
   ]
  },
  {
   "cell_type": "markdown",
   "metadata": {},
   "source": [
    "<div><font size=3 color=#00586D> <i class=\"fa fa-check-square-o\" aria-hidden=\"true\"></i></font></div>\n",
    "\n",
    "<div class=\"alert alert-block alert-success\" markdown=1>\n",
    "\n",
    "__Comentarios__. Este está mal. Sería así, siempre y cuando hayas obtenido bien el vocabulario. \n",
    "```python\n",
    "\" \".join([terms[id_term] for id_term in text_query_tfidf.toarray()[0].argsort()[:-11:-1]])\n",
    "```\n",
    "</div>\n"
   ]
  },
  {
   "cell_type": "markdown",
   "metadata": {},
   "source": [
    "<font color=\"#00586D\"> <i class=\"fa fa-pencil-square-o\" aria-hidden=\"true\" style=\"color:#00586D\"></i></font> Calcular las similaridades (similaridad coseno) del documento `text_query_tfidf` con el resto de documentos en la matriz `data_books_tfidf`, y almacenarlas en un vector denominado `similarities_tfidf`.\n",
    "\n",
    "<div class=\"alert alert-block alert-warning\">\n",
    "    \n",
    "<i class=\"fa fa-exclamation-circle\" aria-hidden=\"true\"></i>\n",
    "La función `cosine_similarity` toma como argumentos dos matrices y devuelve una matriz (aunque sea unidimensional). Para obtener un vector unidemensional, y operar posteriormente con más agilidad, `similarities_tfidf` ha de almacenar el elemento cero de la matriz devuelta por la función, o transformar esta matriz en un vector. \n",
    "</div>"
   ]
  },
  {
   "cell_type": "code",
   "execution_count": 28,
   "metadata": {},
   "outputs": [],
   "source": [
    "from sklearn.metrics.pairwise import  cosine_similarity\n",
    "\n",
    "similarities_tfidf = cosine_similarity(text_query_tfidf, data_books_tfidf)[0]"
   ]
  },
  {
   "cell_type": "markdown",
   "metadata": {},
   "source": [
    "<font color=\"#00586D\"> <i class=\"fa fa-pencil-square-o\" aria-hidden=\"true\" style=\"color:#00586D\"></i></font> Obtener los índices de los 6 libros más similares a `text_query` (obviamente, el más similar será el propio libro).\n",
    "\n"
   ]
  },
  {
   "cell_type": "code",
   "execution_count": 29,
   "metadata": {},
   "outputs": [
    {
     "data": {
      "text/plain": [
       "book_id\n",
       "2                                 Twilight (Twilight, #1)\n",
       "48                                New Moon (Twilight, #2)\n",
       "51                                 Eclipse (Twilight, #3)\n",
       "4820    Jessica's Guide to Dating on the Dark Side (Je...\n",
       "991                    The Twilight Saga (Twilight, #1-4)\n",
       "1539                         Masquerade (Blue Bloods, #2)\n",
       "Name: title, dtype: object"
      ]
     },
     "execution_count": 29,
     "metadata": {},
     "output_type": "execute_result"
    }
   ],
   "source": [
    "top_similarities = similarities_tfidf.argsort()[:-7:-1]\n",
    "\n",
    "df_goodreads.iloc[top_similarities]['title']"
   ]
  },
  {
   "cell_type": "markdown",
   "metadata": {},
   "source": [
    "<div><font size=3 color=#00586D> <i class=\"fa fa-check-square-o\" aria-hidden=\"true\"></i></font></div>\n",
    "\n",
    "<div class=\"alert alert-block alert-success\" markdown=1>\n",
    "\n",
    "__Comentarios__. _Correcto_\n",
    "```python\n",
    "\n",
    "```\n",
    "</div>\n"
   ]
  },
  {
   "cell_type": "markdown",
   "metadata": {},
   "source": [
    "Se aprecia que, efectivamente, los libros son muy similares. De hecho, todos corresponden a la saga. Esto puede deberse al uso de palabras clave muy concretas como _\"Twilight\"_."
   ]
  },
  {
   "cell_type": "markdown",
   "metadata": {},
   "source": [
    "<div style=\"text-align: right\">\n",
    "<a href=\"#indice\"><font size=5><i class=\"fa fa-arrow-circle-up\" aria-hidden=\"true\" style=\"color:#00586D\"></i></font></a>\n",
    "</div>\n",
    "\n",
    "\n",
    "---\n",
    "\n",
    "<a id=\"section4\"></a> \n",
    "## <font color=\"#00586D\"> 4. Recomendación basada en contenido </font>\n",
    "<br>\n",
    "\n",
    "Existen muchas posibilidades en la implementación de sistemas de recomendación basados en contenido. En general, todas requieren:\n",
    "\n",
    "* Determinar qué ítems prefiere el usuario\n",
    "* Encontrar ítems similares\n",
    "* Priorizar esos ítems\n",
    "\n",
    "\n",
    "Para ilustrar el funcionamiento de este tipo de sistemas, se tomarán los datos relativos a la actividad de un usuario escogido al azar, y se devolverá un conjunto de libros recomendados. \n",
    "\n",
    "\n",
    "El archivo `'./data/ratings.csv` contiene las valoraciones hechas por más de 53000 usuarios a los 10000 libros. En total, contiene cerca de un millón de entradas en formato (`user_id`, `book_id`, `rating`). El tamaño de la base de datos dificulta el trabajo con una matriz, aunque sea dispersa, ya que el proceso de elaboración (mediante `pivot` es muy lento). "
   ]
  },
  {
   "cell_type": "code",
   "execution_count": 30,
   "metadata": {},
   "outputs": [
    {
     "data": {
      "text/html": [
       "<div>\n",
       "<style scoped>\n",
       "    .dataframe tbody tr th:only-of-type {\n",
       "        vertical-align: middle;\n",
       "    }\n",
       "\n",
       "    .dataframe tbody tr th {\n",
       "        vertical-align: top;\n",
       "    }\n",
       "\n",
       "    .dataframe thead th {\n",
       "        text-align: right;\n",
       "    }\n",
       "</style>\n",
       "<table border=\"1\" class=\"dataframe\">\n",
       "  <thead>\n",
       "    <tr style=\"text-align: right;\">\n",
       "      <th></th>\n",
       "      <th>user_id</th>\n",
       "      <th>book_id</th>\n",
       "      <th>rating</th>\n",
       "    </tr>\n",
       "  </thead>\n",
       "  <tbody>\n",
       "    <tr>\n",
       "      <th>0</th>\n",
       "      <td>313</td>\n",
       "      <td>0</td>\n",
       "      <td>5</td>\n",
       "    </tr>\n",
       "    <tr>\n",
       "      <th>1</th>\n",
       "      <td>438</td>\n",
       "      <td>0</td>\n",
       "      <td>3</td>\n",
       "    </tr>\n",
       "    <tr>\n",
       "      <th>2</th>\n",
       "      <td>587</td>\n",
       "      <td>0</td>\n",
       "      <td>5</td>\n",
       "    </tr>\n",
       "    <tr>\n",
       "      <th>3</th>\n",
       "      <td>1168</td>\n",
       "      <td>0</td>\n",
       "      <td>4</td>\n",
       "    </tr>\n",
       "    <tr>\n",
       "      <th>4</th>\n",
       "      <td>1184</td>\n",
       "      <td>0</td>\n",
       "      <td>4</td>\n",
       "    </tr>\n",
       "  </tbody>\n",
       "</table>\n",
       "</div>"
      ],
      "text/plain": [
       "   user_id  book_id  rating\n",
       "0      313        0       5\n",
       "1      438        0       3\n",
       "2      587        0       5\n",
       "3     1168        0       4\n",
       "4     1184        0       4"
      ]
     },
     "metadata": {},
     "output_type": "display_data"
    },
    {
     "data": {
      "text/plain": [
       "(981756, 3)"
      ]
     },
     "execution_count": 30,
     "metadata": {},
     "output_type": "execute_result"
    }
   ],
   "source": [
    "df_ratings = pd.read_csv('./data/ratings.csv', sep=',')\n",
    "\n",
    "display(df_ratings.head())\n",
    "df_ratings.shape"
   ]
  },
  {
   "cell_type": "markdown",
   "metadata": {},
   "source": [
    "<div style=\"text-align: right\">\n",
    "<a href=\"#indice\"><font size=5><i class=\"fa fa-arrow-circle-up\" aria-hidden=\"true\" style=\"color:#004D7F\"></i></font></a>\n",
    "</div>\n",
    "\n",
    "\n",
    "---\n",
    "\n",
    "<a id=\"section41\"></a> \n",
    "### <font color=\"#00586D\"> Selección de libros preferidos por el usuario </font>\n",
    "<br>\n",
    "\n",
    "El primer paso de la recomendación consiste en determinar qué libros prefiere el usuario.  Una posibilidad consiste en seleccionar aquellos para los que éste ha otorgado una puntuación mayor que tres. \n",
    "\n",
    "<font color=\"#00586D\"> <i class=\"fa fa-pencil-square-o\" aria-hidden=\"true\" style=\"color:#00586D\"></i></font> Tomar un usuario al azar y devolver las entradas correspondientes a los libros que ha votado. Almacenarlas en el `DataFrame` `ratings_user`. Descartar de `ratings_user` todos los libros con puntuación menor que cuatro. "
   ]
  },
  {
   "cell_type": "code",
   "execution_count": 31,
   "metadata": {},
   "outputs": [
    {
     "data": {
      "text/html": [
       "<div>\n",
       "<style scoped>\n",
       "    .dataframe tbody tr th:only-of-type {\n",
       "        vertical-align: middle;\n",
       "    }\n",
       "\n",
       "    .dataframe tbody tr th {\n",
       "        vertical-align: top;\n",
       "    }\n",
       "\n",
       "    .dataframe thead th {\n",
       "        text-align: right;\n",
       "    }\n",
       "</style>\n",
       "<table border=\"1\" class=\"dataframe\">\n",
       "  <thead>\n",
       "    <tr style=\"text-align: right;\">\n",
       "      <th></th>\n",
       "      <th>user_id</th>\n",
       "      <th>book_id</th>\n",
       "      <th>rating</th>\n",
       "    </tr>\n",
       "  </thead>\n",
       "  <tbody>\n",
       "    <tr>\n",
       "      <th>53101</th>\n",
       "      <td>2732</td>\n",
       "      <td>531</td>\n",
       "      <td>5</td>\n",
       "    </tr>\n",
       "    <tr>\n",
       "      <th>209776</th>\n",
       "      <td>2732</td>\n",
       "      <td>2099</td>\n",
       "      <td>5</td>\n",
       "    </tr>\n",
       "    <tr>\n",
       "      <th>214080</th>\n",
       "      <td>2732</td>\n",
       "      <td>2142</td>\n",
       "      <td>5</td>\n",
       "    </tr>\n",
       "    <tr>\n",
       "      <th>242344</th>\n",
       "      <td>2732</td>\n",
       "      <td>2425</td>\n",
       "      <td>4</td>\n",
       "    </tr>\n",
       "    <tr>\n",
       "      <th>369792</th>\n",
       "      <td>2732</td>\n",
       "      <td>3702</td>\n",
       "      <td>4</td>\n",
       "    </tr>\n",
       "    <tr>\n",
       "      <th>401262</th>\n",
       "      <td>2732</td>\n",
       "      <td>4018</td>\n",
       "      <td>4</td>\n",
       "    </tr>\n",
       "    <tr>\n",
       "      <th>425738</th>\n",
       "      <td>2732</td>\n",
       "      <td>4264</td>\n",
       "      <td>5</td>\n",
       "    </tr>\n",
       "    <tr>\n",
       "      <th>476351</th>\n",
       "      <td>2732</td>\n",
       "      <td>4773</td>\n",
       "      <td>4</td>\n",
       "    </tr>\n",
       "    <tr>\n",
       "      <th>524632</th>\n",
       "      <td>2732</td>\n",
       "      <td>5262</td>\n",
       "      <td>5</td>\n",
       "    </tr>\n",
       "    <tr>\n",
       "      <th>543609</th>\n",
       "      <td>2732</td>\n",
       "      <td>5454</td>\n",
       "      <td>4</td>\n",
       "    </tr>\n",
       "    <tr>\n",
       "      <th>602404</th>\n",
       "      <td>2732</td>\n",
       "      <td>6048</td>\n",
       "      <td>5</td>\n",
       "    </tr>\n",
       "    <tr>\n",
       "      <th>627124</th>\n",
       "      <td>2732</td>\n",
       "      <td>6298</td>\n",
       "      <td>4</td>\n",
       "    </tr>\n",
       "    <tr>\n",
       "      <th>629500</th>\n",
       "      <td>2732</td>\n",
       "      <td>6322</td>\n",
       "      <td>5</td>\n",
       "    </tr>\n",
       "    <tr>\n",
       "      <th>755541</th>\n",
       "      <td>2732</td>\n",
       "      <td>7610</td>\n",
       "      <td>5</td>\n",
       "    </tr>\n",
       "  </tbody>\n",
       "</table>\n",
       "</div>"
      ],
      "text/plain": [
       "        user_id  book_id  rating\n",
       "53101      2732      531       5\n",
       "209776     2732     2099       5\n",
       "214080     2732     2142       5\n",
       "242344     2732     2425       4\n",
       "369792     2732     3702       4\n",
       "401262     2732     4018       4\n",
       "425738     2732     4264       5\n",
       "476351     2732     4773       4\n",
       "524632     2732     5262       5\n",
       "543609     2732     5454       4\n",
       "602404     2732     6048       5\n",
       "627124     2732     6298       4\n",
       "629500     2732     6322       5\n",
       "755541     2732     7610       5"
      ]
     },
     "execution_count": 31,
     "metadata": {},
     "output_type": "execute_result"
    }
   ],
   "source": [
    "np.random.seed(0)\n",
    "test_user = np.random.randint(max(df_ratings['user_id']))\n",
    "\n",
    "ratings_user = df_ratings[(df_ratings['user_id']==test_user) & (df_ratings['rating'] >= 4)]\n",
    "ratings_user"
   ]
  },
  {
   "cell_type": "markdown",
   "metadata": {},
   "source": [
    "<div><font size=3 color=#00586D> <i class=\"fa fa-check-square-o\" aria-hidden=\"true\"></i></font></div>\n",
    "\n",
    "<div class=\"alert alert-block alert-success\" markdown=1>\n",
    "\n",
    "__Comentarios__. _Correcto_\n",
    "```python\n",
    "\n",
    "```\n",
    "</div>\n"
   ]
  },
  {
   "cell_type": "markdown",
   "metadata": {},
   "source": [
    "<div style=\"text-align: right\">\n",
    "<a href=\"#indice\"><font size=5><i class=\"fa fa-arrow-circle-up\" aria-hidden=\"true\" style=\"color:#00586D\"></i></font></a>\n",
    "</div>\n",
    "\n",
    "\n",
    "---\n",
    "\n",
    "<a id=\"section42\"></a> \n",
    "### <font color=\"#00586D\"> Búsqueda de libros similares </font>\n",
    "<br>\n",
    "\n",
    "Una vez se dispone de la lista de libros, es necesario encontrar libros similares. \n",
    "\n",
    "<font color=\"#00586D\"> <i class=\"fa fa-pencil-square-o\" aria-hidden=\"true\" style=\"color:#00586D\"></i> </font>Extraer la representación de los libros relativos al usuario y copiarla en una matriz denominada `user_books_tfidf`. "
   ]
  },
  {
   "cell_type": "code",
   "execution_count": 32,
   "metadata": {},
   "outputs": [
    {
     "data": {
      "text/plain": [
       "(14, 20000)"
      ]
     },
     "execution_count": 32,
     "metadata": {},
     "output_type": "execute_result"
    }
   ],
   "source": [
    "books_user_id = ratings_user['book_id'].to_list()\n",
    "\n",
    "user_books_tfidf = data_books_tfidf.toarray()[books_user_id]\n",
    "\n",
    "user_books_tfidf.shape"
   ]
  },
  {
   "cell_type": "markdown",
   "metadata": {},
   "source": [
    "<div><font size=3 color=#00586D> <i class=\"fa fa-check-square-o\" aria-hidden=\"true\"></i></font></div>\n",
    "\n",
    "<div class=\"alert alert-block alert-success\" markdown=1>\n",
    "\n",
    "__Comentarios__. _Correcto_\n",
    "```python\n",
    "\n",
    "```\n",
    "</div>\n"
   ]
  },
  {
   "cell_type": "markdown",
   "metadata": {},
   "source": [
    "<font color=\"#00586D\"> <i class=\"fa fa-pencil-square-o\" aria-hidden=\"true\" style=\"color:#00586D\"></i> </font> Calcular la matriz de similaridades coseno entre `user_books_tfidf`, `data_books_tfidf`. Fijar las similaridades de los libros leídos con el usuario  (`books_user_id `) consigo mismos a -1 con el fin de descartarlos. "
   ]
  },
  {
   "cell_type": "code",
   "execution_count": 33,
   "metadata": {},
   "outputs": [
    {
     "data": {
      "text/plain": [
       "(14, 10000)"
      ]
     },
     "execution_count": 33,
     "metadata": {},
     "output_type": "execute_result"
    }
   ],
   "source": [
    "similarities_user = cosine_similarity(user_books_tfidf, data_books_tfidf)\n",
    "similarities_user[:,books_user_id]=-1\n",
    "\n",
    "similarities_user.shape"
   ]
  },
  {
   "cell_type": "markdown",
   "metadata": {},
   "source": [
    "<div><font size=3 color=#00586D> <i class=\"fa fa-check-square-o\" aria-hidden=\"true\"></i></font></div>\n",
    "\n",
    "<div class=\"alert alert-block alert-success\" markdown=1>\n",
    "\n",
    "__Comentarios__. _Correcto_\n",
    "```python\n",
    "\n",
    "```\n",
    "</div>\n"
   ]
  },
  {
   "cell_type": "markdown",
   "metadata": {},
   "source": [
    "<font color=\"#00586D\"> <i class=\"fa fa-pencil-square-o\" aria-hidden=\"true\" style=\"color:#00586D\"></i> </font> Obtener los 3 libros más similares _a cada uno_ de los leídos por el usuario y almacenarlos en la matriz `similar_books`.\n",
    "\n",
    "<div class=\"alert alert-block alert-info\">\n",
    "    \n",
    "<i class=\"fa fa-info-circle\" aria-hidden=\"true\"></i> La función `similarities_user.argsort(axis=1)` devuelve los índices ordenados (ascendentemente) para cada fila del array. Se trata de coger las 3 últimas columnas de `similarities_user`. \n",
    "    \n",
    "Por otra parte, el resultado de este ejercicio ha de ser un array ***unidimensional*** sin elementos repetidos.\n",
    "</div>"
   ]
  },
  {
   "cell_type": "code",
   "execution_count": 34,
   "metadata": {},
   "outputs": [
    {
     "name": "stdout",
     "output_type": "stream",
     "text": [
      "[  77  156  175  304  641  865 1074 1311 1487 1761 1882 2109 2474 2513\n",
      " 3027 3292 3565 3848 3885 4172 5057 6190 6335 6444 6706 6715 6889 7087\n",
      " 7454 8249 8419 8624 9600 9697 9771 9778] (36 libros distintos.)\n"
     ]
    }
   ],
   "source": [
    "similar_books = np.unique(similarities_user.argsort(axis=1)[:,-3:])\n",
    "\n",
    "print(similar_books, \"(\"+str(len(similar_books))+\" libros distintos.)\")"
   ]
  },
  {
   "cell_type": "markdown",
   "metadata": {},
   "source": [
    "<div><font size=3 color=#00586D> <i class=\"fa fa-check-square-o\" aria-hidden=\"true\"></i></font></div>\n",
    "\n",
    "<div class=\"alert alert-block alert-success\" markdown=1>\n",
    "\n",
    "__Comentarios__. _Correcto_\n",
    "```python\n",
    "\n",
    "```\n",
    "</div>\n"
   ]
  },
  {
   "cell_type": "markdown",
   "metadata": {},
   "source": [
    "<div style=\"text-align: right\">\n",
    "<a href=\"#indice\"><font size=5><i class=\"fa fa-arrow-circle-up\" aria-hidden=\"true\" style=\"color:#00586D\"></i></font></a>\n",
    "</div>\n",
    "\n",
    "\n",
    "---\n",
    "\n",
    "<a id=\"section43\"></a> \n",
    "### <font color=\"#00586D\"> Priorización de resultados y recomendación</font>\n",
    "\n",
    "Llegados a este punto, se han obtenido los libros más similares a los leídos y valorados positivamente por el usuario. Una posibilidad a la hora de priorizar los resultados consistiría en dar más peso a aquellos libros similares que han aparecido más veces en la matriz `similar_books`. \n",
    "\n",
    "También es posible utilizar la información del `DataFrame` `df_goodreads` para priorizar los libros. En concreto, la columna `average_rating` contiene la valoración media de cada libro en la plataforma, y puede ser utilizada para priorizar. \n",
    "\n",
    "<font color=\"#00586D\"> <i class=\"fa fa-pencil-square-o\" aria-hidden=\"true\" style=\"color:#00586D\"></i> </font> Obtener los 10 libros con mayor `average_rating` de entre los más similares a los valorados positivamente por el usuario (`similar_books`). Almacenar sus índices en un array denominado `rec_books_user_id`."
   ]
  },
  {
   "cell_type": "code",
   "execution_count": 35,
   "metadata": {},
   "outputs": [
    {
     "data": {
      "text/plain": [
       "array([6444,  156, 1882, 6889, 2109,  641,  175, 9697, 7454, 9600],\n",
       "      dtype=int64)"
      ]
     },
     "execution_count": 35,
     "metadata": {},
     "output_type": "execute_result"
    }
   ],
   "source": [
    "rec_books_user_id = (df_goodreads\n",
    "                     .loc[similar_books\n",
    "                          .tolist()]\n",
    "                     .sort_values(by='average_rating',\n",
    "                                  ascending=False)\n",
    "                     .head(10)\n",
    "                     .index.values)\n",
    "rec_books_user_id"
   ]
  },
  {
   "cell_type": "markdown",
   "metadata": {},
   "source": [
    "<div><font size=3 color=#00586D> <i class=\"fa fa-check-square-o\" aria-hidden=\"true\"></i></font></div>\n",
    "\n",
    "<div class=\"alert alert-block alert-success\" markdown=1>\n",
    "\n",
    "__Comentarios__. _Correcto_\n",
    "```python\n",
    "\n",
    "```\n",
    "</div>\n"
   ]
  },
  {
   "cell_type": "markdown",
   "metadata": {},
   "source": [
    "Por último, se imprimen los nombres de los libros preferidos por el usuario, cuyos índices están almacenados en `books_user_id`, y la recomendación, cuyos índices están almacenados en `rec_books_user_id`."
   ]
  },
  {
   "cell_type": "code",
   "execution_count": 36,
   "metadata": {},
   "outputs": [
    {
     "name": "stdout",
     "output_type": "stream",
     "text": [
      "Libros preferidos por el usuario: \n",
      "----------------------------------\n",
      "Frank Miller, David Mazzucchelli, Richmond Lewis, Dennis O'Neil \n",
      "\t Batman: Year One\n",
      "Frank Miller \n",
      "\t Batman: The Dark Knight Returns #1\n",
      "Mark Waid, Alex Ross, Elliot S. Maggin \n",
      "\t Kingdom Come\n",
      "Frank Miller, Lynn Varley \n",
      "\t 300\n",
      "Philip Roth \n",
      "\t The Human Stain (The American Trilogy, #3)\n",
      "Kurt Busiek, Alex Ross \n",
      "\t Marvels\n",
      "A. Manette Ansay \n",
      "\t Vinegar Hill\n",
      "Michael Blake \n",
      "\t Dances with Wolves (Dances with Wolves, #1)\n",
      "Alexander McCall Smith \n",
      "\t The Full Cupboard of Life (No. 1 Ladies' Detective Agency, #5)\n",
      "Gary Paulsen \n",
      "\t Brian's Winter (Brian's Saga, #3)\n",
      "Richard Russo \n",
      "\t Bridge of Sighs\n",
      "Tracy Chevalier \n",
      "\t Falling Angels\n",
      "Stephen King \n",
      "\t Apt Pupil\n",
      "Dr. Seuss \n",
      "\t And to Think That I Saw it on Mulberry Street\n",
      "\n",
      "\n",
      "Recomendación: \n",
      "----------------------------------\n",
      "Katsuhiro Otomo, Yoko Umezawa, Linda M. York, Jo Duffy \n",
      "\t Akira, Vol. 1\n",
      "Dr. Seuss, לאה נאור \n",
      "\t Green Eggs and Ham\n",
      "John  Williams, John McGahern \n",
      "\t Stoner\n",
      "Scott Snyder, Greg Capullo, Jonathan Glapion, James Tynion IV, Rafael Albuquerque, Jason Fabok, Becky Cloonan, Andy Clarke, Sandu Florea \n",
      "\t Batman, Volume 2: The City of Owls\n",
      "Bryan Lee O'Malley \n",
      "\t Scott Pilgrim, Volume 2: Scott Pilgrim vs. The World\n",
      "Ken Follett \n",
      "\t World Without End (The Kingsbridge Series, #2)\n",
      "Stephen King \n",
      "\t It\n",
      "Dr. Seuss \n",
      "\t I Can Read With My Eyes Shut!\n",
      "Paulette Jiles \n",
      "\t News of the World\n",
      "Alan Moore, Curt Swan, George Pérez, Kurt Schaffenberger \n",
      "\t Superman: Whatever Happened to the Man of Tomorrow?\n"
     ]
    }
   ],
   "source": [
    "print(\"Libros preferidos por el usuario: \")\n",
    "print(\"----------------------------------\")\n",
    "for book in df_goodreads.iloc[books_user_id][['title', 'authors']].itertuples():\n",
    "    print(book.authors, \"\\n\\t\",book.title)\n",
    "    \n",
    "print(\"\\n\\nRecomendación: \")\n",
    "print(\"----------------------------------\")\n",
    "for book in df_goodreads.iloc[rec_books_user_id][['title', 'authors']].itertuples():\n",
    "    print(book.authors, \"\\n\\t\",book.title)   "
   ]
  },
  {
   "cell_type": "markdown",
   "metadata": {},
   "source": [
    "Puede observarse que, efectivamente, los títulos recomendados guardan mucha relación con los títulos valorados positivamente por el usuario. "
   ]
  },
  {
   "cell_type": "markdown",
   "metadata": {},
   "source": [
    "<div style=\"text-align: right\">\n",
    "<a href=\"#indice\"><font size=5><i class=\"fa fa-arrow-circle-up\" aria-hidden=\"true\" style=\"color:#00586D\"></i></font></a>\n",
    "</div>\n",
    "\n",
    "\n",
    "---\n",
    "\n",
    "<a id=\"section5\"></a> \n",
    "##  <font color=\"#00586D\"> 5. Sistema híbrido de recomendación  </font>\n",
    "<br>\n",
    "\n",
    "<br> En el apartado anterior se ha utilizado la valoración media de cada libro para priorizar los vecinos más cercanos. Existe otra posibilidad, que consite en utilizar las valoraciones de los libros obtenidas mediante filtrado colaborativo. Esto constituye un sistema híbrido, ya que se mezclan las dos aproximaciones. Por una parte, se seleccionan libros basados en contenido, y de ellos, se muestra el conjunto para el que se predice una mayor puntuación por parte del usuario.\n",
    "<br>\n",
    "\n",
    "No existe mucho material disponible en relación a este tipo de modelos. Tampoco una librería de referencia, aunque va cobrando popularidad [surprise](http://surpriselib.com/). En primer lugar, se utilizará esta librería para obtener los scores mediante filtrado colaborativo. En concreto, se utilizará el algoritmo SVD (visto en clase). \n",
    "\n",
    "<div class=\"alert alert-block alert-info\">\n",
    "    \n",
    "<i class=\"fa fa-info-circle\" aria-hidden=\"true\"></i> El autor principal de la librería describe en en una serie de artículos [enlace](http://nicolas-hug.com/blog/) como funciona la versión básica de este algoritmo. La lectura es muy recomendable. \n",
    "</div>"
   ]
  },
  {
   "cell_type": "markdown",
   "metadata": {},
   "source": [
    "En la siguiente celda, se cargan los votos  en la estructura `ratings_data` (usada por `surprise`) y se aprende un modelo SVD."
   ]
  },
  {
   "cell_type": "code",
   "execution_count": 37,
   "metadata": {},
   "outputs": [],
   "source": [
    "from surprise import SVD, Dataset, Reader\n",
    "from surprise.model_selection.split import train_test_split\n",
    "\n",
    "reader = Reader()\n",
    "ratings_data = Dataset.load_from_df(df_ratings, reader).build_full_trainset()\n",
    "svd = SVD(n_factors=10)\n",
    "svd.fit(ratings_data);"
   ]
  },
  {
   "cell_type": "markdown",
   "metadata": {},
   "source": [
    "<font color=\"#00586D\"> <i class=\"fa fa-pencil-square-o\" aria-hidden=\"true\" style=\"color:#00586D\"></i> </font> Obtener uno a uno, las valoraciones de los libros similares a los preferidos por el usuario (`similar_books`), y tomar los 10 con más valoración. "
   ]
  },
  {
   "cell_type": "code",
   "execution_count": 38,
   "metadata": {},
   "outputs": [
    {
     "name": "stdout",
     "output_type": "stream",
     "text": [
      "\n",
      "\n",
      "Recomendación: \n",
      "----------------------------------\n",
      "Warren Ellis, Adi Granov \n",
      "\t Iron Man: Extremis\n",
      "Scott Snyder, Greg Capullo, Jonathan Glapion, James Tynion IV, Rafael Albuquerque, Jason Fabok, Becky Cloonan, Andy Clarke, Sandu Florea \n",
      "\t Batman, Volume 2: The City of Owls\n",
      "Jean Craighead George \n",
      "\t My Side of the Mountain (Mountain, #1)\n",
      "Ken Follett \n",
      "\t World Without End (The Kingsbridge Series, #2)\n",
      "Bryan Lee O'Malley \n",
      "\t Scott Pilgrim, Volume 2: Scott Pilgrim vs. The World\n",
      "Alan Moore, Curt Swan, George Pérez, Kurt Schaffenberger \n",
      "\t Superman: Whatever Happened to the Man of Tomorrow?\n",
      "Dr. Seuss, לאה נאור \n",
      "\t Green Eggs and Ham\n",
      "Craig Thompson \n",
      "\t Habibi\n",
      "Katsuhiro Otomo, Yoko Umezawa, Linda M. York, Jo Duffy \n",
      "\t Akira, Vol. 1\n",
      "John  Williams, John McGahern \n",
      "\t Stoner\n"
     ]
    }
   ],
   "source": [
    "scores = np.zeros(similar_books.shape)\n",
    "\n",
    "for i, book_id in enumerate(similar_books):\n",
    "    score = svd.predict(test_user, book_id).est\n",
    "    scores[i] = score\n",
    "    \n",
    "rec_books_user_id = similar_books[scores.argsort()[-11:-1].tolist()]\n",
    "\n",
    "print(\"\\n\\nRecomendación: \")\n",
    "print(\"----------------------------------\")\n",
    "for book in df_goodreads.iloc[rec_books_user_id][['title', 'authors']].itertuples():\n",
    "    print(book.authors, \"\\n\\t\",book.title)    "
   ]
  },
  {
   "cell_type": "markdown",
   "metadata": {},
   "source": [
    "<div><font size=3 color=#00586D> <i class=\"fa fa-check-square-o\" aria-hidden=\"true\"></i></font></div>\n",
    "\n",
    "<div class=\"alert alert-block alert-success\" markdown=1>\n",
    "\n",
    "__Comentarios__. _Correcto_\n",
    "```python\n",
    "\n",
    "```\n",
    "</div>\n"
   ]
  },
  {
   "cell_type": "markdown",
   "metadata": {},
   "source": [
    "<div style=\"text-align: right\">\n",
    "<a href=\"#indice\"><font size=5><i class=\"fa fa-arrow-circle-up\" aria-hidden=\"true\" style=\"color:#00586D\"></i></font></a>\n",
    "</div>\n",
    "\n",
    "\n",
    "---\n",
    "\n",
    "<a id=\"section6\"></a> \n",
    "## <font color=\"#00586D\"> 6. LDA y búsqueda por similaridad </font>\n",
    "<br>\n",
    "\n",
    "LDA permite modelar los grupos que dan lugar al corpus de documentos, de modo que cada documento se representa como una mixtura de las distribuciones de probabilidad de cada grupo, dada por un vector de pesos. Esta representación puede ser utilizada también para caracterizar el documento (en lugar de _tf-idf_) y permite cuantificar la similaridad con otros. Por tanto, también serviría para implementar un sistema de recomendación (basado en contenido o híbrido) similar al anterior.\n",
    "\n",
    "LDA trabaja con la matriz de frecuencias de  términos por documento (_term frecuency_). Por tanto, es necesario primero obtenerla. \n",
    "\n",
    "<font color=\"#00586D\"> <i class=\"fa fa-pencil-square-o\" aria-hidden=\"true\" style=\"color:#00586D\"></i></font> Construir un objeto `CountVectorizer` de `sklearn` y almacenarlo en la variable `cv_vect`.  Obtener la matriz `data_books_cv` a partir de los datos almacenados en `data_books`. Utilizar un tamaño máximo de vocabulario de 5000 (para que LDA no requiera demasiado tiempo y memoria). Almacenar el vocabulario generado en `cv_vect` en la variable `terms`. "
   ]
  },
  {
   "cell_type": "code",
   "execution_count": 39,
   "metadata": {},
   "outputs": [],
   "source": [
    "from sklearn.feature_extraction.text import CountVectorizer\n",
    "\n",
    "cv_vect = CountVectorizer(max_features=5000)\n",
    "\n",
    "data_books_cv = cv_vect.fit_transform(data_books)\n",
    "\n",
    "terms = cv_vect.get_feature_names_out()"
   ]
  },
  {
   "cell_type": "markdown",
   "metadata": {},
   "source": [
    "<div><font size=3 color=#00586D> <i class=\"fa fa-check-square-o\" aria-hidden=\"true\"></i></font></div>\n",
    "\n",
    "<div class=\"alert alert-block alert-success\" markdown=1>\n",
    "\n",
    "__Comentarios__. _Correcto_\n",
    "```python\n",
    "\n",
    "```\n",
    "</div>\n"
   ]
  },
  {
   "cell_type": "markdown",
   "metadata": {},
   "source": [
    "Una vez construida la matriz de frecuencias, se ejecutará el algoritmo LDA, para representar los documentos mediante 20 grupos."
   ]
  },
  {
   "cell_type": "code",
   "execution_count": 40,
   "metadata": {},
   "outputs": [],
   "source": [
    "from sklearn.decomposition import LatentDirichletAllocation\n",
    "\n",
    "# Número de temas\n",
    "n_topics = 20\n",
    "\n",
    "lda = LatentDirichletAllocation(n_components=n_topics, max_iter=20, learning_method='online',\n",
    "                                learning_offset=50., random_state=0, n_jobs=-1)"
   ]
  },
  {
   "cell_type": "markdown",
   "metadata": {},
   "source": [
    " <font color=\"#00586D\"> <i class=\"fa fa-pencil-square-o\" aria-hidden=\"true\" style=\"color:#00586D\"></i></font> Construir el modelo LDA y almacenarlo en la variable `topic_term`. Guardar la representación de los documentos en la variable `data_books_lda`."
   ]
  },
  {
   "cell_type": "code",
   "execution_count": 41,
   "metadata": {},
   "outputs": [
    {
     "name": "stdout",
     "output_type": "stream",
     "text": [
      "Tiempo: 105.746s.\n",
      "Tamaño del modelo: (20, 5000)\n",
      "Tamaño del resultado de la transformación:  (10000, 20)\n"
     ]
    }
   ],
   "source": [
    "from time import time\n",
    "start = time()\n",
    "\n",
    "data_books_lda = lda.fit_transform(data_books_cv)\n",
    "topic_term = lda.components_\n",
    "\n",
    "print(\"Tiempo: {:0.3f}s.\".format(time() - start))\n",
    "print(\"Tamaño del modelo:\", topic_term.shape)\n",
    "print(\"Tamaño del resultado de la transformación: \", data_books_lda.shape)"
   ]
  },
  {
   "cell_type": "markdown",
   "metadata": {},
   "source": [
    "<div><font size=3 color=#00586D> <i class=\"fa fa-check-square-o\" aria-hidden=\"true\"></i></font></div>\n",
    "\n",
    "<div class=\"alert alert-block alert-success\" markdown=1>\n",
    "\n",
    "__Comentarios__. _Correcto_\n",
    "```python\n",
    "\n",
    "```\n",
    "</div>\n"
   ]
  },
  {
   "cell_type": "markdown",
   "metadata": {},
   "source": [
    "La siguiente función (de la práctica de LDA) imprime los términos y scores más importantes para cada grupo."
   ]
  },
  {
   "cell_type": "code",
   "execution_count": 42,
   "metadata": {},
   "outputs": [
    {
     "name": "stdout",
     "output_type": "stream",
     "text": [
      "Grupo:  0\n",
      "----------------------\n",
      "children:     \t0.0753\n",
      "fiction:     \t0.0434\n",
      "childrens:     \t0.0389\n",
      "childhood:     \t0.0296\n",
      "lit:     \t0.0294\n",
      "young:     \t0.0253\n",
      "middle:     \t0.0240\n",
      "kids:     \t0.0218\n",
      "ya:     \t0.0213\n",
      "school:     \t0.0211\n",
      "----------------------\n",
      "\n"
     ]
    }
   ],
   "source": [
    "def topic_relevant_words(topic_id, model, terms, num_words):\n",
    "    print(\"Grupo: \", topic_id)\n",
    "    print(\"----------------------\")\n",
    "    # Extrae las posiciones de los mayores scores. \n",
    "    top_term_ids = model[topic_id,:].argsort()[:-num_words-1:-1]\n",
    "    # Extrae los términos de las posiciones correspondientes\n",
    "    top_terms = [terms[id_term] for id_term in top_term_ids]\n",
    "    # Extrae y calcula los scores\n",
    "    top_scores =  model[topic_id,top_term_ids] / np.sum(model[topic_id,:])\n",
    "    # Imprime los resultados\n",
    "    for term, score in zip(top_terms,top_scores):\n",
    "        print(\"{:s}:     \\t{:.4f}\".format(term,score))\n",
    "    print(\"----------------------\\n\")\n",
    "\n",
    "topic_relevant_words(0,topic_term, terms, 10)"
   ]
  },
  {
   "cell_type": "markdown",
   "metadata": {},
   "source": [
    "#### <font color=\"#00586D\"> Búsqueda del libro más similar </font>\n",
    "\n",
    "<font color=\"#00586D\"> <i class=\"fa fa-pencil-square-o\" aria-hidden=\"true\" style=\"color:#00586D\"></i></font>  Obtener la representación a partir del modelo `lda` del documento `text_query`. Almacenarla en la variable `text_query_lda`. "
   ]
  },
  {
   "cell_type": "code",
   "execution_count": 43,
   "metadata": {},
   "outputs": [
    {
     "data": {
      "text/plain": [
       "array([[3.78787885e-04, 3.78787879e-04, 3.78787882e-04, 3.78787883e-04,\n",
       "        3.74018802e-01, 3.78787879e-04, 3.78787894e-04, 3.78787884e-04,\n",
       "        8.08293164e-02, 3.78787888e-04, 3.78787879e-04, 8.79770315e-02,\n",
       "        3.78787886e-04, 4.04918794e-01, 3.78787879e-04, 4.65742379e-02,\n",
       "        3.78787883e-04, 3.78787884e-04, 3.78787879e-04, 3.78787881e-04]])"
      ]
     },
     "execution_count": 43,
     "metadata": {},
     "output_type": "execute_result"
    }
   ],
   "source": [
    "text_query_lda = lda.transform(cv_vect.transform([text_query]))\n",
    "text_query_lda"
   ]
  },
  {
   "cell_type": "markdown",
   "metadata": {},
   "source": [
    "<div><font size=3 color=#00586D> <i class=\"fa fa-check-square-o\" aria-hidden=\"true\"></i></font></div>\n",
    "\n",
    "<div class=\"alert alert-block alert-success\" markdown=1>\n",
    "\n",
    "__Comentarios__. _Correcto_\n",
    "```python\n",
    "\n",
    "```\n",
    "</div>\n"
   ]
  },
  {
   "cell_type": "markdown",
   "metadata": {},
   "source": [
    "<font color=\"#00586D\"> <i class=\"fa fa-pencil-square-o\" aria-hidden=\"true\" style=\"color:#00586D\"></i></font> Mostrar las características de los tres grupos más relevantes en el texto `text_query`. "
   ]
  },
  {
   "cell_type": "code",
   "execution_count": 44,
   "metadata": {},
   "outputs": [
    {
     "name": "stdout",
     "output_type": "stream",
     "text": [
      "Tema 13: [0.05000001 0.05000001 0.05       ... 0.05       0.05       0.05      ]\n",
      "Tema 4: [0.05 0.05 0.05 ... 0.05 0.05 0.05]\n",
      "Tema 11: [0.05000001 0.05000006 0.05000001 ... 0.05       0.05       0.05      ]\n"
     ]
    }
   ],
   "source": [
    "top_topics = text_query_lda.argsort()[:, -3:]\n",
    "top_topics = top_topics[0][::-1]\n",
    "for topic in top_topics:\n",
    "    print(\"Tema {}: {}\".format(topic, lda.components_[topic]))"
   ]
  },
  {
   "cell_type": "markdown",
   "metadata": {},
   "source": [
    "<div><font size=3 color=#00586D> <i class=\"fa fa-check-square-o\" aria-hidden=\"true\"></i></font></div>\n",
    "\n",
    "<div class=\"alert alert-block alert-success\" markdown=1>\n",
    "\n",
    "__Comentarios__. Aquí se pedía utilizar topic_relevant_words. Si no, no se ve nada.\n",
    "```python\n",
    "\n",
    "```\n",
    "</div>\n"
   ]
  },
  {
   "cell_type": "markdown",
   "metadata": {},
   "source": [
    "<font color=\"#00586D\"> <i class=\"fa fa-pencil-square-o\" aria-hidden=\"true\" style=\"color:#00586D\"></i></font> Calcular las similaridades (distancia_euclídea) del documento `text_query_lda` con el resto de documentos en la matriz `data_books_lda`, y almacenarlas en un vector denominado `similarities_lda`."
   ]
  },
  {
   "cell_type": "code",
   "execution_count": 45,
   "metadata": {},
   "outputs": [],
   "source": [
    "from sklearn.metrics.pairwise import euclidean_distances\n",
    "\n",
    "similarities_lda = euclidean_distances(text_query_lda, data_books_lda)[0]"
   ]
  },
  {
   "cell_type": "markdown",
   "metadata": {},
   "source": [
    "<div><font size=3 color=#00586D> <i class=\"fa fa-check-square-o\" aria-hidden=\"true\"></i></font></div>\n",
    "\n",
    "<div class=\"alert alert-block alert-success\" markdown=1>\n",
    "\n",
    "__Comentarios__. _Correcto_\n",
    "```python\n",
    "\n",
    "```\n",
    "</div>\n"
   ]
  },
  {
   "cell_type": "markdown",
   "metadata": {},
   "source": [
    "<font color=\"#00586D\"> <i class=\"fa fa-pencil-square-o\" aria-hidden=\"true\" style=\"color:#00586D\"></i></font> Obtener los índices de los 10 libros más similares a `text_query`. Hay que tener en cuenta que `euclidean_distances` devuelve distancias, no similaridades, por lo que hay que tomar los primeros índices. "
   ]
  },
  {
   "cell_type": "code",
   "execution_count": 46,
   "metadata": {},
   "outputs": [
    {
     "data": {
      "text/plain": [
       "book_id\n",
       "2                                 Twilight (Twilight, #1)\n",
       "9284                       Redeemed (House of Night, #12)\n",
       "2683                        Shadowland (The Mediator, #1)\n",
       "8163           Endless Knight (The Arcana Chronicles, #2)\n",
       "7372    A Court of Wings and Ruin (A Court of Thorns a...\n",
       "4407                          Dreamless (Starcrossed, #2)\n",
       "5371                           Reunion (The Mediator, #3)\n",
       "1555                                       Opal (Lux, #3)\n",
       "3815           End of Days (Penryn & the End of Days, #3)\n",
       "9919                 Dream Dark (Caster Chronicles, #2.5)\n",
       "Name: title, dtype: object"
      ]
     },
     "execution_count": 46,
     "metadata": {},
     "output_type": "execute_result"
    }
   ],
   "source": [
    "top_similarities = similarities_lda.argsort()[:10]\n",
    "\n",
    "df_goodreads.iloc[top_similarities]['title']"
   ]
  },
  {
   "cell_type": "markdown",
   "metadata": {},
   "source": [
    "<div><font size=3 color=#00586D> <i class=\"fa fa-check-square-o\" aria-hidden=\"true\"></i></font></div>\n",
    "\n",
    "<div class=\"alert alert-block alert-success\" markdown=1>\n",
    "\n",
    "__Comentarios__. _Correcto_\n",
    "```python\n",
    "\n",
    "```\n",
    "</div>\n"
   ]
  },
  {
   "cell_type": "markdown",
   "metadata": {},
   "source": [
    "En este caso las recomendaciones no son tan evidentes. Sin embargo, se aprecia que la temática es muy parecida a la de _\"Twilight\"_."
   ]
  },
  {
   "cell_type": "markdown",
   "metadata": {},
   "source": [
    "<div style=\"text-align: right\">\n",
    "<a href=\"#indice\"><font size=5><i class=\"fa fa-arrow-circle-up\" aria-hidden=\"true\" style=\"color:#00586D\"></i></font></a>\n",
    "</div>\n",
    "\n",
    "---\n",
    "\n",
    "<div style=\"text-align: right\"> <font size=6><i class=\"fa fa-coffee\" aria-hidden=\"true\" style=\"color:#00586D\"></i> </font></div>"
   ]
  }
 ],
 "metadata": {
  "kernelspec": {
   "display_name": "Python 3 (ipykernel)",
   "language": "python",
   "name": "python3"
  },
  "language_info": {
   "codemirror_mode": {
    "name": "ipython",
    "version": 3
   },
   "file_extension": ".py",
   "mimetype": "text/x-python",
   "name": "python",
   "nbconvert_exporter": "python",
   "pygments_lexer": "ipython3",
   "version": "3.11.3"
  }
 },
 "nbformat": 4,
 "nbformat_minor": 2
}
